{
 "cells": [
  {
   "cell_type": "code",
   "execution_count": 10,
   "metadata": {},
   "outputs": [],
   "source": [
    "import pandas as pd\n",
    "import os\n",
    "from functools import reduce"
   ]
  },
  {
   "cell_type": "code",
   "execution_count": 11,
   "metadata": {},
   "outputs": [],
   "source": [
    "paths = os.listdir('Energetika/weather_data/')"
   ]
  },
  {
   "cell_type": "code",
   "execution_count": 12,
   "metadata": {},
   "outputs": [],
   "source": [
    "dfs = []\n",
    "\n",
    "for path in paths:\n",
    "    if path.endswith('.csv'):\n",
    "        df = pd.read_csv(f'Energetika/weather_data/{path}')\n",
    "        df['Date'] = df['Year'].astype(str) + '/' + df['Month'].astype(str).str.zfill(2) + '/' + df['Day'].astype(str).str.zfill(2)\n",
    "        trunc_df = df[df['Year'] > 2022]\n",
    "        trunc_df = trunc_df[['Date', 'Value']]\n",
    "        trunc_df = trunc_df.rename(columns={'Value':path.split('_')[0]})\n",
    "        dfs.append(trunc_df)\n",
    "    else:\n",
    "        print(path)\n",
    "\n",
    "df = reduce(lambda left, right: pd.merge(left, right, on='Date'), dfs)\n"
   ]
  },
  {
   "cell_type": "code",
   "execution_count": 13,
   "metadata": {},
   "outputs": [],
   "source": [
    "df.to_csv('Energetika/weather.csv', index=False)"
   ]
  }
 ],
 "metadata": {
  "kernelspec": {
   "display_name": ".venv",
   "language": "python",
   "name": "python3"
  },
  "language_info": {
   "codemirror_mode": {
    "name": "ipython",
    "version": 3
   },
   "file_extension": ".py",
   "mimetype": "text/x-python",
   "name": "python",
   "nbconvert_exporter": "python",
   "pygments_lexer": "ipython3",
   "version": "3.12.3"
  }
 },
 "nbformat": 4,
 "nbformat_minor": 2
}
