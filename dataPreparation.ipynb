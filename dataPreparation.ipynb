{
 "cells": [
  {
   "cell_type": "code",
   "execution_count": 2,
   "metadata": {},
   "outputs": [],
   "source": [
    "import pandas as pd"
   ]
  },
  {
   "cell_type": "code",
   "execution_count": null,
   "metadata": {},
   "outputs": [],
   "source": [
    "import os\n",
    "\n",
    "def extract_col(col: str) -> str:\n",
    "    return col.split('_')[2].split('.')[0]\n",
    "\n",
    "prod_list = os.listdir('Energetika/produkce')\n",
    "prod_labels = [extract_col(col) for col in prod_list]"
   ]
  },
  {
   "cell_type": "code",
   "execution_count": null,
   "metadata": {},
   "outputs": [],
   "source": [
    "dfs = {}\n",
    "\n",
    "for path,label in zip(prod_list, prod_labels):\n",
    "    df = pd.read_csv(f'Energetika/produkce/{path}').drop(columns=['Unnamed: 0'])\n",
    "    df['timestamp'] = pd.to_datetime(df['timestamp'])\n",
    "    df.columns = [f'{col}_{label}' if col != 'timestamp' else col for col in df.columns]\n",
    "    dfs[extract_col(path)] = df\n",
    "\n",
    "from functools import reduce\n",
    "df = reduce(lambda left, right: pd.merge(left, right, on='timestamp'), dfs.values())\n",
    "df\n"
   ]
  },
  {
   "cell_type": "code",
   "execution_count": 15,
   "metadata": {},
   "outputs": [],
   "source": [
    "df.to_csv('Energetika/produkce.csv', index=False)"
   ]
  },
  {
   "cell_type": "code",
   "execution_count": null,
   "metadata": {},
   "outputs": [],
   "source": [
    "cons = pd.read_csv('Energetika/beroun_counsumptions.csv').drop(columns=['Unnamed: 0'])\n",
    "cons['timestamp'] = pd.to_datetime(cons['timestamp'])\n",
    "cons.columns = [f'cons_{col}' if col != 'timestamp' else col for col in cons.columns]"
   ]
  },
  {
   "cell_type": "code",
   "execution_count": null,
   "metadata": {},
   "outputs": [],
   "source": [
    "df_all = pd.merge(cons, df, on='timestamp')\n"
   ]
  },
  {
   "cell_type": "code",
   "execution_count": 19,
   "metadata": {},
   "outputs": [],
   "source": [
    "# During exploratory analysis it was found that there are some duplicates in the data\n",
    "\n",
    "df_all = df_all.drop_duplicates(subset='timestamp')"
   ]
  },
  {
   "cell_type": "code",
   "execution_count": 20,
   "metadata": {},
   "outputs": [],
   "source": [
    "df_all.to_csv('Energetika/prod_cons.csv', index=False)"
   ]
  }
 ],
 "metadata": {
  "kernelspec": {
   "display_name": ".venv",
   "language": "python",
   "name": "python3"
  },
  "language_info": {
   "codemirror_mode": {
    "name": "ipython",
    "version": 3
   },
   "file_extension": ".py",
   "mimetype": "text/x-python",
   "name": "python",
   "nbconvert_exporter": "python",
   "pygments_lexer": "ipython3",
   "version": "3.12.3"
  }
 },
 "nbformat": 4,
 "nbformat_minor": 2
}
