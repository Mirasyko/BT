{
 "cells": [
  {
   "cell_type": "code",
   "execution_count": 40,
   "metadata": {},
   "outputs": [],
   "source": [
    "from bs4 import BeautifulSoup\n",
    "import pandas as pd\n"
   ]
  },
  {
   "cell_type": "code",
   "execution_count": 41,
   "metadata": {},
   "outputs": [],
   "source": [
    "html_path = 'Energetika/backUp/SunSetSunRise.html'\n",
    "with open(html_path, 'r', encoding='ISO-8859-2') as f:\n",
    "    html = f.read()\n",
    "parsed_html = BeautifulSoup(html)"
   ]
  },
  {
   "cell_type": "code",
   "execution_count": 42,
   "metadata": {},
   "outputs": [],
   "source": [
    "td_elements = parsed_html.find_all('td', class_='shadow')\n",
    "for td in td_elements:\n",
    "    data = []\n",
    "    for td in td_elements:\n",
    "        text = td.text.strip()\n",
    "        parts = text.split('Východ:')\n",
    "        if len(parts) > 1:\n",
    "            day = parts[0].strip()\n",
    "            times = parts[1].split('Západ:')\n",
    "            sunrise = times[0].strip()\n",
    "            sunset = times[1].strip()\n",
    "            data.append([day, sunrise, sunset])\n",
    "\n",
    "    df = pd.DataFrame(data, columns=['Day', 'SunRise','SunSet'])\n",
    "    df['Day'] = df['Day'].apply(lambda x: x.split('.')[1] if '.' in x else x)"
   ]
  },
  {
   "cell_type": "code",
   "execution_count": 43,
   "metadata": {},
   "outputs": [],
   "source": [
    "date_range = pd.date_range(start='2023-01-01', end='2023-12-31')\n",
    "df['Date'] = date_range\n",
    "df['SunRise'] = pd.to_datetime(df['Date'].astype(str) + ' ' + df['SunRise'], format='%Y-%m-%d %H:%M')\n",
    "df['SunSet'] = pd.to_datetime(df['Date'].astype(str) + ' ' + df['SunSet'], format='%Y-%m-%d %H:%M')\n",
    "df['Daylight'] = df['SunSet'] - df['SunRise'] # Compute the daylight duration\n",
    "df['DaylightMinutes'] = df['Daylight'].dt.total_seconds() / 60 # Convert daylight duration to minutes\n"
   ]
  },
  {
   "cell_type": "code",
   "execution_count": 48,
   "metadata": {},
   "outputs": [],
   "source": [
    "df = df[['Date', 'SunRise', 'SunSet', 'Daylight', 'DaylightMinutes']]\n",
    "df.to_csv('Energetika/SunSetSunRise.csv', index=False)"
   ]
  }
 ],
 "metadata": {
  "kernelspec": {
   "display_name": ".venv",
   "language": "python",
   "name": "python3"
  },
  "language_info": {
   "codemirror_mode": {
    "name": "ipython",
    "version": 3
   },
   "file_extension": ".py",
   "mimetype": "text/x-python",
   "name": "python",
   "nbconvert_exporter": "python",
   "pygments_lexer": "ipython3",
   "version": "3.12.3"
  }
 },
 "nbformat": 4,
 "nbformat_minor": 2
}
