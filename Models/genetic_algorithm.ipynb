{
 "cells": [
  {
   "cell_type": "markdown",
   "metadata": {},
   "source": [
    "Solve given problem using genetic algorithm.\n",
    "\n",
    "### Data Inputs:\n",
    "\n",
    "- excess: 15-minute time-series data on producer energy supply. Columns are producer IDs.\n",
    "- deficit: 15-minute time-series data on consumer energy demand. Columns are consumer IDs.\n",
    "\n",
    "Each consumer can receive energy from up to 5 producers.\n",
    "\n",
    "***Preferences are integers***:\n",
    "\n",
    "- 5 = highest priority,\n",
    "- 1 = lowest priority,\n",
    "- 0 = no connection.\n",
    "\n",
    "### Model Requirements:\n",
    "\n",
    "1. **Decision Variables**:\n",
    "\n",
    "- Priority matrix, Subscribers have preference vectors for up to 5 producers.\n",
    "- Weight matrix, according which producers distribute energy\n",
    "\n",
    "2. **Constraints**:\n",
    "\n",
    "- A consumer can only receive energy from producers they are connected to (preference > 0).\n",
    "- A consumer can only receive energy up to their demand.\n",
    "- A producer can only distribute up to their available supply.\n",
    "- Respect the fixed limit of 5 connections per consumer.\n",
    "- Honor preference ordering if possible (e.g. prioritize higher-ranked producers).\n",
    "\n",
    "3. **Objective Function**:\n",
    "\n",
    "- Minimize the total unredistributed energy across all timestamps:\n",
    "- Energy left with producers due to no eligible or matching demand.\n",
    "- Unmet demand from consumers.\n",
    "\n",
    "4. **Iteration**:\n",
    "\n",
    "- The model must simulate distribution for each 15-minute interval (2880 time steps).\n",
    "- After each time step:\n",
    "- Update producer availability and consumer demand.\n",
    "- Re-apply constraints and solve again (unless a single larger model across time steps is more efficient).\n",
    "\n",
    "### Output:\n",
    "\n",
    "- A feasible weight matrix and priority matrix\n",
    "- Total unredistributed energy over the full month.\n",
    "- A breakdown of which consumers didn’t receive their full demand and which producers had unused energy. All of this output to a file for later analysis.\n",
    "\n",
    "### Details:\n",
    "\n",
    "Producers have weight vectors for distributing energy. Subscribers have preference vectors for up to 5 producers.The function evaluates the energy distribution for each timestamp, calculates unredistributed energy, and tracks remaining demand for each subscriber.\n",
    "\n",
    "### Process Simulation:\n",
    "\n",
    "Every 15 minutes (96 times/day, ~2880 times/month), the system redistributes energy:\n",
    "\n",
    "- Producers distribute energy according to their weight vectors.\n",
    "- Subscribers take energy based on their preferences if they have unmet demand.\n",
    "- Track unredistributed energy (demand that couldn't be met).\n"
   ]
  },
  {
   "cell_type": "markdown",
   "metadata": {},
   "source": [
    "I have to make a simulation like this:\n",
    "\n",
    "```\n",
    "For each of 5 iterations:\n",
    "    For each consumer:\n",
    "        1. gather producers\n",
    "        2. calculate vector of possible allocation\n",
    "        3. For each producer based on priority:\n",
    "           1. give energy to consumer if needed\n",
    "           2. Adjust your available energy\n",
    "-> collect unused energy as a fitness.\n",
    "```"
   ]
  },
  {
   "cell_type": "code",
   "execution_count": null,
   "metadata": {},
   "outputs": [],
   "source": [
    "import numpy as np\n",
    "\n",
    "def control_simulation(excess_t, deficit_t, weights, preferences, rounds=5):\n",
    "    supply = excess_t.copy()\n",
    "    demand = deficit_t.copy()\n",
    "\n",
    "    allocations = np.zeros((rounds, len(supply), len(demand)))\n",
    "\n",
    "\n",
    "    for r in range(rounds):\n",
    "        print(f\"\\n=== Round {r + 1} ===\")\n",
    "\n",
    "        # Each producer distributes supply according to static weights\n",
    "        producer_offer = np.zeros(( len(supply), len(demand)))\n",
    "        for i, producer in enumerate(supply):\n",
    "            if supply[producer] > 0:\n",
    "                producer_offer[i] = supply[producer] * weights[i]\n",
    "\n",
    "        # Consumers take energy from preferred producers\n",
    "        for j, consumer in enumerate(demand):\n",
    "            if demand[consumer] <= 0:\n",
    "                continue  # Already fulfilled\n",
    "\n",
    "            for pref in preferences[j]:\n",
    "                if pref == -1:\n",
    "                    continue\n",
    "\n",
    "                offer = producer_offer[pref][j]\n",
    "                if offer <= 0:\n",
    "                    continue\n",
    "\n",
    "                take = min(offer, demand[consumer])\n",
    "\n",
    "                # Allocate and update\n",
    "                allocations[r][pref][j] += take\n",
    "                producer_offer[pref][j] -= take\n",
    "                supply[pref] -= take\n",
    "                demand[j] -= take\n",
    "\n",
    "                print(f\"Consumer {j} takes {take:.1f} from Producer {pref}\")\n",
    "\n",
    "                if demand[j] <= 0:\n",
    "                    break  # Move to next consumer"
   ]
  },
  {
   "cell_type": "code",
   "execution_count": null,
   "metadata": {},
   "outputs": [
    {
     "name": "stdout",
     "output_type": "stream",
     "text": [
      "\n",
      "=== Round 1 ===\n",
      "Consumer 0 takes 7.5 from Producer 0\n",
      "Consumer 1 takes 1.0 from Producer 0\n",
      "Consumer 2 takes 2.0 from Producer 1\n",
      "Consumer 3 takes 8.0 from Producer 1\n",
      "Consumer 3 takes 4.5 from Producer 0\n",
      "Consumer 4 takes 1.6 from Producer 1\n",
      "Consumer 5 takes 1.6 from Producer 1\n",
      "Consumer 6 takes 0.8 from Producer 0\n",
      "Consumer 7 takes 0.8 from Producer 0\n",
      "\n",
      "=== Round 2 ===\n",
      "Consumer 0 takes 0.2 from Producer 0\n",
      "Consumer 3 takes 1.4 from Producer 1\n",
      "Consumer 3 takes 0.1 from Producer 0\n",
      "Consumer 4 takes 0.3 from Producer 1\n",
      "Consumer 5 takes 0.3 from Producer 1\n",
      "Consumer 6 takes 0.0 from Producer 0\n",
      "Consumer 7 takes 0.0 from Producer 0\n",
      "\n",
      "=== Round 3 ===\n",
      "Consumer 0 takes 0.1 from Producer 0\n",
      "Consumer 4 takes 0.1 from Producer 1\n",
      "Consumer 5 takes 0.1 from Producer 1\n",
      "Consumer 6 takes 0.0 from Producer 0\n",
      "Consumer 7 takes 0.0 from Producer 0\n",
      "\n",
      "=== Round 4 ===\n",
      "Consumer 0 takes 0.0 from Producer 0\n",
      "Consumer 4 takes 0.1 from Producer 1\n",
      "Consumer 5 takes 0.1 from Producer 1\n",
      "Consumer 6 takes 0.0 from Producer 0\n",
      "Consumer 7 takes 0.0 from Producer 0\n",
      "\n",
      "=== Round 5 ===\n",
      "Consumer 0 takes 0.0 from Producer 0\n",
      "Consumer 4 takes 0.1 from Producer 1\n",
      "Consumer 5 takes 0.1 from Producer 1\n",
      "Consumer 6 takes 0.0 from Producer 0\n",
      "Consumer 7 takes 0.0 from Producer 0\n",
      "\n",
      "=== Final Allocations ===\n",
      "\n",
      "Round 1:\n",
      "  Producer 0 → Consumer 0: 7.5\n",
      "  Producer 0 → Consumer 1: 1.0\n",
      "  Producer 0 → Consumer 3: 4.5\n",
      "  Producer 0 → Consumer 6: 0.8\n",
      "  Producer 0 → Consumer 7: 0.8\n",
      "  Producer 1 → Consumer 2: 2.0\n",
      "  Producer 1 → Consumer 3: 8.0\n",
      "  Producer 1 → Consumer 4: 1.6\n",
      "  Producer 1 → Consumer 5: 1.6\n",
      "\n",
      "Round 2:\n",
      "  Producer 0 → Consumer 0: 0.2\n",
      "  Producer 0 → Consumer 3: 0.1\n",
      "  Producer 0 → Consumer 6: 0.0\n",
      "  Producer 0 → Consumer 7: 0.0\n",
      "  Producer 1 → Consumer 3: 1.4\n",
      "  Producer 1 → Consumer 4: 0.3\n",
      "  Producer 1 → Consumer 5: 0.3\n",
      "\n",
      "Round 3:\n",
      "  Producer 0 → Consumer 0: 0.1\n",
      "  Producer 0 → Consumer 6: 0.0\n",
      "  Producer 0 → Consumer 7: 0.0\n",
      "  Producer 1 → Consumer 4: 0.1\n",
      "  Producer 1 → Consumer 5: 0.1\n",
      "\n",
      "Round 4:\n",
      "  Producer 0 → Consumer 0: 0.0\n",
      "  Producer 0 → Consumer 6: 0.0\n",
      "  Producer 0 → Consumer 7: 0.0\n",
      "  Producer 1 → Consumer 4: 0.1\n",
      "  Producer 1 → Consumer 5: 0.1\n",
      "\n",
      "Round 5:\n",
      "  Producer 0 → Consumer 0: 0.0\n",
      "  Producer 0 → Consumer 6: 0.0\n",
      "  Producer 0 → Consumer 7: 0.0\n",
      "  Producer 1 → Consumer 4: 0.1\n",
      "  Producer 1 → Consumer 5: 0.1\n",
      "\n",
      "Remaining supply per producer: [0.0064  0.43008]\n",
      "Unmet demand per consumer: [2.172   0.      0.      0.      1.91504 0.91504 0.2172  0.2172 ]\n"
     ]
    }
   ],
   "source": [
    "import numpy as np\n",
    "\n",
    "# Setup\n",
    "num_producers = 2\n",
    "num_consumers = 8\n",
    "rounds = 5\n",
    "\n",
    "# Supply per producer\n",
    "producer_supply = np.array([15., 16.])  # Producer 0 and 1\n",
    "\n",
    "# Demand per consumer\n",
    "consumer_demand = np.array([10., 1., 2., 14., 4., 3., 1., 1.])\n",
    "\n",
    "# Static weight vectors for each producer\n",
    "producer_weights = np.array([\n",
    "    [0.5, 0.1, 0., 0.3, 0., 0., 0.05, 0.05],  # Producer 0\n",
    "    [0., 0., 0.3, 0.5, 0.1, 0.1, 0., 0.],     # Producer 1\n",
    "])\n",
    "\n",
    "# Preferences: each consumer's top 5 producers (use -1 for unconnected)\n",
    "consumer_preferences = [\n",
    "    [0, 1, -1, -1, -1], \n",
    "    [1, 0, -1, -1, -1], \n",
    "    [0, 1, -1, -1, -1], \n",
    "    [1, 0, -1, -1, -1], \n",
    "    [0, 1, -1, -1, -1], \n",
    "    [0, 1, -1, -1, -1], \n",
    "    [1, 0, -1, -1, -1], \n",
    "    [1, 0, -1, -1, -1],\n",
    "]\n",
    "\n",
    "# Track allocations\n",
    "allocations = np.zeros((rounds, num_producers, num_consumers))\n",
    "\n",
    "# Copy state\n",
    "supply = producer_supply.copy()\n",
    "demand = consumer_demand.copy()\n",
    "\n",
    "for r in range(rounds):\n",
    "    print(f\"\\n=== Round {r + 1} ===\")\n",
    "\n",
    "    # Each producer distributes supply according to static weights\n",
    "    producer_offer = np.zeros((num_producers, num_consumers))\n",
    "    for i in range(num_producers):\n",
    "        if supply[i] > 0:\n",
    "            producer_offer[i] = supply[i] * producer_weights[i]\n",
    "\n",
    "    # Consumers take energy from preferred producers\n",
    "    for j in range(num_consumers):\n",
    "        if demand[j] <= 0:\n",
    "            continue  # Already fulfilled\n",
    "\n",
    "        for pref in consumer_preferences[j]:\n",
    "            if pref == -1:\n",
    "                continue\n",
    "\n",
    "            offer = producer_offer[pref][j]\n",
    "            if offer <= 0:\n",
    "                continue\n",
    "\n",
    "            take = min(offer, demand[j])\n",
    "\n",
    "            # Allocate and update\n",
    "            allocations[r][pref][j] += take\n",
    "            producer_offer[pref][j] -= take\n",
    "            supply[pref] -= take\n",
    "            demand[j] -= take\n",
    "\n",
    "            print(f\"Consumer {j} takes {take:.1f} from Producer {pref}\")\n",
    "\n",
    "            if demand[j] <= 0:\n",
    "                break  # Move to next consumer\n",
    "\n",
    "# === Final Reporting ===\n",
    "print(\"\\n=== Final Allocations ===\")\n",
    "for r in range(rounds):\n",
    "    print(f\"\\nRound {r + 1}:\")\n",
    "    for i in range(num_producers):\n",
    "        for j in range(num_consumers):\n",
    "            amount = allocations[r][i][j]\n",
    "            if amount > 0:\n",
    "                print(f\"  Producer {i} → Consumer {j}: {amount:.1f}\")\n",
    "\n",
    "print(\"\\nRemaining supply per producer:\", supply)\n",
    "print(\"Unmet demand per consumer:\", demand)\n"
   ]
  },
  {
   "cell_type": "code",
   "execution_count": null,
   "metadata": {},
   "outputs": [],
   "source": []
  },
  {
   "cell_type": "code",
   "execution_count": null,
   "metadata": {},
   "outputs": [],
   "source": []
  },
  {
   "cell_type": "code",
   "execution_count": null,
   "metadata": {},
   "outputs": [],
   "source": []
  },
  {
   "cell_type": "code",
   "execution_count": null,
   "metadata": {},
   "outputs": [],
   "source": [
    "num_consumers = 8\n",
    "rounds = 5\n",
    "\n",
    "# Supply per producer\n",
    "producer_supply = np.array([15., 16.])  # Producer 0 and 1\n",
    "\n",
    "# Demand per consumer\n",
    "consumer_demand = np.array([10., 1., 2., 14., 4., 3., 1., 1.])\n",
    "\n",
    "# Static weight vectors for each producer\n",
    "producer_weights = np.array([\n",
    "    [0.5, 0.1, 0., 0.3, 0., 0., 0.05, 0.05],  # Producer 0\n",
    "    [0., 0., 0.3, 0.5, 0.1, 0.1, 0., 0.],     # Producer 1\n",
    "])\n",
    "\n",
    "# Preferences: each consumer's top 5 producers (use -1 for unconnected)\n",
    "consumer_preferences = [\n",
    "    [0, 1, -1, -1, -1], \n",
    "    [1, 0, -1, -1, -1], \n",
    "    [0, 1, -1, -1, -1], \n",
    "    [1, 0, -1, -1, -1], \n",
    "    [0, 1, -1, -1, -1], \n",
    "    [0, 1, -1, -1, -1], \n",
    "    [1, 0, -1, -1, -1], \n",
    "    [1, 0, -1, -1, -1],\n",
    "]\n",
    "\n",
    "# Track allocations\n",
    "allocations = np.zeros((rounds, num_producers, num_consumers))\n",
    "\n",
    "# Copy state\n",
    "supply = producer_supply.copy()\n",
    "demand = consumer_demand.copy()\n",
    "\n",
    "for r in range(rounds):\n",
    "    print(f\"\\n=== Round {r + 1} ===\")\n",
    "\n",
    "    # Each producer distributes supply according to static weights\n",
    "    producer_offer = np.zeros((num_producers, num_consumers))\n",
    "    for i in range(num_producers):\n",
    "        if supply[i] > 0:\n",
    "            producer_offer[i] = supply[i] * producer_weights[i]\n",
    "\n",
    "    # Consumers take energy from preferred producers\n",
    "    for j in range(num_consumers):\n",
    "        if demand[j] <= 0:\n",
    "            continue  # Already fulfilled\n",
    "\n",
    "        for pref in consumer_preferences[j]:\n",
    "            if pref == -1:\n",
    "                continue\n",
    "\n",
    "            offer = producer_offer[pref][j]\n",
    "            if offer <= 0:\n",
    "                continue\n",
    "\n",
    "            take = min(offer, demand[j])\n",
    "\n",
    "            # Allocate and update\n",
    "            allocations[r][pref][j] += take\n",
    "            producer_offer[pref][j] -= take\n",
    "            supply[pref] -= take\n",
    "            demand[j] -= take\n",
    "\n",
    "            print(f\"Consumer {j} takes {take:.1f} from Producer {pref}\")\n",
    "\n",
    "            if demand[j] <= 0:\n",
    "                break  # Move to next consumer\n",
    "\n",
    "# === Final Reporting ===\n",
    "print(\"\\n=== Final Allocations ===\")\n",
    "for r in range(rounds):\n",
    "    print(f\"\\nRound {r + 1}:\")\n",
    "    for i in range(num_producers):\n",
    "        for j in range(num_consumers):\n",
    "            amount = allocations[r][i][j]\n",
    "            if amount > 0:\n",
    "                print(f\"  Producer {i} → Consumer {j}: {amount:.1f}\")\n",
    "\n",
    "print(\"\\nRemaining supply per producer:\", supply)\n",
    "print(\"Unmet demand per consumer:\", demand)\n"
   ]
  },
  {
   "cell_type": "code",
   "execution_count": 2,
   "metadata": {},
   "outputs": [],
   "source": [
    "import pandas as pd\n",
    "import numpy as np\n",
    "\n",
    "excess = pd.read_csv('/home/miro/Bachelor/BT/Analysis/data/outputs/excess.csv')\n",
    "deficit = pd.read_csv('/home/miro/Bachelor/BT/Analysis/data/outputs/deficit.csv')\n",
    "\n",
    "producers = list(excess.columns[1:])\n",
    "consumers = list(deficit.columns[1:])"
   ]
  },
  {
   "cell_type": "code",
   "execution_count": null,
   "metadata": {},
   "outputs": [],
   "source": [
    "def generate_weights(producers, consumers):\n",
    "    weights = {}\n",
    "    for producer in producers:\n",
    "        assigned_weights = np.random.dirichlet(np.ones(len(consumers)), size=1)[0]  # Ensures sum = 1\n",
    "        weights[producer] = dict(zip(consumers, assigned_weights))\n",
    "    return weights\n",
    "\n",
    "weights = generate_weights(producers, consumers)\n",
    "\n",
    "def generate_preferences(producers, consumers):\n",
    "    preferences = {}\n",
    "    for consumer in consumers:\n",
    "        preferred_producers = np.random.choice(producers, size=5, replace=False)\n",
    "        preference_values = np.random.permutation([5, 4, 3, 2, 1])\n",
    "        preferences[consumer] = dict(zip(preferred_producers, preference_values))\n",
    "    return preferences\n",
    "\n",
    "preferences = generate_preferences(producers, consumers)\n",
    "\n",
    "\n",
    "num_iterations = len(excess)\n",
    "unredistributed_energy = []\n"
   ]
  },
  {
   "cell_type": "code",
   "execution_count": 9,
   "metadata": {},
   "outputs": [],
   "source": [
    "timestamps = excess['timestamp'].values[12000:12000+94*30]\n",
    "t = timestamps[60]"
   ]
  },
  {
   "cell_type": "code",
   "execution_count": null,
   "metadata": {},
   "outputs": [
    {
     "data": {
      "text/plain": [
       "{'zs_preislerova': 0.0097591374866565,\n",
       " 'zs_komenskeho': 0.0,\n",
       " 'ms_preislerova': 0.0098650279610302,\n",
       " 'ms_pod_homolkou': 0.0023464378304447,\n",
       " 'ms_vrchlickeho': 0.0018536020356289,\n",
       " 'ms_drasarova': 0.0043899947469958,\n",
       " 'ms_na_machovne': 0.0013770477141664,\n",
       " 'zimni_stad': 0.0203570356331952,\n",
       " 'parkovaci_dum': 0.0,\n",
       " 'radnice': 0,\n",
       " 'ms_tovarni': 0,\n",
       " 'dum_pro_duchodce': 0,\n",
       " 'plavecky_areal': 0,\n",
       " 'pristavba_preislerova': 0.0114972}"
      ]
     },
     "execution_count": 13,
     "metadata": {},
     "output_type": "execute_result"
    }
   ],
   "source": [
    "excess.iloc[12060].drop('timestamp').to_dict()\n"
   ]
  },
  {
   "cell_type": "code",
   "execution_count": 14,
   "metadata": {},
   "outputs": [
    {
     "data": {
      "text/plain": [
       "{'zs_preislerova': 0.0,\n",
       " 'zs_komenskeho': 0.0004561419116203,\n",
       " 'ms_preislerova': 0.0,\n",
       " 'ms_pod_homolkou': 0.0,\n",
       " 'ms_vrchlickeho': 0.0,\n",
       " 'ms_drasarova': 0.0,\n",
       " 'ms_na_machovne': 0.0,\n",
       " 'zimni_stad': 0.0,\n",
       " 'parkovaci_dum': 0.0027949328688059,\n",
       " 'radnice': 0.0071286052099456,\n",
       " 'ms_tovarni': 0.000428667194061,\n",
       " 'dum_pro_duchodce': 6.41279529674551e-05,\n",
       " 'plavecky_areal': 0.0410065207664489,\n",
       " 'pristavba_preislerova': 0.0}"
      ]
     },
     "execution_count": 14,
     "metadata": {},
     "output_type": "execute_result"
    }
   ],
   "source": [
    "deficit.iloc[12060].drop('timestamp').to_dict()"
   ]
  },
  {
   "cell_type": "code",
   "execution_count": 16,
   "metadata": {},
   "outputs": [],
   "source": [
    "excess_t = excess.iloc[12060].drop('timestamp').to_dict()\n",
    "deficit_t = deficit.iloc[1206].drop('timestamp').to_dict()"
   ]
  },
  {
   "cell_type": "code",
   "execution_count": null,
   "metadata": {},
   "outputs": [],
   "source": []
  },
  {
   "cell_type": "code",
   "execution_count": 24,
   "metadata": {},
   "outputs": [
    {
     "name": "stdout",
     "output_type": "stream",
     "text": [
      "zs_preislerova 0.0\n",
      "zs_komenskeho 5.36\n",
      "ms_preislerova 0.0\n",
      "ms_pod_homolkou 0.48\n",
      "ms_vrchlickeho 0.0\n",
      "ms_drasarova 0.0\n",
      "ms_na_machovne 2.03\n",
      "zimni_stad 14.03\n",
      "parkovaci_dum 3.79\n",
      "radnice 0.77\n",
      "ms_tovarni 1.66\n",
      "dum_pro_duchodce 0.02\n",
      "plavecky_areal 31.96\n",
      "pristavba_preislerova 0.0\n"
     ]
    }
   ],
   "source": [
    "for consumer, demand in deficit_t.items():\n",
    "    print(consumer, np.round(demand*1000, 2))"
   ]
  },
  {
   "cell_type": "code",
   "execution_count": 29,
   "metadata": {},
   "outputs": [],
   "source": [
    "t = 12060"
   ]
  },
  {
   "cell_type": "code",
   "execution_count": 70,
   "metadata": {},
   "outputs": [
    {
     "name": "stdout",
     "output_type": "stream",
     "text": [
      "{'zs_preislerova': 0.0097591374866565, 'zs_komenskeho': 0.0, 'ms_preislerova': 0.0098650279610302, 'ms_pod_homolkou': 0.0023464378304447, 'ms_vrchlickeho': 0.0018536020356289, 'ms_drasarova': 0.0043899947469958, 'ms_na_machovne': 0.0013770477141664, 'zimni_stad': 0.0203570356331952, 'parkovaci_dum': 0.0, 'radnice': 0, 'ms_tovarni': 0, 'dum_pro_duchodce': 0, 'plavecky_areal': 0, 'pristavba_preislerova': 0.0114972}\n",
      "{'zs_preislerova': 0.0, 'zs_komenskeho': 0.0004561419116203, 'ms_preislerova': 0.0, 'ms_pod_homolkou': 0.0, 'ms_vrchlickeho': 0.0, 'ms_drasarova': 0.0, 'ms_na_machovne': 0.0, 'zimni_stad': 0.0, 'parkovaci_dum': 0.0027949328688059, 'radnice': 0.0071286052099456, 'ms_tovarni': 0.000428667194061, 'dum_pro_duchodce': 6.41279529674551e-05, 'plavecky_areal': 0.0410065207664489, 'pristavba_preislerova': 0.0}\n"
     ]
    }
   ],
   "source": [
    "excess_t = excess.iloc[t].drop('timestamp').to_dict()\n",
    "deficit_t = deficit.iloc[t].drop('timestamp').to_dict()\n",
    "round_unredistributed = 0\n",
    "\n",
    "print(excess_t)\n",
    "print(deficit_t)"
   ]
  },
  {
   "cell_type": "code",
   "execution_count": 71,
   "metadata": {},
   "outputs": [],
   "source": [
    "deficit_t = {'radnice': 0.0071286052099456}"
   ]
  },
  {
   "cell_type": "code",
   "execution_count": 72,
   "metadata": {},
   "outputs": [
    {
     "data": {
      "text/plain": [
       "np.float64(9.006071027087147e-05)"
      ]
     },
     "execution_count": 72,
     "metadata": {},
     "output_type": "execute_result"
    }
   ],
   "source": [
    "\n",
    "excess_t[sorted_producers[0][0]] * weights[sorted_producers[0][0]].get(consumer, 0)\n"
   ]
  },
  {
   "cell_type": "code",
   "execution_count": 73,
   "metadata": {},
   "outputs": [
    {
     "name": "stdout",
     "output_type": "stream",
     "text": [
      "ms_vrchlickeho   gives:  9.01, takes: 9.01\n",
      "ms_pod_homolkou   gives:  2.45, takes: 2.45\n",
      "ms_preislerova   gives:  52.83, takes: 52.83\n",
      "Demand after round 0 : 712.86\n",
      "ms_vrchlickeho   gives:  8.57, takes: 8.57\n",
      "ms_pod_homolkou   gives:  2.42, takes: 2.42\n",
      "ms_preislerova   gives:  50.0, takes: 50.0\n",
      "Demand after round 1 : 648.58\n",
      "ms_vrchlickeho   gives:  8.15, takes: 8.15\n",
      "ms_pod_homolkou   gives:  2.4, takes: 2.4\n",
      "ms_preislerova   gives:  47.32, takes: 47.32\n",
      "Demand after round 2 : 587.59\n",
      "ms_vrchlickeho   gives:  7.76, takes: 7.76\n",
      "ms_pod_homolkou   gives:  2.37, takes: 2.37\n",
      "ms_preislerova   gives:  44.79, takes: 44.79\n",
      "Demand after round 3 : 529.72\n",
      "ms_vrchlickeho   gives:  7.38, takes: 7.38\n",
      "ms_pod_homolkou   gives:  2.35, takes: 2.35\n",
      "ms_preislerova   gives:  42.39, takes: 42.39\n",
      "Demand after round 4 : 474.81\n"
     ]
    }
   ],
   "source": [
    "\n",
    "for round in range(5):\n",
    "    \n",
    "    for consumer, demand in deficit_t.items():\n",
    "        if demand <= 0:\n",
    "            #print(consumer, demand)\n",
    "            continue\n",
    "\n",
    "        sorted_producers = sorted(preferences.get(consumer, {}).items(), key=lambda x: -x[1])\n",
    "        \n",
    "        for producer, _ in sorted_producers:\n",
    "            if excess_t[producer] <= 0:\n",
    "                #print(producer, 'has null')\n",
    "                continue\n",
    "            \n",
    "            allocated = excess_t[producer] * weights[producer].get(consumer, 0)\n",
    "            consumed = min(allocated, demand)\n",
    "            print(f'{producer}   gives:  {np.round(allocated* 10**5, 2)}, takes: {np.round(consumed * 10**5,2)}')\n",
    "            \n",
    "            excess_t[producer] -= consumed\n",
    "            deficit_t[consumer] -= consumed\n",
    "            \n",
    "            if demand <= 0:\n",
    "                break\n",
    "        \n",
    "    print(f'Demand after round {round} : {np.round(demand* 10**5, 2)}')\n",
    "\n"
   ]
  },
  {
   "cell_type": "code",
   "execution_count": 74,
   "metadata": {},
   "outputs": [
    {
     "data": {
      "text/plain": [
       "{'zs_preislerova': 0.0097591374866565,\n",
       " 'zs_komenskeho': 0.0,\n",
       " 'ms_preislerova': np.float64(0.007491831272676784),\n",
       " 'ms_pod_homolkou': np.float64(0.002226609546301364),\n",
       " 'ms_vrchlickeho': np.float64(0.0014449812581231848),\n",
       " 'ms_drasarova': 0.0043899947469958,\n",
       " 'ms_na_machovne': 0.0013770477141664,\n",
       " 'zimni_stad': 0.0203570356331952,\n",
       " 'parkovaci_dum': 0.0,\n",
       " 'radnice': 0,\n",
       " 'ms_tovarni': 0,\n",
       " 'dum_pro_duchodce': 0,\n",
       " 'plavecky_areal': 0,\n",
       " 'pristavba_preislerova': 0.0114972}"
      ]
     },
     "execution_count": 74,
     "metadata": {},
     "output_type": "execute_result"
    }
   ],
   "source": [
    "excess_t"
   ]
  },
  {
   "cell_type": "code",
   "execution_count": 75,
   "metadata": {},
   "outputs": [
    {
     "data": {
      "text/plain": [
       "{'radnice': np.float64(0.004226959459943134)}"
      ]
     },
     "execution_count": 75,
     "metadata": {},
     "output_type": "execute_result"
    }
   ],
   "source": [
    "deficit_t"
   ]
  },
  {
   "cell_type": "code",
   "execution_count": null,
   "metadata": {},
   "outputs": [],
   "source": []
  },
  {
   "cell_type": "code",
   "execution_count": null,
   "metadata": {},
   "outputs": [],
   "source": [
    "\n",
    "for t in range(len(timestamps)):\n",
    "\n",
    "    excess_t = excess.iloc[t].drop('timestamp').to_dict()\n",
    "    deficit_t = deficit.iloc[t].drop('timestamp').to_dict()\n",
    "    round_unredistributed = 0\n",
    "\n",
    "    for r in range(5):\n",
    "    \n",
    "        for consumer, demand in deficit_t.items():\n",
    "            if demand <= 0:\n",
    "                continue\n",
    "\n",
    "            sorted_producers = sorted(preferences.get(consumer, {}).items(), key=lambda x: -x[1])\n",
    "            \n",
    "            for producer, _ in sorted_producers:\n",
    "                if excess_t[producer] <= 0:\n",
    "                    continue\n",
    "                \n",
    "                allocated = excess_t[producer] * weights[producer].get(consumer, 0)\n",
    "                consumed = min(allocated, demand)\n",
    "                \n",
    "                excess_t[producer] -= consumed\n",
    "                deficit_t[consumer] -= consumed\n",
    "                \n",
    "                if demand <= 0:\n",
    "                    break\n",
    "    unredistributed_energy += np.sum(excess_t.values()) + np.sum(deficit_t.values())"
   ]
  },
  {
   "cell_type": "code",
   "execution_count": 76,
   "metadata": {},
   "outputs": [],
   "source": [
    "def fitness(timestamps, excess, deficit, preferences, weights):\n",
    "    res = 0\n",
    "\n",
    "    for t in range(len(timestamps)):\n",
    "\n",
    "        excess_t = excess.iloc[t].drop('timestamp').to_dict()\n",
    "        deficit_t = deficit.iloc[t].drop('timestamp').to_dict()\n",
    "\n",
    "        for r in range(5):\n",
    "        \n",
    "            for consumer, demand in deficit_t.items():\n",
    "                if demand <= 0:\n",
    "                    continue\n",
    "\n",
    "                sorted_producers = sorted(preferences.get(consumer, {}).items(), key=lambda x: -x[1])\n",
    "                \n",
    "                for producer, _ in sorted_producers:\n",
    "                    if excess_t[producer] <= 0:\n",
    "                        continue\n",
    "                    \n",
    "                    allocated = excess_t[producer] * weights[producer].get(consumer, 0)\n",
    "                    consumed = min(allocated, demand)\n",
    "                    \n",
    "                    excess_t[producer] -= consumed\n",
    "                    deficit_t[consumer] -= consumed\n",
    "                    \n",
    "                    if demand <= 0:\n",
    "                        break\n",
    "                \n",
    "        if demand > 0:\n",
    "            round_unredistributed += demand\n",
    "        \n",
    "        res += np.sum(excess_t.values()) + np.sum(deficit_t.values())\n",
    "\n",
    "    return res"
   ]
  },
  {
   "cell_type": "code",
   "execution_count": 77,
   "metadata": {},
   "outputs": [],
   "source": [
    "EXCESS_CSV_PATH = '/home/miro/Bachelor/BT/Analysis/data/outputs/excess.csv'\n",
    "DEFICIT_CSV_PATH = '/home/miro/Bachelor/BT/Analysis/data/outputs/deficit.csv'\n",
    "\n",
    "excess_df = pd.read_csv(EXCESS_CSV_PATH)\n",
    "deficit_df = pd.read_csv(DEFICIT_CSV_PATH)\n",
    "\n",
    "# Convert the timestamp column to datetime\n",
    "excess_df['timestamp'] = pd.to_datetime(excess_df['timestamp'])\n",
    "deficit_df['timestamp'] = pd.to_datetime(deficit_df['timestamp'])\n",
    "\n",
    "# Extract the year and month from the timestamp\n",
    "excess_df['year_month'] = excess_df['timestamp'].dt.to_period('M')\n",
    "deficit_df['year_month'] = deficit_df['timestamp'].dt.to_period('M')\n",
    "\n",
    "# Create 12 separate dataframes for each month (January to December)\n",
    "excess_monthly = {}\n",
    "deficit_monthly = {}\n",
    "\n",
    "for i, month in enumerate(deficit_df['year_month'].unique()):\n",
    "    \n",
    "    # Filter the data for each month\n",
    "    excess_monthly[i] = excess_df[excess_df['year_month'] == month].drop('year_month', axis=1)\n",
    "    deficit_monthly[i] = deficit_df[deficit_df['year_month'] == month].drop('year_month', axis=1)\n"
   ]
  },
  {
   "cell_type": "code",
   "execution_count": 78,
   "metadata": {},
   "outputs": [
    {
     "data": {
      "text/html": [
       "<div>\n",
       "<style scoped>\n",
       "    .dataframe tbody tr th:only-of-type {\n",
       "        vertical-align: middle;\n",
       "    }\n",
       "\n",
       "    .dataframe tbody tr th {\n",
       "        vertical-align: top;\n",
       "    }\n",
       "\n",
       "    .dataframe thead th {\n",
       "        text-align: right;\n",
       "    }\n",
       "</style>\n",
       "<table border=\"1\" class=\"dataframe\">\n",
       "  <thead>\n",
       "    <tr style=\"text-align: right;\">\n",
       "      <th></th>\n",
       "      <th>timestamp</th>\n",
       "      <th>zs_preislerova</th>\n",
       "      <th>zs_komenskeho</th>\n",
       "      <th>ms_preislerova</th>\n",
       "      <th>ms_pod_homolkou</th>\n",
       "      <th>ms_vrchlickeho</th>\n",
       "      <th>ms_drasarova</th>\n",
       "      <th>ms_na_machovne</th>\n",
       "      <th>zimni_stad</th>\n",
       "      <th>parkovaci_dum</th>\n",
       "      <th>radnice</th>\n",
       "      <th>ms_tovarni</th>\n",
       "      <th>dum_pro_duchodce</th>\n",
       "      <th>plavecky_areal</th>\n",
       "      <th>pristavba_preislerova</th>\n",
       "    </tr>\n",
       "  </thead>\n",
       "  <tbody>\n",
       "    <tr>\n",
       "      <th>32060</th>\n",
       "      <td>2023-12-01 00:00:00</td>\n",
       "      <td>0.0</td>\n",
       "      <td>0.0</td>\n",
       "      <td>0.0</td>\n",
       "      <td>0.0</td>\n",
       "      <td>0.0</td>\n",
       "      <td>0.0</td>\n",
       "      <td>0.0</td>\n",
       "      <td>0.0</td>\n",
       "      <td>0.0</td>\n",
       "      <td>0</td>\n",
       "      <td>0</td>\n",
       "      <td>0</td>\n",
       "      <td>0</td>\n",
       "      <td>0.0</td>\n",
       "    </tr>\n",
       "    <tr>\n",
       "      <th>32061</th>\n",
       "      <td>2023-12-01 00:15:00</td>\n",
       "      <td>0.0</td>\n",
       "      <td>0.0</td>\n",
       "      <td>0.0</td>\n",
       "      <td>0.0</td>\n",
       "      <td>0.0</td>\n",
       "      <td>0.0</td>\n",
       "      <td>0.0</td>\n",
       "      <td>0.0</td>\n",
       "      <td>0.0</td>\n",
       "      <td>0</td>\n",
       "      <td>0</td>\n",
       "      <td>0</td>\n",
       "      <td>0</td>\n",
       "      <td>0.0</td>\n",
       "    </tr>\n",
       "    <tr>\n",
       "      <th>32062</th>\n",
       "      <td>2023-12-01 00:30:00</td>\n",
       "      <td>0.0</td>\n",
       "      <td>0.0</td>\n",
       "      <td>0.0</td>\n",
       "      <td>0.0</td>\n",
       "      <td>0.0</td>\n",
       "      <td>0.0</td>\n",
       "      <td>0.0</td>\n",
       "      <td>0.0</td>\n",
       "      <td>0.0</td>\n",
       "      <td>0</td>\n",
       "      <td>0</td>\n",
       "      <td>0</td>\n",
       "      <td>0</td>\n",
       "      <td>0.0</td>\n",
       "    </tr>\n",
       "    <tr>\n",
       "      <th>32063</th>\n",
       "      <td>2023-12-01 00:45:00</td>\n",
       "      <td>0.0</td>\n",
       "      <td>0.0</td>\n",
       "      <td>0.0</td>\n",
       "      <td>0.0</td>\n",
       "      <td>0.0</td>\n",
       "      <td>0.0</td>\n",
       "      <td>0.0</td>\n",
       "      <td>0.0</td>\n",
       "      <td>0.0</td>\n",
       "      <td>0</td>\n",
       "      <td>0</td>\n",
       "      <td>0</td>\n",
       "      <td>0</td>\n",
       "      <td>0.0</td>\n",
       "    </tr>\n",
       "    <tr>\n",
       "      <th>32064</th>\n",
       "      <td>2023-12-01 01:00:00</td>\n",
       "      <td>0.0</td>\n",
       "      <td>0.0</td>\n",
       "      <td>0.0</td>\n",
       "      <td>0.0</td>\n",
       "      <td>0.0</td>\n",
       "      <td>0.0</td>\n",
       "      <td>0.0</td>\n",
       "      <td>0.0</td>\n",
       "      <td>0.0</td>\n",
       "      <td>0</td>\n",
       "      <td>0</td>\n",
       "      <td>0</td>\n",
       "      <td>0</td>\n",
       "      <td>0.0</td>\n",
       "    </tr>\n",
       "    <tr>\n",
       "      <th>...</th>\n",
       "      <td>...</td>\n",
       "      <td>...</td>\n",
       "      <td>...</td>\n",
       "      <td>...</td>\n",
       "      <td>...</td>\n",
       "      <td>...</td>\n",
       "      <td>...</td>\n",
       "      <td>...</td>\n",
       "      <td>...</td>\n",
       "      <td>...</td>\n",
       "      <td>...</td>\n",
       "      <td>...</td>\n",
       "      <td>...</td>\n",
       "      <td>...</td>\n",
       "      <td>...</td>\n",
       "    </tr>\n",
       "    <tr>\n",
       "      <th>35031</th>\n",
       "      <td>2023-12-31 22:45:00</td>\n",
       "      <td>0.0</td>\n",
       "      <td>0.0</td>\n",
       "      <td>0.0</td>\n",
       "      <td>0.0</td>\n",
       "      <td>0.0</td>\n",
       "      <td>0.0</td>\n",
       "      <td>0.0</td>\n",
       "      <td>0.0</td>\n",
       "      <td>0.0</td>\n",
       "      <td>0</td>\n",
       "      <td>0</td>\n",
       "      <td>0</td>\n",
       "      <td>0</td>\n",
       "      <td>0.0</td>\n",
       "    </tr>\n",
       "    <tr>\n",
       "      <th>35032</th>\n",
       "      <td>2023-12-31 23:00:00</td>\n",
       "      <td>0.0</td>\n",
       "      <td>0.0</td>\n",
       "      <td>0.0</td>\n",
       "      <td>0.0</td>\n",
       "      <td>0.0</td>\n",
       "      <td>0.0</td>\n",
       "      <td>0.0</td>\n",
       "      <td>0.0</td>\n",
       "      <td>0.0</td>\n",
       "      <td>0</td>\n",
       "      <td>0</td>\n",
       "      <td>0</td>\n",
       "      <td>0</td>\n",
       "      <td>0.0</td>\n",
       "    </tr>\n",
       "    <tr>\n",
       "      <th>35033</th>\n",
       "      <td>2023-12-31 23:15:00</td>\n",
       "      <td>0.0</td>\n",
       "      <td>0.0</td>\n",
       "      <td>0.0</td>\n",
       "      <td>0.0</td>\n",
       "      <td>0.0</td>\n",
       "      <td>0.0</td>\n",
       "      <td>0.0</td>\n",
       "      <td>0.0</td>\n",
       "      <td>0.0</td>\n",
       "      <td>0</td>\n",
       "      <td>0</td>\n",
       "      <td>0</td>\n",
       "      <td>0</td>\n",
       "      <td>0.0</td>\n",
       "    </tr>\n",
       "    <tr>\n",
       "      <th>35034</th>\n",
       "      <td>2023-12-31 23:30:00</td>\n",
       "      <td>0.0</td>\n",
       "      <td>0.0</td>\n",
       "      <td>0.0</td>\n",
       "      <td>0.0</td>\n",
       "      <td>0.0</td>\n",
       "      <td>0.0</td>\n",
       "      <td>0.0</td>\n",
       "      <td>0.0</td>\n",
       "      <td>0.0</td>\n",
       "      <td>0</td>\n",
       "      <td>0</td>\n",
       "      <td>0</td>\n",
       "      <td>0</td>\n",
       "      <td>0.0</td>\n",
       "    </tr>\n",
       "    <tr>\n",
       "      <th>35035</th>\n",
       "      <td>2023-12-31 23:45:00</td>\n",
       "      <td>0.0</td>\n",
       "      <td>0.0</td>\n",
       "      <td>0.0</td>\n",
       "      <td>0.0</td>\n",
       "      <td>0.0</td>\n",
       "      <td>0.0</td>\n",
       "      <td>0.0</td>\n",
       "      <td>0.0</td>\n",
       "      <td>0.0</td>\n",
       "      <td>0</td>\n",
       "      <td>0</td>\n",
       "      <td>0</td>\n",
       "      <td>0</td>\n",
       "      <td>0.0</td>\n",
       "    </tr>\n",
       "  </tbody>\n",
       "</table>\n",
       "<p>2976 rows × 15 columns</p>\n",
       "</div>"
      ],
      "text/plain": [
       "                timestamp  zs_preislerova  zs_komenskeho  ms_preislerova  \\\n",
       "32060 2023-12-01 00:00:00             0.0            0.0             0.0   \n",
       "32061 2023-12-01 00:15:00             0.0            0.0             0.0   \n",
       "32062 2023-12-01 00:30:00             0.0            0.0             0.0   \n",
       "32063 2023-12-01 00:45:00             0.0            0.0             0.0   \n",
       "32064 2023-12-01 01:00:00             0.0            0.0             0.0   \n",
       "...                   ...             ...            ...             ...   \n",
       "35031 2023-12-31 22:45:00             0.0            0.0             0.0   \n",
       "35032 2023-12-31 23:00:00             0.0            0.0             0.0   \n",
       "35033 2023-12-31 23:15:00             0.0            0.0             0.0   \n",
       "35034 2023-12-31 23:30:00             0.0            0.0             0.0   \n",
       "35035 2023-12-31 23:45:00             0.0            0.0             0.0   \n",
       "\n",
       "       ms_pod_homolkou  ms_vrchlickeho  ms_drasarova  ms_na_machovne  \\\n",
       "32060              0.0             0.0           0.0             0.0   \n",
       "32061              0.0             0.0           0.0             0.0   \n",
       "32062              0.0             0.0           0.0             0.0   \n",
       "32063              0.0             0.0           0.0             0.0   \n",
       "32064              0.0             0.0           0.0             0.0   \n",
       "...                ...             ...           ...             ...   \n",
       "35031              0.0             0.0           0.0             0.0   \n",
       "35032              0.0             0.0           0.0             0.0   \n",
       "35033              0.0             0.0           0.0             0.0   \n",
       "35034              0.0             0.0           0.0             0.0   \n",
       "35035              0.0             0.0           0.0             0.0   \n",
       "\n",
       "       zimni_stad  parkovaci_dum  radnice  ms_tovarni  dum_pro_duchodce  \\\n",
       "32060         0.0            0.0        0           0                 0   \n",
       "32061         0.0            0.0        0           0                 0   \n",
       "32062         0.0            0.0        0           0                 0   \n",
       "32063         0.0            0.0        0           0                 0   \n",
       "32064         0.0            0.0        0           0                 0   \n",
       "...           ...            ...      ...         ...               ...   \n",
       "35031         0.0            0.0        0           0                 0   \n",
       "35032         0.0            0.0        0           0                 0   \n",
       "35033         0.0            0.0        0           0                 0   \n",
       "35034         0.0            0.0        0           0                 0   \n",
       "35035         0.0            0.0        0           0                 0   \n",
       "\n",
       "       plavecky_areal  pristavba_preislerova  \n",
       "32060               0                    0.0  \n",
       "32061               0                    0.0  \n",
       "32062               0                    0.0  \n",
       "32063               0                    0.0  \n",
       "32064               0                    0.0  \n",
       "...               ...                    ...  \n",
       "35031               0                    0.0  \n",
       "35032               0                    0.0  \n",
       "35033               0                    0.0  \n",
       "35034               0                    0.0  \n",
       "35035               0                    0.0  \n",
       "\n",
       "[2976 rows x 15 columns]"
      ]
     },
     "execution_count": 78,
     "metadata": {},
     "output_type": "execute_result"
    }
   ],
   "source": [
    "excess_monthly[11]"
   ]
  },
  {
   "cell_type": "code",
   "execution_count": null,
   "metadata": {},
   "outputs": [
    {
     "name": "stdout",
     "output_type": "stream",
     "text": [
      "Loading data...\n"
     ]
    }
   ],
   "source": [
    "import numpy as np\n",
    "import pandas as pd # Import pandas\n",
    "import random\n",
    "import copy\n",
    "from tqdm import tqdm  # Optional: for progress bar\n",
    "import os # To check if files exist\n",
    "\n",
    "# --- Configuration ---\n",
    "EXCESS_CSV_PATH = '/home/miro/Bachelor/BT/Analysis/data/outputs/excess.csv'\n",
    "DEFICIT_CSV_PATH = '/home/miro/Bachelor/BT/Analysis/data/outputs/deficit.csv'\n",
    "NUM_PREFERENCES = 5  # Fixed number of producers each subscriber can connect to\n",
    "\n",
    "# --- Genetic Algorithm Parameters ---\n",
    "POPULATION_SIZE = 70\n",
    "NUM_GENERATIONS = 500 # Adjust as needed\n",
    "TOURNAMENT_SIZE = 5\n",
    "MUTATION_RATE = 0.15 # Probability of mutating an individual (increased slightly)\n",
    "CROSSOVER_RATE = 0.8 # Probability of performing crossover\n",
    "ELITISM_COUNT = 3    # Keep the best N individuals directly\n",
    "\n",
    "# --- Load Data and Set Simulation Parameters ---\n",
    "\n",
    "print(\"Loading data...\")\n",
    "if not os.path.exists(EXCESS_CSV_PATH):\n",
    "    raise FileNotFoundError(f\"Excess data file not found at: {EXCESS_CSV_PATH}\")\n",
    "if not os.path.exists(DEFICIT_CSV_PATH):\n",
    "    raise FileNotFoundError(f\"Deficit data file not found at: {DEFICIT_CSV_PATH}\")\n",
    "\n",
    "try:\n",
    "    excess = pd.read_csv(EXCESS_CSV_PATH)\n",
    "    deficit = pd.read_csv(DEFICIT_CSV_PATH)\n",
    "\n",
    "    # Convert the timestamp column to datetime\n",
    "    excess['timestamp'] = pd.to_datetime(excess['timestamp'])\n",
    "    deficit['timestamp'] = pd.to_datetime(deficit['timestamp'])\n",
    "\n",
    "    # Extract the year and month from the timestamp\n",
    "    excess['year_month'] = excess['timestamp'].dt.to_period('M')\n",
    "    deficit['year_month'] = deficit['timestamp'].dt.to_period('M')\n",
    "\n",
    "    # Create 12 separate dataframes for each month (January to December)\n",
    "    excess_monthly = {}\n",
    "    deficit_monthly = {}\n",
    "\n",
    "    for i, month in enumerate(deficit['year_month'].unique()):\n",
    "        \n",
    "        # Filter the data for each month\n",
    "        excess_monthly[i] = excess[excess['year_month'] == month].drop('year_month', axis=1)\n",
    "        deficit_monthly[i] = deficit[deficit['year_month'] == month].drop('year_month', axis=1)\n",
    "except Exception as e:\n",
    "    print(f\"Error loading CSV files: {e}\")\n",
    "    raise\n"
   ]
  },
  {
   "cell_type": "code",
   "execution_count": 80,
   "metadata": {},
   "outputs": [],
   "source": [
    "month = 6\n",
    "\n",
    "deficit_df = deficit_monthly[month]\n",
    "excess_df = excess_monthly[month]\n",
    "\n",
    "\n",
    "# --- Data Validation and Parameter Extraction ---\n",
    "if excess_df.shape[0] != deficit_df.shape[0]:\n",
    "    raise ValueError(f\"Mismatch in number of timesteps (rows) between excess ({excess_df.shape[0]}) and deficit ({deficit_df.shape[0]}) data.\")\n",
    "\n",
    "# Assuming first column might be time or index, adjust if needed\n",
    "# If first column IS producer/subscriber ID, handle accordingly\n",
    "# Let's assume columns ARE the IDs after potential index col removal\n",
    "if 'time' in excess_df.columns or 'timestamp' in excess_df.columns or 'Unnamed: 0' in excess_df.columns:\n",
    "     # Drop potential time/index column if it exists - adjust column name as needed\n",
    "     excess_df = excess_df.drop(columns=[col for col in ['time', 'timestamp', 'Unnamed: 0'] if col in excess_df.columns], errors='ignore')\n",
    "if 'time' in deficit_df.columns or 'timestamp' in deficit_df.columns or 'Unnamed: 0' in deficit_df.columns:\n",
    "     deficit_df = deficit_df.drop(columns=[col for col in ['time', 'timestamp', 'Unnamed: 0'] if col in deficit_df.columns], errors='ignore')\n",
    "\n"
   ]
  },
  {
   "cell_type": "code",
   "execution_count": 81,
   "metadata": {},
   "outputs": [
    {
     "name": "stdout",
     "output_type": "stream",
     "text": [
      "Data loaded successfully:\n",
      "  Timesteps: 2976\n",
      "  Producers: 14\n",
      "  Subscribers: 14\n",
      "  Preferences per subscriber: 5\n"
     ]
    }
   ],
   "source": [
    "# Convert columns to numeric, coerce errors to NaN, then maybe fillna(0) or handle\n",
    "excess_df = excess_df.apply(pd.to_numeric, errors='coerce').fillna(0)\n",
    "deficit_df = deficit_df.apply(pd.to_numeric, errors='coerce').fillna(0)\n",
    "\n",
    "NUM_PRODUCERS = excess_df.shape[1]\n",
    "NUM_SUBSCRIBERS = deficit_df.shape[1]\n",
    "SIMULATION_TIMESTEPS = excess_df.shape[0]\n",
    "\n",
    "# Store producer/subscriber IDs if needed for interpretation (assumes columns are IDs)\n",
    "PRODUCER_IDS = excess_df.columns.tolist()\n",
    "SUBSCRIBER_IDS = deficit_df.columns.tolist()\n",
    "\n",
    "# Convert DataFrames to NumPy arrays for efficiency in fitness function\n",
    "PRODUCER_ENERGY_DATA = excess_df.to_numpy()\n",
    "SUBSCRIBER_DEMAND_DATA = deficit_df.to_numpy()\n",
    "\n",
    "print(f\"Data loaded successfully:\")\n",
    "print(f\"  Timesteps: {SIMULATION_TIMESTEPS}\")\n",
    "print(f\"  Producers: {NUM_PRODUCERS}\")\n",
    "print(f\"  Subscribers: {NUM_SUBSCRIBERS}\")\n",
    "print(f\"  Preferences per subscriber: {NUM_PREFERENCES}\")\n",
    "\n",
    "if NUM_PRODUCERS < NUM_PREFERENCES:\n",
    "    print(f\"Warning: Number of producers ({NUM_PRODUCERS}) is less than the number of preferences ({NUM_PREFERENCES}). Subscribers will have duplicate or limited choices.\")\n",
    "    # Adjust NUM_PREFERENCES if strictly unique needed, or allow sampling with replacement later\n",
    "    # NUM_PREFERENCES = NUM_PRODUCERS # Option: limit preferences\n"
   ]
  },
  {
   "cell_type": "code",
   "execution_count": null,
   "metadata": {},
   "outputs": [
    {
     "name": "stdout",
     "output_type": "stream",
     "text": [
      "Data loaded successfully:\n",
      "  Timesteps: 2976\n",
      "  Producers: 14\n",
      "  Subscribers: 14\n",
      "  Preferences per subscriber: 5\n"
     ]
    }
   ],
   "source": [
    "# --- Fitness Function ---\n",
    "def fitness(weight_matrix, preference_matrix, producer_energy_data, subscriber_demand_data):\n",
    "    \"\"\"\n",
    "    Calculates the total unredistributed energy over the simulation period.\n",
    "    Lower is better. Uses ordered preferences (index 0 = highest priority).\n",
    "    \"\"\"\n",
    "\n",
    "    total_unredistributed_energy = 0.0\n",
    "    \n",
    "    num_timesteps = producer_energy_data.shape[0]\n",
    "    num_producers = weight_matrix.shape[0]\n",
    "    num_subscribers = weight_matrix.shape[1]\n",
    "\n",
    "    if preference_matrix.shape[0] != num_subscribers or preference_matrix.shape[1] != NUM_PREFERENCES:\n",
    "         raise ValueError(f\"Preference matrix shape mismatch. Expected ({num_subscribers}, {NUM_PREFERENCES}), Got {preference_matrix.shape}\")\n",
    "    if weight_matrix.shape[0] != num_producers or weight_matrix.shape[1] != num_subscribers:\n",
    "         raise ValueError(f\"Weight matrix shape mismatch. Expected ({num_producers}, {num_subscribers}), Got {weight_matrix.shape}\")\n",
    "\n",
    "\n",
    "    for t in range(num_timesteps):\n",
    "        available_producer_energy = producer_energy_data[t, :].copy()\n",
    "        remaining_subscriber_demand = subscriber_demand_data[t, :].copy()\n",
    "        available_producer_energy[available_producer_energy < 1e-9] = 0\n",
    "        remaining_subscriber_demand[remaining_subscriber_demand < 1e-9] = 0\n",
    "\n",
    "\n",
    "        # --- Stage 1: Producer Allocation Intent (Based on Weights) ---\n",
    "\n",
    "        intended_transfer = np.zeros((num_producers, num_subscribers))\n",
    "        for p in range(num_producers):\n",
    "            if available_producer_energy[p] > 1e-9:\n",
    "                producer_weights = weight_matrix[p, :]\n",
    "                total_weight = np.sum(producer_weights)\n",
    "                if total_weight > 1e-9:\n",
    "                    normalized_weights = producer_weights / total_weight\n",
    "                    intended_transfer[p, :] = available_producer_energy[p] * normalized_weights\n",
    "\n",
    "        # --- Stage 2: Subscriber Intake (Based on Ordered Preferences) ---\n",
    "        temp_available_producer_energy = available_producer_energy.copy()\n",
    "\n",
    "        for s in range(num_subscribers):\n",
    "            if remaining_subscriber_demand[s] <= 1e-9:\n",
    "                continue\n",
    "\n",
    "            # Iterate through the subscriber's *ordered* preferred producers\n",
    "            # preference_matrix[s, 0] is the highest priority, ..., preference_matrix[s, 4] is the lowest\n",
    "            for pref_rank_idx in range(NUM_PREFERENCES):\n",
    "                if remaining_subscriber_demand[s] <= 1e-9:\n",
    "                    break # Demand met\n",
    "\n",
    "                # Get the actual producer index from the preference list\n",
    "                p_pref = preference_matrix[s, pref_rank_idx]\n",
    "\n",
    "                # Ensure producer index is valid (e.g., if NUM_PREFERENCES > NUM_PRODUCERS was handled with placeholders)\n",
    "                if p_pref < 0 or p_pref >= num_producers:\n",
    "                    continue # Skip invalid producer index\n",
    "\n",
    "                energy_intended_by_pref_p = intended_transfer[p_pref, s]\n",
    "                energy_available_from_pref_p = temp_available_producer_energy[p_pref]\n",
    "\n",
    "                energy_to_take = min(remaining_subscriber_demand[s],\n",
    "                                     energy_intended_by_pref_p,\n",
    "                                     energy_available_from_pref_p)\n",
    "\n",
    "                if energy_to_take > 1e-9:\n",
    "                    remaining_subscriber_demand[s] -= energy_to_take\n",
    "                    temp_available_producer_energy[p_pref] -= energy_to_take\n",
    "                    # Ensure non-negative after subtraction\n",
    "                    remaining_subscriber_demand[s] = max(0, remaining_subscriber_demand[s])\n",
    "                    temp_available_producer_energy[p_pref] = max(0, temp_available_producer_energy[p_pref])\n",
    "\n",
    "\n",
    "        # --- Step 3: Calculate Unmet Demand for this Timestep ---\n",
    "        unredistributed_this_step = np.sum(remaining_subscriber_demand)\n",
    "        total_unredistributed_energy += unredistributed_this_step\n",
    "\n",
    "    # Add a penalty for invalid matrices if necessary (e.g., weights not summing to 1)\n",
    "    # Although initialization and mutation try to maintain validity.\n",
    "    # Could add checks here for debugging.\n",
    "\n",
    "    return total_unredistributed_energy\n",
    "\n",
    "# --- Genetic Algorithm Components ---\n",
    "\n",
    "class Individual:\n",
    "    \"\"\"Represents a potential solution (weight and preference matrices).\"\"\"\n",
    "    def __init__(self, weight_matrix=None, preference_matrix=None):\n",
    "        self.weight_matrix = weight_matrix\n",
    "        self.preference_matrix = preference_matrix # Stores ORDERED list of preferred producer indices\n",
    "        self.fitness = float('inf')\n",
    "\n",
    "        if self.weight_matrix is None:\n",
    "            self.initialize_weights()\n",
    "        if self.preference_matrix is None:\n",
    "            self.initialize_preferences()\n",
    "\n",
    "    def initialize_weights(self):\n",
    "        \"\"\"Initializes weights randomly, ensuring each producer's weights sum to 1.\"\"\"\n",
    "        weights = np.random.rand(NUM_PRODUCERS, NUM_SUBSCRIBERS)\n",
    "        row_sums = weights.sum(axis=1, keepdims=True)\n",
    "        row_sums[row_sums < 1e-9] = 1.0\n",
    "        self.weight_matrix = weights / row_sums\n",
    "\n",
    "    def initialize_preferences(self):\n",
    "        \"\"\"\n",
    "        Initializes preferences randomly. Each subscriber gets an ORDERED list\n",
    "        of NUM_PREFERENCES unique producer indices. Order implies priority.\n",
    "        \"\"\"\n",
    "        prefs = np.zeros((NUM_SUBSCRIBERS, NUM_PREFERENCES), dtype=int)\n",
    "        producer_indices = list(range(NUM_PRODUCERS))\n",
    "\n",
    "        k = min(NUM_PREFERENCES, NUM_PRODUCERS) # How many unique producers can we actually pick?\n",
    "\n",
    "        for s in range(NUM_SUBSCRIBERS):\n",
    "            if NUM_PRODUCERS == 0: # Handle edge case\n",
    "                 prefs[s,:] = -1 # Or some other indicator of no valid producers\n",
    "                 continue\n",
    "\n",
    "            # Sample k unique producers\n",
    "            chosen_producers = random.sample(producer_indices, k)\n",
    "            # Shuffle them to get a random initial order (priority)\n",
    "            random.shuffle(chosen_producers)\n",
    "            prefs[s, :k] = chosen_producers\n",
    "\n",
    "            # Handle if NUM_PREFERENCES > NUM_PRODUCERS\n",
    "            if k < NUM_PREFERENCES:\n",
    "                # Fill remaining slots. Options:\n",
    "                # 1. Use placeholder (-1)\n",
    "                # 2. Sample *with replacement* from existing producers\n",
    "                # Option 2 implemented here:\n",
    "                remaining_prefs = np.random.choice(producer_indices, NUM_PREFERENCES - k, replace=True)\n",
    "                prefs[s, k:] = remaining_prefs\n",
    "                # Could also shuffle the entire list again after filling\n",
    "                # random.shuffle(prefs[s, :])\n",
    "\n",
    "        self.preference_matrix = prefs\n",
    "\n",
    "    def calculate_fitness(self):\n",
    "        \"\"\"Calculates and stores the fitness of this individual.\"\"\"\n",
    "        try:\n",
    "            self.fitness = fitness(self.weight_matrix, self.preference_matrix,\n",
    "                                   PRODUCER_ENERGY_DATA, SUBSCRIBER_DEMAND_DATA)\n",
    "        except ValueError as e:\n",
    "            print(f\"Fitness calculation error: {e}\")\n",
    "            print(\"Weight Matrix sample (first 5x5):\")\n",
    "            print(self.weight_matrix[:5,:5])\n",
    "            print(\"Preference Matrix sample (first 5 rows):\")\n",
    "            print(self.preference_matrix[:5,:])\n",
    "            self.fitness = float('inf') # Assign worst fitness on error\n",
    "\n",
    "\n",
    "def initialize_population(size):\n",
    "    \"\"\"Creates the initial population of individuals.\"\"\"\n",
    "    return [Individual() for _ in range(size)]\n",
    "\n",
    "def tournament_selection(population, k=TOURNAMENT_SIZE):\n",
    "    \"\"\"Selects an individual using tournament selection.\"\"\"\n",
    "    # Ensure population is not empty and k is not larger than population size\n",
    "    if not population:\n",
    "        raise ValueError(\"Cannot perform selection on an empty population.\")\n",
    "    k = min(k, len(population))\n",
    "    if k <= 0:\n",
    "        raise ValueError(\"Tournament size k must be positive.\")\n",
    "\n",
    "    tournament = random.sample(population, k)\n",
    "    winner = min(tournament, key=lambda ind: ind.fitness)\n",
    "    return winner\n",
    "\n",
    "def crossover(parent1, parent2):\n",
    "    \"\"\"Performs crossover between two parents to create two children.\"\"\"\n",
    "    # Use deepcopy to avoid modifying parents inadvertently\n",
    "    child1 = Individual(copy.deepcopy(parent1.weight_matrix), copy.deepcopy(parent1.preference_matrix))\n",
    "    child2 = Individual(copy.deepcopy(parent2.weight_matrix), copy.deepcopy(parent2.preference_matrix))\n",
    "\n",
    "    if random.random() < CROSSOVER_RATE:\n",
    "        # --- Crossover for Weight Matrix (Example: Single point row crossover) ---\n",
    "        if NUM_PRODUCERS > 1:\n",
    "            crossover_point_p = random.randint(1, NUM_PRODUCERS - 1)\n",
    "            child1.weight_matrix[crossover_point_p:] = parent2.weight_matrix[crossover_point_p:]\n",
    "            child2.weight_matrix[crossover_point_p:] = parent1.weight_matrix[crossover_point_p:]\n",
    "            # Optional: Re-normalize rows after crossover (might be good practice)\n",
    "            for r in range(NUM_PRODUCERS):\n",
    "                 for child_w in [child1.weight_matrix, child2.weight_matrix]:\n",
    "                    row_sum = np.sum(child_w[r, :])\n",
    "                    if row_sum > 1e-9:\n",
    "                         child_w[r, :] /= row_sum\n",
    "                    elif NUM_SUBSCRIBERS > 0: # Avoid division by zero if re-initializing\n",
    "                         child_w[r, :] = 1.0 / NUM_SUBSCRIBERS # Re-initialize row uniformly\n",
    "\n",
    "\n",
    "        # --- Crossover for Preference Matrix (Example: Single point subscriber crossover) ---\n",
    "        if NUM_SUBSCRIBERS > 1:\n",
    "            crossover_point_s = random.randint(1, NUM_SUBSCRIBERS - 1)\n",
    "            child1.preference_matrix[crossover_point_s:] = parent2.preference_matrix[crossover_point_s:]\n",
    "            child2.preference_matrix[crossover_point_s:] = parent1.preference_matrix[crossover_point_s:]\n",
    "\n",
    "    return child1, child2\n",
    "\n",
    "\n",
    "def mutate(individual):\n",
    "    \"\"\"Performs mutation on an individual.\"\"\"\n",
    "\n",
    "    # --- Mutate Weight Matrix ---\n",
    "    if random.random() < MUTATION_RATE and NUM_PRODUCERS > 0 and NUM_SUBSCRIBERS > 0:\n",
    "        p = random.randint(0, NUM_PRODUCERS - 1)\n",
    "        s = random.randint(0, NUM_SUBSCRIBERS - 1)\n",
    "        individual.weight_matrix[p, s] += random.gauss(0, 0.1) # Adjust noise level\n",
    "        individual.weight_matrix[p, s] = max(0, individual.weight_matrix[p, s]) # Ensure non-negative\n",
    "\n",
    "        # Re-normalize the mutated row\n",
    "        row_sum = np.sum(individual.weight_matrix[p, :])\n",
    "        if row_sum > 1e-9:\n",
    "            individual.weight_matrix[p, :] /= row_sum\n",
    "        elif NUM_SUBSCRIBERS > 0:\n",
    "             individual.weight_matrix[p, :] = 1.0 / NUM_SUBSCRIBERS # Re-initialize uniformly\n",
    "\n",
    "\n",
    "    # --- Mutate Preference Matrix ---\n",
    "    if random.random() < MUTATION_RATE and NUM_SUBSCRIBERS > 0 and NUM_PREFERENCES > 0:\n",
    "         s_to_mutate = random.randint(0, NUM_SUBSCRIBERS - 1)\n",
    "\n",
    "         # Mutation type 1: Swap order of two preferences (changes priority)\n",
    "         if random.random() < 0.5 and NUM_PREFERENCES > 1: # Need at least 2 prefs to swap\n",
    "             idx1, idx2 = random.sample(range(NUM_PREFERENCES), 2)\n",
    "             # Swap elements at these indices\n",
    "             individual.preference_matrix[s_to_mutate, [idx1, idx2]] = \\\n",
    "                 individual.preference_matrix[s_to_mutate, [idx2, idx1]]\n",
    "         # Mutation type 2: Replace one preference with a new producer\n",
    "         elif NUM_PRODUCERS > NUM_PREFERENCES: # Only possible if there are producers *not* currently preferred\n",
    "             pref_idx_to_replace = random.randint(0, NUM_PREFERENCES - 1)\n",
    "             current_prefs = set(individual.preference_matrix[s_to_mutate, :]) # Use set for efficient lookup\n",
    "             possible_new_producers = list(range(NUM_PRODUCERS))\n",
    "             available_new_producers = [p for p in possible_new_producers if p not in current_prefs]\n",
    "\n",
    "             if available_new_producers:\n",
    "                 new_producer = random.choice(available_new_producers)\n",
    "                 individual.preference_matrix[s_to_mutate, pref_idx_to_replace] = new_producer\n",
    "         # Add more mutation strategies if needed (e.g. shuffle entire preference list)\n",
    "\n",
    "\n",
    "# --- Main GA Loop ---\n",
    "def run_genetic_algorithm():\n",
    "    \"\"\"Executes the genetic algorithm.\"\"\"\n",
    "    if NUM_PRODUCERS == 0 or NUM_SUBSCRIBERS == 0:\n",
    "         print(\"Error: No producers or subscribers found in the data. Cannot run GA.\")\n",
    "         return None, None\n",
    "\n",
    "    population = initialize_population(POPULATION_SIZE)\n",
    "\n",
    "    print(\"Calculating initial fitness...\")\n",
    "    # Use tqdm for progress bar if available\n",
    "    for ind in tqdm(population, desc=\"Initial Fitness Calc\"):\n",
    "        ind.calculate_fitness()\n",
    "\n",
    "    best_overall_fitness = float('inf')\n",
    "    best_overall_individual = None\n",
    "\n",
    "    print(f\"\\nStarting GA ({NUM_GENERATIONS} generations, {POPULATION_SIZE} population)\")\n",
    "    generation_iterator = tqdm(range(NUM_GENERATIONS), desc=\"Generations\") if 'tqdm' in globals() else range(NUM_GENERATIONS)\n",
    "\n",
    "    for generation in generation_iterator:\n",
    "        # Sort population by fitness (ascending order - lower is better)\n",
    "        population.sort(key=lambda ind: ind.fitness)\n",
    "\n",
    "        # Track best fitness\n",
    "        current_best_fitness = population[0].fitness\n",
    "        if current_best_fitness < best_overall_fitness:\n",
    "            best_overall_fitness = current_best_fitness\n",
    "            best_overall_individual = copy.deepcopy(population[0])\n",
    "            update_message = f\"Gen {generation+1}/{NUM_GENERATIONS} - New Best Fitness: {best_overall_fitness:.4f}\"\n",
    "            if 'tqdm' in globals(): generation_iterator.set_postfix_str(update_message)\n",
    "            print(update_message) # Print regardless of tqdm\n",
    "        elif (generation + 1) % 10 == 0: # Periodic update even if no improvement\n",
    "            update_message = f\"Gen {generation+1}/{NUM_GENERATIONS} - Crnt Best: {population[0].fitness:.4f} (Ovrll Best: {best_overall_fitness:.4f})\"\n",
    "            if 'tqdm' in globals(): generation_iterator.set_postfix_str(update_message)\n",
    "            else: print(update_message)\n",
    "\n",
    "\n",
    "        # Create next generation\n",
    "        new_population = []\n",
    "\n",
    "        # Elitism\n",
    "        if ELITISM_COUNT > 0:\n",
    "            # Ensure elitism count doesn't exceed population size\n",
    "            actual_elitism_count = min(ELITISM_COUNT, len(population))\n",
    "            new_population.extend(population[:actual_elitism_count])\n",
    "\n",
    "        # Fill the rest\n",
    "        while len(new_population) < POPULATION_SIZE:\n",
    "            if not population: break # Safety break if population somehow becomes empty\n",
    "            parent1 = tournament_selection(population)\n",
    "            parent2 = tournament_selection(population)\n",
    "\n",
    "            child1, child2 = crossover(parent1, parent2)\n",
    "\n",
    "            mutate(child1)\n",
    "            mutate(child2)\n",
    "\n",
    "            # Calculate fitness for new children *before* adding to selection pool for next gen\n",
    "            child1.calculate_fitness()\n",
    "            new_population.append(child1)\n",
    "\n",
    "            if len(new_population) < POPULATION_SIZE:\n",
    "                 child2.calculate_fitness()\n",
    "                 new_population.append(child2)\n",
    "\n",
    "        population = new_population\n",
    "        if not population: # Safety check\n",
    "            print(\"Error: Population became empty during generation loop.\")\n",
    "            break\n",
    "\n",
    "\n",
    "    # Final check and return\n",
    "    if not population and not best_overall_individual:\n",
    "         print(\"Error: GA finished without any valid individuals.\")\n",
    "         return None, None\n",
    "\n",
    "    # If population exists, one last sort might be needed if elitism wasn't perfect\n",
    "    if population:\n",
    "        population.sort(key=lambda ind: ind.fitness)\n",
    "        if best_overall_individual is None or population[0].fitness < best_overall_fitness :\n",
    "             best_overall_individual = population[0]\n",
    "             best_overall_fitness = population[0].fitness\n",
    "\n",
    "\n",
    "    print(\"\\nGA Finished.\")\n",
    "    if best_overall_individual:\n",
    "        print(f\"Best overall fitness found: {best_overall_fitness:.4f}\")\n",
    "        return best_overall_individual.weight_matrix, best_overall_individual.preference_matrix\n",
    "    else:\n",
    "        print(\"Warning: No best individual found (possibly due to errors or empty population).\")\n",
    "        return None, None\n",
    "\n",
    "# --- Run the Algorithm ---\n"
   ]
  },
  {
   "cell_type": "code",
   "execution_count": null,
   "metadata": {},
   "outputs": [
    {
     "name": "stdout",
     "output_type": "stream",
     "text": [
      "Calculating initial fitness...\n"
     ]
    },
    {
     "name": "stderr",
     "output_type": "stream",
     "text": [
      "Initial Fitness Calc: 100%|██████████| 70/70 [00:18<00:00,  3.89it/s]\n"
     ]
    },
    {
     "name": "stdout",
     "output_type": "stream",
     "text": [
      "\n",
      "Starting GA (500 generations, 70 population)\n"
     ]
    },
    {
     "name": "stderr",
     "output_type": "stream",
     "text": [
      "Generations:   0%|          | 0/500 [00:00<?, ?it/s, Gen 1/500 - New Best Fitness: 147.5797]"
     ]
    },
    {
     "name": "stdout",
     "output_type": "stream",
     "text": [
      "Gen 1/500 - New Best Fitness: 147.5797\n"
     ]
    },
    {
     "name": "stderr",
     "output_type": "stream",
     "text": [
      "Generations:   0%|          | 1/500 [00:17<2:23:58, 17.31s/it, Gen 2/500 - New Best Fitness: 147.0558]"
     ]
    },
    {
     "name": "stdout",
     "output_type": "stream",
     "text": [
      "Gen 2/500 - New Best Fitness: 147.0558\n"
     ]
    },
    {
     "name": "stderr",
     "output_type": "stream",
     "text": [
      "Generations:   0%|          | 2/500 [00:34<2:23:35, 17.30s/it, Gen 3/500 - New Best Fitness: 145.6488]"
     ]
    },
    {
     "name": "stdout",
     "output_type": "stream",
     "text": [
      "Gen 3/500 - New Best Fitness: 145.6488\n"
     ]
    },
    {
     "name": "stderr",
     "output_type": "stream",
     "text": [
      "Generations:   1%|          | 3/500 [00:51<2:22:51, 17.25s/it, Gen 4/500 - New Best Fitness: 142.2459]"
     ]
    },
    {
     "name": "stdout",
     "output_type": "stream",
     "text": [
      "Gen 4/500 - New Best Fitness: 142.2459\n"
     ]
    },
    {
     "name": "stderr",
     "output_type": "stream",
     "text": [
      "Generations:   1%|          | 5/500 [01:26<2:22:41, 17.30s/it, Gen 6/500 - New Best Fitness: 141.6945]"
     ]
    },
    {
     "name": "stdout",
     "output_type": "stream",
     "text": [
      "Gen 6/500 - New Best Fitness: 141.6945\n"
     ]
    },
    {
     "name": "stderr",
     "output_type": "stream",
     "text": [
      "Generations:   1%|          | 6/500 [01:43<2:22:13, 17.27s/it, Gen 7/500 - New Best Fitness: 139.1438]"
     ]
    },
    {
     "name": "stdout",
     "output_type": "stream",
     "text": [
      "Gen 7/500 - New Best Fitness: 139.1438\n"
     ]
    },
    {
     "name": "stderr",
     "output_type": "stream",
     "text": [
      "Generations:   2%|▏         | 9/500 [02:35<2:20:50, 17.21s/it, Gen 10/500 - New Best Fitness: 138.4243]"
     ]
    },
    {
     "name": "stdout",
     "output_type": "stream",
     "text": [
      "Gen 10/500 - New Best Fitness: 138.4243\n"
     ]
    },
    {
     "name": "stderr",
     "output_type": "stream",
     "text": [
      "Generations:   2%|▏         | 10/500 [02:52<2:20:14, 17.17s/it, Gen 11/500 - New Best Fitness: 137.8839]"
     ]
    },
    {
     "name": "stdout",
     "output_type": "stream",
     "text": [
      "Gen 11/500 - New Best Fitness: 137.8839\n"
     ]
    },
    {
     "name": "stderr",
     "output_type": "stream",
     "text": [
      "Generations:   2%|▏         | 11/500 [03:09<2:19:49, 17.16s/it, Gen 12/500 - New Best Fitness: 137.7189]"
     ]
    },
    {
     "name": "stdout",
     "output_type": "stream",
     "text": [
      "Gen 12/500 - New Best Fitness: 137.7189\n"
     ]
    },
    {
     "name": "stderr",
     "output_type": "stream",
     "text": [
      "Generations:   2%|▏         | 12/500 [03:26<2:19:39, 17.17s/it, Gen 13/500 - New Best Fitness: 137.4106]"
     ]
    },
    {
     "name": "stdout",
     "output_type": "stream",
     "text": [
      "Gen 13/500 - New Best Fitness: 137.4106\n"
     ]
    },
    {
     "name": "stderr",
     "output_type": "stream",
     "text": [
      "Generations:   3%|▎         | 13/500 [03:43<2:19:27, 17.18s/it, Gen 14/500 - New Best Fitness: 137.3690]"
     ]
    },
    {
     "name": "stdout",
     "output_type": "stream",
     "text": [
      "Gen 14/500 - New Best Fitness: 137.3690\n"
     ]
    },
    {
     "name": "stderr",
     "output_type": "stream",
     "text": [
      "Generations:   3%|▎         | 14/500 [04:01<2:19:17, 17.20s/it, Gen 15/500 - New Best Fitness: 137.2057]"
     ]
    },
    {
     "name": "stdout",
     "output_type": "stream",
     "text": [
      "Gen 15/500 - New Best Fitness: 137.2057\n"
     ]
    },
    {
     "name": "stderr",
     "output_type": "stream",
     "text": [
      "Generations:   3%|▎         | 15/500 [04:18<2:19:04, 17.20s/it, Gen 16/500 - New Best Fitness: 136.8237]"
     ]
    },
    {
     "name": "stdout",
     "output_type": "stream",
     "text": [
      "Gen 16/500 - New Best Fitness: 136.8237\n"
     ]
    },
    {
     "name": "stderr",
     "output_type": "stream",
     "text": [
      "Generations:   3%|▎         | 16/500 [04:35<2:18:41, 17.19s/it, Gen 17/500 - New Best Fitness: 136.3144]"
     ]
    },
    {
     "name": "stdout",
     "output_type": "stream",
     "text": [
      "Gen 17/500 - New Best Fitness: 136.3144\n"
     ]
    },
    {
     "name": "stderr",
     "output_type": "stream",
     "text": [
      "Generations:   3%|▎         | 17/500 [04:52<2:18:30, 17.21s/it, Gen 18/500 - New Best Fitness: 136.1543]"
     ]
    },
    {
     "name": "stdout",
     "output_type": "stream",
     "text": [
      "Gen 18/500 - New Best Fitness: 136.1543\n"
     ]
    },
    {
     "name": "stderr",
     "output_type": "stream",
     "text": [
      "Generations:   4%|▎         | 18/500 [05:10<2:18:43, 17.27s/it, Gen 19/500 - New Best Fitness: 135.9584]"
     ]
    },
    {
     "name": "stdout",
     "output_type": "stream",
     "text": [
      "Gen 19/500 - New Best Fitness: 135.9584\n"
     ]
    },
    {
     "name": "stderr",
     "output_type": "stream",
     "text": [
      "Generations:   4%|▍         | 19/500 [05:27<2:18:48, 17.31s/it, Gen 20/500 - New Best Fitness: 135.3924]"
     ]
    },
    {
     "name": "stdout",
     "output_type": "stream",
     "text": [
      "Gen 20/500 - New Best Fitness: 135.3924\n"
     ]
    },
    {
     "name": "stderr",
     "output_type": "stream",
     "text": [
      "Generations:   4%|▍         | 20/500 [05:44<2:18:27, 17.31s/it, Gen 21/500 - New Best Fitness: 135.1871]"
     ]
    },
    {
     "name": "stdout",
     "output_type": "stream",
     "text": [
      "Gen 21/500 - New Best Fitness: 135.1871\n"
     ]
    },
    {
     "name": "stderr",
     "output_type": "stream",
     "text": [
      "Generations:   4%|▍         | 21/500 [06:02<2:18:29, 17.35s/it, Gen 22/500 - New Best Fitness: 135.1473]"
     ]
    },
    {
     "name": "stdout",
     "output_type": "stream",
     "text": [
      "Gen 22/500 - New Best Fitness: 135.1473\n"
     ]
    },
    {
     "name": "stderr",
     "output_type": "stream",
     "text": [
      "Generations:   4%|▍         | 22/500 [06:19<2:18:23, 17.37s/it, Gen 23/500 - New Best Fitness: 134.6966]"
     ]
    },
    {
     "name": "stdout",
     "output_type": "stream",
     "text": [
      "Gen 23/500 - New Best Fitness: 134.6966\n"
     ]
    },
    {
     "name": "stderr",
     "output_type": "stream",
     "text": [
      "Generations:   5%|▍         | 23/500 [06:37<2:18:04, 17.37s/it, Gen 24/500 - New Best Fitness: 134.2714]"
     ]
    },
    {
     "name": "stdout",
     "output_type": "stream",
     "text": [
      "Gen 24/500 - New Best Fitness: 134.2714\n"
     ]
    },
    {
     "name": "stderr",
     "output_type": "stream",
     "text": [
      "Generations:   5%|▍         | 24/500 [06:54<2:17:39, 17.35s/it, Gen 25/500 - New Best Fitness: 133.7911]"
     ]
    },
    {
     "name": "stdout",
     "output_type": "stream",
     "text": [
      "Gen 25/500 - New Best Fitness: 133.7911\n"
     ]
    },
    {
     "name": "stderr",
     "output_type": "stream",
     "text": [
      "Generations:   5%|▌         | 25/500 [07:11<2:17:33, 17.37s/it, Gen 26/500 - New Best Fitness: 133.7911]"
     ]
    },
    {
     "name": "stdout",
     "output_type": "stream",
     "text": [
      "Gen 26/500 - New Best Fitness: 133.7911\n"
     ]
    },
    {
     "name": "stderr",
     "output_type": "stream",
     "text": [
      "Generations:   5%|▌         | 26/500 [07:29<2:17:12, 17.37s/it, Gen 27/500 - New Best Fitness: 133.2728]"
     ]
    },
    {
     "name": "stdout",
     "output_type": "stream",
     "text": [
      "Gen 27/500 - New Best Fitness: 133.2728\n"
     ]
    },
    {
     "name": "stderr",
     "output_type": "stream",
     "text": [
      "Generations:   5%|▌         | 27/500 [07:46<2:17:09, 17.40s/it, Gen 28/500 - New Best Fitness: 133.1243]"
     ]
    },
    {
     "name": "stdout",
     "output_type": "stream",
     "text": [
      "Gen 28/500 - New Best Fitness: 133.1243\n"
     ]
    },
    {
     "name": "stderr",
     "output_type": "stream",
     "text": [
      "Generations:   6%|▌         | 28/500 [08:04<2:16:54, 17.40s/it, Gen 29/500 - New Best Fitness: 133.0276]"
     ]
    },
    {
     "name": "stdout",
     "output_type": "stream",
     "text": [
      "Gen 29/500 - New Best Fitness: 133.0276\n"
     ]
    },
    {
     "name": "stderr",
     "output_type": "stream",
     "text": [
      "Generations:   6%|▌         | 29/500 [08:21<2:16:37, 17.40s/it, Gen 30/500 - New Best Fitness: 132.9601]"
     ]
    },
    {
     "name": "stdout",
     "output_type": "stream",
     "text": [
      "Gen 30/500 - New Best Fitness: 132.9601\n"
     ]
    },
    {
     "name": "stderr",
     "output_type": "stream",
     "text": [
      "Generations:   6%|▌         | 30/500 [08:38<2:16:23, 17.41s/it, Gen 31/500 - New Best Fitness: 132.7522]"
     ]
    },
    {
     "name": "stdout",
     "output_type": "stream",
     "text": [
      "Gen 31/500 - New Best Fitness: 132.7522\n"
     ]
    },
    {
     "name": "stderr",
     "output_type": "stream",
     "text": [
      "Generations:   6%|▌         | 31/500 [08:56<2:15:54, 17.39s/it, Gen 32/500 - New Best Fitness: 132.2930]"
     ]
    },
    {
     "name": "stdout",
     "output_type": "stream",
     "text": [
      "Gen 32/500 - New Best Fitness: 132.2930\n"
     ]
    },
    {
     "name": "stderr",
     "output_type": "stream",
     "text": [
      "Generations:   6%|▋         | 32/500 [09:13<2:16:10, 17.46s/it, Gen 33/500 - New Best Fitness: 130.7105]"
     ]
    },
    {
     "name": "stdout",
     "output_type": "stream",
     "text": [
      "Gen 33/500 - New Best Fitness: 130.7105\n"
     ]
    },
    {
     "name": "stderr",
     "output_type": "stream",
     "text": [
      "Generations:   7%|▋         | 33/500 [09:31<2:15:53, 17.46s/it, Gen 34/500 - New Best Fitness: 130.4969]"
     ]
    },
    {
     "name": "stdout",
     "output_type": "stream",
     "text": [
      "Gen 34/500 - New Best Fitness: 130.4969\n"
     ]
    },
    {
     "name": "stderr",
     "output_type": "stream",
     "text": [
      "Generations:   7%|▋         | 34/500 [09:48<2:15:30, 17.45s/it, Gen 35/500 - New Best Fitness: 130.4001]"
     ]
    },
    {
     "name": "stdout",
     "output_type": "stream",
     "text": [
      "Gen 35/500 - New Best Fitness: 130.4001\n"
     ]
    },
    {
     "name": "stderr",
     "output_type": "stream",
     "text": [
      "Generations:   7%|▋         | 35/500 [10:06<2:15:05, 17.43s/it, Gen 36/500 - New Best Fitness: 129.3874]"
     ]
    },
    {
     "name": "stdout",
     "output_type": "stream",
     "text": [
      "Gen 36/500 - New Best Fitness: 129.3874\n"
     ]
    },
    {
     "name": "stderr",
     "output_type": "stream",
     "text": [
      "Generations:   7%|▋         | 37/500 [10:40<2:14:27, 17.43s/it, Gen 38/500 - New Best Fitness: 129.2086]"
     ]
    },
    {
     "name": "stdout",
     "output_type": "stream",
     "text": [
      "Gen 38/500 - New Best Fitness: 129.2086\n"
     ]
    },
    {
     "name": "stderr",
     "output_type": "stream",
     "text": [
      "Generations:   8%|▊         | 38/500 [10:58<2:14:14, 17.43s/it, Gen 39/500 - New Best Fitness: 129.2025]"
     ]
    },
    {
     "name": "stdout",
     "output_type": "stream",
     "text": [
      "Gen 39/500 - New Best Fitness: 129.2025\n"
     ]
    },
    {
     "name": "stderr",
     "output_type": "stream",
     "text": [
      "Generations:   8%|▊         | 39/500 [11:15<2:14:01, 17.44s/it, Gen 40/500 - New Best Fitness: 129.1873]"
     ]
    },
    {
     "name": "stdout",
     "output_type": "stream",
     "text": [
      "Gen 40/500 - New Best Fitness: 129.1873\n"
     ]
    },
    {
     "name": "stderr",
     "output_type": "stream",
     "text": [
      "Generations:   8%|▊         | 40/500 [11:33<2:14:10, 17.50s/it, Gen 41/500 - New Best Fitness: 128.0044]"
     ]
    },
    {
     "name": "stdout",
     "output_type": "stream",
     "text": [
      "Gen 41/500 - New Best Fitness: 128.0044\n"
     ]
    },
    {
     "name": "stderr",
     "output_type": "stream",
     "text": [
      "Generations:   8%|▊         | 41/500 [11:50<2:13:44, 17.48s/it, Gen 42/500 - New Best Fitness: 127.9863]"
     ]
    },
    {
     "name": "stdout",
     "output_type": "stream",
     "text": [
      "Gen 42/500 - New Best Fitness: 127.9863\n"
     ]
    },
    {
     "name": "stderr",
     "output_type": "stream",
     "text": [
      "Generations:   8%|▊         | 42/500 [12:08<2:14:01, 17.56s/it, Gen 43/500 - New Best Fitness: 126.7834]"
     ]
    },
    {
     "name": "stdout",
     "output_type": "stream",
     "text": [
      "Gen 43/500 - New Best Fitness: 126.7834\n"
     ]
    },
    {
     "name": "stderr",
     "output_type": "stream",
     "text": [
      "Generations:   9%|▊         | 43/500 [12:26<2:14:00, 17.59s/it, Gen 44/500 - New Best Fitness: 126.7776]"
     ]
    },
    {
     "name": "stdout",
     "output_type": "stream",
     "text": [
      "Gen 44/500 - New Best Fitness: 126.7776\n"
     ]
    },
    {
     "name": "stderr",
     "output_type": "stream",
     "text": [
      "Generations:   9%|▉         | 44/500 [12:43<2:13:44, 17.60s/it, Gen 45/500 - New Best Fitness: 126.4590]"
     ]
    },
    {
     "name": "stdout",
     "output_type": "stream",
     "text": [
      "Gen 45/500 - New Best Fitness: 126.4590\n"
     ]
    },
    {
     "name": "stderr",
     "output_type": "stream",
     "text": [
      "Generations:   9%|▉         | 45/500 [13:01<2:13:29, 17.60s/it, Gen 46/500 - New Best Fitness: 126.4284]"
     ]
    },
    {
     "name": "stdout",
     "output_type": "stream",
     "text": [
      "Gen 46/500 - New Best Fitness: 126.4284\n"
     ]
    },
    {
     "name": "stderr",
     "output_type": "stream",
     "text": [
      "Generations:   9%|▉         | 46/500 [13:19<2:13:10, 17.60s/it, Gen 47/500 - New Best Fitness: 126.4226]"
     ]
    },
    {
     "name": "stdout",
     "output_type": "stream",
     "text": [
      "Gen 47/500 - New Best Fitness: 126.4226\n"
     ]
    },
    {
     "name": "stderr",
     "output_type": "stream",
     "text": [
      "Generations:   9%|▉         | 47/500 [13:36<2:12:56, 17.61s/it, Gen 48/500 - New Best Fitness: 125.3036]"
     ]
    },
    {
     "name": "stdout",
     "output_type": "stream",
     "text": [
      "Gen 48/500 - New Best Fitness: 125.3036\n"
     ]
    },
    {
     "name": "stderr",
     "output_type": "stream",
     "text": [
      "Generations:  10%|▉         | 48/500 [13:54<2:12:09, 17.54s/it, Gen 49/500 - New Best Fitness: 123.4483]"
     ]
    },
    {
     "name": "stdout",
     "output_type": "stream",
     "text": [
      "Gen 49/500 - New Best Fitness: 123.4483\n"
     ]
    },
    {
     "name": "stderr",
     "output_type": "stream",
     "text": [
      "Generations:  10%|▉         | 49/500 [14:11<2:11:42, 17.52s/it, Gen 50/500 - New Best Fitness: 122.4811]"
     ]
    },
    {
     "name": "stdout",
     "output_type": "stream",
     "text": [
      "Gen 50/500 - New Best Fitness: 122.4811\n"
     ]
    },
    {
     "name": "stderr",
     "output_type": "stream",
     "text": [
      "Generations:  10%|█         | 50/500 [14:29<2:11:05, 17.48s/it, Gen 51/500 - New Best Fitness: 122.4682]"
     ]
    },
    {
     "name": "stdout",
     "output_type": "stream",
     "text": [
      "Gen 51/500 - New Best Fitness: 122.4682\n"
     ]
    },
    {
     "name": "stderr",
     "output_type": "stream",
     "text": [
      "Generations:  10%|█         | 51/500 [14:46<2:10:45, 17.47s/it, Gen 52/500 - New Best Fitness: 122.1298]"
     ]
    },
    {
     "name": "stdout",
     "output_type": "stream",
     "text": [
      "Gen 52/500 - New Best Fitness: 122.1298\n"
     ]
    },
    {
     "name": "stderr",
     "output_type": "stream",
     "text": [
      "Generations:  10%|█         | 52/500 [15:04<2:10:33, 17.49s/it, Gen 53/500 - New Best Fitness: 122.0230]"
     ]
    },
    {
     "name": "stdout",
     "output_type": "stream",
     "text": [
      "Gen 53/500 - New Best Fitness: 122.0230\n"
     ]
    },
    {
     "name": "stderr",
     "output_type": "stream",
     "text": [
      "Generations:  11%|█         | 53/500 [15:21<2:10:23, 17.50s/it, Gen 54/500 - New Best Fitness: 121.6903]"
     ]
    },
    {
     "name": "stdout",
     "output_type": "stream",
     "text": [
      "Gen 54/500 - New Best Fitness: 121.6903\n"
     ]
    },
    {
     "name": "stderr",
     "output_type": "stream",
     "text": [
      "Generations:  11%|█         | 54/500 [15:39<2:09:59, 17.49s/it, Gen 55/500 - New Best Fitness: 121.3533]"
     ]
    },
    {
     "name": "stdout",
     "output_type": "stream",
     "text": [
      "Gen 55/500 - New Best Fitness: 121.3533\n"
     ]
    },
    {
     "name": "stderr",
     "output_type": "stream",
     "text": [
      "Generations:  11%|█         | 55/500 [15:56<2:09:29, 17.46s/it, Gen 56/500 - New Best Fitness: 120.7514]"
     ]
    },
    {
     "name": "stdout",
     "output_type": "stream",
     "text": [
      "Gen 56/500 - New Best Fitness: 120.7514\n"
     ]
    },
    {
     "name": "stderr",
     "output_type": "stream",
     "text": [
      "Generations:  11%|█         | 56/500 [16:13<2:09:09, 17.45s/it, Gen 57/500 - New Best Fitness: 120.7447]"
     ]
    },
    {
     "name": "stdout",
     "output_type": "stream",
     "text": [
      "Gen 57/500 - New Best Fitness: 120.7447\n"
     ]
    },
    {
     "name": "stderr",
     "output_type": "stream",
     "text": [
      "Generations:  11%|█▏        | 57/500 [16:31<2:08:43, 17.43s/it, Gen 58/500 - New Best Fitness: 120.2577]"
     ]
    },
    {
     "name": "stdout",
     "output_type": "stream",
     "text": [
      "Gen 58/500 - New Best Fitness: 120.2577\n"
     ]
    },
    {
     "name": "stderr",
     "output_type": "stream",
     "text": [
      "Generations:  12%|█▏        | 58/500 [16:48<2:08:29, 17.44s/it, Gen 59/500 - New Best Fitness: 118.8304]"
     ]
    },
    {
     "name": "stdout",
     "output_type": "stream",
     "text": [
      "Gen 59/500 - New Best Fitness: 118.8304\n"
     ]
    },
    {
     "name": "stderr",
     "output_type": "stream",
     "text": [
      "Generations:  12%|█▏        | 59/500 [17:06<2:08:15, 17.45s/it, Gen 60/500 - New Best Fitness: 117.7901]"
     ]
    },
    {
     "name": "stdout",
     "output_type": "stream",
     "text": [
      "Gen 60/500 - New Best Fitness: 117.7901\n"
     ]
    },
    {
     "name": "stderr",
     "output_type": "stream",
     "text": [
      "Generations:  12%|█▏        | 60/500 [17:23<2:07:47, 17.43s/it, Gen 61/500 - New Best Fitness: 117.7730]"
     ]
    },
    {
     "name": "stdout",
     "output_type": "stream",
     "text": [
      "Gen 61/500 - New Best Fitness: 117.7730\n"
     ]
    },
    {
     "name": "stderr",
     "output_type": "stream",
     "text": [
      "Generations:  12%|█▏        | 61/500 [17:40<2:07:27, 17.42s/it, Gen 62/500 - New Best Fitness: 116.9113]"
     ]
    },
    {
     "name": "stdout",
     "output_type": "stream",
     "text": [
      "Gen 62/500 - New Best Fitness: 116.9113\n"
     ]
    },
    {
     "name": "stderr",
     "output_type": "stream",
     "text": [
      "Generations:  12%|█▏        | 62/500 [17:58<2:06:53, 17.38s/it, Gen 63/500 - New Best Fitness: 116.4769]"
     ]
    },
    {
     "name": "stdout",
     "output_type": "stream",
     "text": [
      "Gen 63/500 - New Best Fitness: 116.4769\n"
     ]
    },
    {
     "name": "stderr",
     "output_type": "stream",
     "text": [
      "Generations:  13%|█▎        | 64/500 [18:32<2:06:13, 17.37s/it, Gen 65/500 - New Best Fitness: 116.2458]"
     ]
    },
    {
     "name": "stdout",
     "output_type": "stream",
     "text": [
      "Gen 65/500 - New Best Fitness: 116.2458\n"
     ]
    },
    {
     "name": "stderr",
     "output_type": "stream",
     "text": [
      "Generations:  13%|█▎        | 65/500 [18:50<2:05:50, 17.36s/it, Gen 66/500 - New Best Fitness: 115.9648]"
     ]
    },
    {
     "name": "stdout",
     "output_type": "stream",
     "text": [
      "Gen 66/500 - New Best Fitness: 115.9648\n"
     ]
    },
    {
     "name": "stderr",
     "output_type": "stream",
     "text": [
      "Generations:  13%|█▎        | 66/500 [19:07<2:05:42, 17.38s/it, Gen 67/500 - New Best Fitness: 115.8433]"
     ]
    },
    {
     "name": "stdout",
     "output_type": "stream",
     "text": [
      "Gen 67/500 - New Best Fitness: 115.8433\n"
     ]
    },
    {
     "name": "stderr",
     "output_type": "stream",
     "text": [
      "Generations:  13%|█▎        | 67/500 [19:25<2:05:27, 17.38s/it, Gen 68/500 - New Best Fitness: 115.8225]"
     ]
    },
    {
     "name": "stdout",
     "output_type": "stream",
     "text": [
      "Gen 68/500 - New Best Fitness: 115.8225\n"
     ]
    },
    {
     "name": "stderr",
     "output_type": "stream",
     "text": [
      "Generations:  14%|█▎        | 68/500 [19:42<2:05:05, 17.37s/it, Gen 69/500 - New Best Fitness: 115.8178]"
     ]
    },
    {
     "name": "stdout",
     "output_type": "stream",
     "text": [
      "Gen 69/500 - New Best Fitness: 115.8178\n"
     ]
    },
    {
     "name": "stderr",
     "output_type": "stream",
     "text": [
      "Generations:  14%|█▍        | 69/500 [19:59<2:04:50, 17.38s/it, Gen 70/500 - New Best Fitness: 115.8129]"
     ]
    },
    {
     "name": "stdout",
     "output_type": "stream",
     "text": [
      "Gen 70/500 - New Best Fitness: 115.8129\n"
     ]
    },
    {
     "name": "stderr",
     "output_type": "stream",
     "text": [
      "Generations:  14%|█▍        | 70/500 [20:17<2:04:24, 17.36s/it, Gen 71/500 - New Best Fitness: 115.6711]"
     ]
    },
    {
     "name": "stdout",
     "output_type": "stream",
     "text": [
      "Gen 71/500 - New Best Fitness: 115.6711\n"
     ]
    },
    {
     "name": "stderr",
     "output_type": "stream",
     "text": [
      "Generations:  14%|█▍        | 71/500 [20:34<2:04:12, 17.37s/it, Gen 72/500 - New Best Fitness: 115.6665]"
     ]
    },
    {
     "name": "stdout",
     "output_type": "stream",
     "text": [
      "Gen 72/500 - New Best Fitness: 115.6665\n"
     ]
    },
    {
     "name": "stderr",
     "output_type": "stream",
     "text": [
      "Generations:  14%|█▍        | 72/500 [20:51<2:03:37, 17.33s/it, Gen 73/500 - New Best Fitness: 115.5650]"
     ]
    },
    {
     "name": "stdout",
     "output_type": "stream",
     "text": [
      "Gen 73/500 - New Best Fitness: 115.5650\n"
     ]
    },
    {
     "name": "stderr",
     "output_type": "stream",
     "text": [
      "Generations:  15%|█▍        | 73/500 [21:09<2:03:25, 17.34s/it, Gen 74/500 - New Best Fitness: 115.4166]"
     ]
    },
    {
     "name": "stdout",
     "output_type": "stream",
     "text": [
      "Gen 74/500 - New Best Fitness: 115.4166\n"
     ]
    },
    {
     "name": "stderr",
     "output_type": "stream",
     "text": [
      "Generations:  15%|█▍        | 74/500 [21:26<2:02:56, 17.31s/it, Gen 75/500 - New Best Fitness: 115.4155]"
     ]
    },
    {
     "name": "stdout",
     "output_type": "stream",
     "text": [
      "Gen 75/500 - New Best Fitness: 115.4155\n"
     ]
    },
    {
     "name": "stderr",
     "output_type": "stream",
     "text": [
      "Generations:  15%|█▌        | 75/500 [21:43<2:02:38, 17.31s/it, Gen 76/500 - New Best Fitness: 115.1109]"
     ]
    },
    {
     "name": "stdout",
     "output_type": "stream",
     "text": [
      "Gen 76/500 - New Best Fitness: 115.1109\n"
     ]
    },
    {
     "name": "stderr",
     "output_type": "stream",
     "text": [
      "Generations:  15%|█▌        | 76/500 [22:00<2:02:09, 17.29s/it, Gen 77/500 - New Best Fitness: 115.0818]"
     ]
    },
    {
     "name": "stdout",
     "output_type": "stream",
     "text": [
      "Gen 77/500 - New Best Fitness: 115.0818\n"
     ]
    },
    {
     "name": "stderr",
     "output_type": "stream",
     "text": [
      "Generations:  15%|█▌        | 77/500 [22:18<2:01:51, 17.29s/it, Gen 78/500 - New Best Fitness: 114.8967]"
     ]
    },
    {
     "name": "stdout",
     "output_type": "stream",
     "text": [
      "Gen 78/500 - New Best Fitness: 114.8967\n"
     ]
    },
    {
     "name": "stderr",
     "output_type": "stream",
     "text": [
      "Generations:  16%|█▌        | 78/500 [22:35<2:01:44, 17.31s/it, Gen 79/500 - New Best Fitness: 113.7715]"
     ]
    },
    {
     "name": "stdout",
     "output_type": "stream",
     "text": [
      "Gen 79/500 - New Best Fitness: 113.7715\n"
     ]
    },
    {
     "name": "stderr",
     "output_type": "stream",
     "text": [
      "Generations:  16%|█▌        | 79/500 [22:53<2:01:41, 17.34s/it, Gen 80/500 - New Best Fitness: 113.6083]"
     ]
    },
    {
     "name": "stdout",
     "output_type": "stream",
     "text": [
      "Gen 80/500 - New Best Fitness: 113.6083\n"
     ]
    },
    {
     "name": "stderr",
     "output_type": "stream",
     "text": [
      "Generations:  16%|█▌        | 80/500 [23:10<2:01:29, 17.36s/it, Gen 81/500 - New Best Fitness: 113.5883]"
     ]
    },
    {
     "name": "stdout",
     "output_type": "stream",
     "text": [
      "Gen 81/500 - New Best Fitness: 113.5883\n"
     ]
    },
    {
     "name": "stderr",
     "output_type": "stream",
     "text": [
      "Generations:  16%|█▌        | 81/500 [23:27<2:01:01, 17.33s/it, Gen 82/500 - New Best Fitness: 112.8343]"
     ]
    },
    {
     "name": "stdout",
     "output_type": "stream",
     "text": [
      "Gen 82/500 - New Best Fitness: 112.8343\n"
     ]
    },
    {
     "name": "stderr",
     "output_type": "stream",
     "text": [
      "Generations:  16%|█▋        | 82/500 [23:44<2:00:28, 17.29s/it, Gen 83/500 - New Best Fitness: 112.7563]"
     ]
    },
    {
     "name": "stdout",
     "output_type": "stream",
     "text": [
      "Gen 83/500 - New Best Fitness: 112.7563\n"
     ]
    },
    {
     "name": "stderr",
     "output_type": "stream",
     "text": [
      "Generations:  17%|█▋        | 83/500 [24:02<2:00:17, 17.31s/it, Gen 84/500 - New Best Fitness: 112.7334]"
     ]
    },
    {
     "name": "stdout",
     "output_type": "stream",
     "text": [
      "Gen 84/500 - New Best Fitness: 112.7334\n"
     ]
    },
    {
     "name": "stderr",
     "output_type": "stream",
     "text": [
      "Generations:  17%|█▋        | 84/500 [24:19<2:00:03, 17.32s/it, Gen 85/500 - New Best Fitness: 112.6305]"
     ]
    },
    {
     "name": "stdout",
     "output_type": "stream",
     "text": [
      "Gen 85/500 - New Best Fitness: 112.6305\n"
     ]
    },
    {
     "name": "stderr",
     "output_type": "stream",
     "text": [
      "Generations:  17%|█▋        | 85/500 [24:36<1:59:47, 17.32s/it, Gen 86/500 - New Best Fitness: 112.6213]"
     ]
    },
    {
     "name": "stdout",
     "output_type": "stream",
     "text": [
      "Gen 86/500 - New Best Fitness: 112.6213\n"
     ]
    },
    {
     "name": "stderr",
     "output_type": "stream",
     "text": [
      "Generations:  17%|█▋        | 86/500 [24:54<1:59:35, 17.33s/it, Gen 87/500 - New Best Fitness: 112.5040]"
     ]
    },
    {
     "name": "stdout",
     "output_type": "stream",
     "text": [
      "Gen 87/500 - New Best Fitness: 112.5040\n"
     ]
    },
    {
     "name": "stderr",
     "output_type": "stream",
     "text": [
      "Generations:  17%|█▋        | 87/500 [25:11<1:59:24, 17.35s/it, Gen 88/500 - New Best Fitness: 112.4940]"
     ]
    },
    {
     "name": "stdout",
     "output_type": "stream",
     "text": [
      "Gen 88/500 - New Best Fitness: 112.4940\n"
     ]
    },
    {
     "name": "stderr",
     "output_type": "stream",
     "text": [
      "Generations:  18%|█▊        | 88/500 [25:28<1:59:07, 17.35s/it, Gen 89/500 - New Best Fitness: 112.4932]"
     ]
    },
    {
     "name": "stdout",
     "output_type": "stream",
     "text": [
      "Gen 89/500 - New Best Fitness: 112.4932\n"
     ]
    },
    {
     "name": "stderr",
     "output_type": "stream",
     "text": [
      "Generations:  18%|█▊        | 89/500 [25:46<1:58:52, 17.35s/it, Gen 90/500 - New Best Fitness: 112.3550]"
     ]
    },
    {
     "name": "stdout",
     "output_type": "stream",
     "text": [
      "Gen 90/500 - New Best Fitness: 112.3550\n"
     ]
    },
    {
     "name": "stderr",
     "output_type": "stream",
     "text": [
      "Generations:  18%|█▊        | 91/500 [26:20<1:58:07, 17.33s/it, Gen 92/500 - New Best Fitness: 112.3473]"
     ]
    },
    {
     "name": "stdout",
     "output_type": "stream",
     "text": [
      "Gen 92/500 - New Best Fitness: 112.3473\n"
     ]
    },
    {
     "name": "stderr",
     "output_type": "stream",
     "text": [
      "Generations:  18%|█▊        | 92/500 [26:38<1:57:56, 17.34s/it, Gen 93/500 - New Best Fitness: 111.7429]"
     ]
    },
    {
     "name": "stdout",
     "output_type": "stream",
     "text": [
      "Gen 93/500 - New Best Fitness: 111.7429\n"
     ]
    },
    {
     "name": "stderr",
     "output_type": "stream",
     "text": [
      "Generations:  19%|█▊        | 93/500 [26:55<1:57:28, 17.32s/it, Gen 94/500 - New Best Fitness: 111.7360]"
     ]
    },
    {
     "name": "stdout",
     "output_type": "stream",
     "text": [
      "Gen 94/500 - New Best Fitness: 111.7360\n"
     ]
    },
    {
     "name": "stderr",
     "output_type": "stream",
     "text": [
      "Generations:  19%|█▉        | 94/500 [27:12<1:57:19, 17.34s/it, Gen 95/500 - New Best Fitness: 111.6201]"
     ]
    },
    {
     "name": "stdout",
     "output_type": "stream",
     "text": [
      "Gen 95/500 - New Best Fitness: 111.6201\n"
     ]
    },
    {
     "name": "stderr",
     "output_type": "stream",
     "text": [
      "Generations:  19%|█▉        | 95/500 [27:30<1:56:53, 17.32s/it, Gen 96/500 - New Best Fitness: 111.5502]"
     ]
    },
    {
     "name": "stdout",
     "output_type": "stream",
     "text": [
      "Gen 96/500 - New Best Fitness: 111.5502\n"
     ]
    },
    {
     "name": "stderr",
     "output_type": "stream",
     "text": [
      "Generations:  19%|█▉        | 96/500 [27:47<1:56:30, 17.30s/it, Gen 97/500 - New Best Fitness: 111.5024]"
     ]
    },
    {
     "name": "stdout",
     "output_type": "stream",
     "text": [
      "Gen 97/500 - New Best Fitness: 111.5024\n"
     ]
    },
    {
     "name": "stderr",
     "output_type": "stream",
     "text": [
      "Generations:  19%|█▉        | 97/500 [28:04<1:56:30, 17.35s/it, Gen 98/500 - New Best Fitness: 111.3996]"
     ]
    },
    {
     "name": "stdout",
     "output_type": "stream",
     "text": [
      "Gen 98/500 - New Best Fitness: 111.3996\n"
     ]
    },
    {
     "name": "stderr",
     "output_type": "stream",
     "text": [
      "Generations:  20%|█▉        | 98/500 [28:22<1:56:17, 17.36s/it, Gen 99/500 - New Best Fitness: 111.1996]"
     ]
    },
    {
     "name": "stdout",
     "output_type": "stream",
     "text": [
      "Gen 99/500 - New Best Fitness: 111.1996\n"
     ]
    },
    {
     "name": "stderr",
     "output_type": "stream",
     "text": [
      "Generations:  20%|█▉        | 99/500 [28:39<1:56:05, 17.37s/it, Gen 100/500 - New Best Fitness: 111.1025]"
     ]
    },
    {
     "name": "stdout",
     "output_type": "stream",
     "text": [
      "Gen 100/500 - New Best Fitness: 111.1025\n"
     ]
    },
    {
     "name": "stderr",
     "output_type": "stream",
     "text": [
      "Generations:  20%|██        | 100/500 [28:57<1:55:46, 17.37s/it, Gen 101/500 - New Best Fitness: 110.9025]"
     ]
    },
    {
     "name": "stdout",
     "output_type": "stream",
     "text": [
      "Gen 101/500 - New Best Fitness: 110.9025\n"
     ]
    },
    {
     "name": "stderr",
     "output_type": "stream",
     "text": [
      "Generations:  20%|██        | 101/500 [29:14<1:55:11, 17.32s/it, Gen 102/500 - New Best Fitness: 110.3910]"
     ]
    },
    {
     "name": "stdout",
     "output_type": "stream",
     "text": [
      "Gen 102/500 - New Best Fitness: 110.3910\n"
     ]
    },
    {
     "name": "stderr",
     "output_type": "stream",
     "text": [
      "Generations:  20%|██        | 102/500 [29:31<1:54:51, 17.32s/it, Gen 103/500 - New Best Fitness: 110.0970]"
     ]
    },
    {
     "name": "stdout",
     "output_type": "stream",
     "text": [
      "Gen 103/500 - New Best Fitness: 110.0970\n"
     ]
    },
    {
     "name": "stderr",
     "output_type": "stream",
     "text": [
      "Generations:  21%|██        | 103/500 [29:48<1:54:31, 17.31s/it, Gen 104/500 - New Best Fitness: 110.0272]"
     ]
    },
    {
     "name": "stdout",
     "output_type": "stream",
     "text": [
      "Gen 104/500 - New Best Fitness: 110.0272\n"
     ]
    },
    {
     "name": "stderr",
     "output_type": "stream",
     "text": [
      "Generations:  21%|██        | 104/500 [30:06<1:54:32, 17.36s/it, Gen 105/500 - New Best Fitness: 110.0258]"
     ]
    },
    {
     "name": "stdout",
     "output_type": "stream",
     "text": [
      "Gen 105/500 - New Best Fitness: 110.0258\n"
     ]
    },
    {
     "name": "stderr",
     "output_type": "stream",
     "text": [
      "Generations:  21%|██        | 105/500 [30:23<1:54:09, 17.34s/it, Gen 106/500 - New Best Fitness: 109.8519]"
     ]
    },
    {
     "name": "stdout",
     "output_type": "stream",
     "text": [
      "Gen 106/500 - New Best Fitness: 109.8519\n"
     ]
    },
    {
     "name": "stderr",
     "output_type": "stream",
     "text": [
      "Generations:  21%|██▏       | 107/500 [30:58<1:53:40, 17.35s/it, Gen 108/500 - New Best Fitness: 109.8505]"
     ]
    },
    {
     "name": "stdout",
     "output_type": "stream",
     "text": [
      "Gen 108/500 - New Best Fitness: 109.8505\n"
     ]
    },
    {
     "name": "stderr",
     "output_type": "stream",
     "text": [
      "Generations:  22%|██▏       | 108/500 [31:15<1:53:24, 17.36s/it, Gen 109/500 - New Best Fitness: 109.6103]"
     ]
    },
    {
     "name": "stdout",
     "output_type": "stream",
     "text": [
      "Gen 109/500 - New Best Fitness: 109.6103\n"
     ]
    },
    {
     "name": "stderr",
     "output_type": "stream",
     "text": [
      "Generations:  22%|██▏       | 109/500 [31:33<1:53:06, 17.36s/it, Gen 110/500 - New Best Fitness: 109.6088]"
     ]
    },
    {
     "name": "stdout",
     "output_type": "stream",
     "text": [
      "Gen 110/500 - New Best Fitness: 109.6088\n"
     ]
    },
    {
     "name": "stderr",
     "output_type": "stream",
     "text": [
      "Generations:  22%|██▏       | 110/500 [31:50<1:52:35, 17.32s/it, Gen 111/500 - New Best Fitness: 109.4813]"
     ]
    },
    {
     "name": "stdout",
     "output_type": "stream",
     "text": [
      "Gen 111/500 - New Best Fitness: 109.4813\n"
     ]
    },
    {
     "name": "stderr",
     "output_type": "stream",
     "text": [
      "Generations:  22%|██▏       | 111/500 [32:07<1:52:05, 17.29s/it, Gen 112/500 - New Best Fitness: 109.4589]"
     ]
    },
    {
     "name": "stdout",
     "output_type": "stream",
     "text": [
      "Gen 112/500 - New Best Fitness: 109.4589\n"
     ]
    },
    {
     "name": "stderr",
     "output_type": "stream",
     "text": [
      "Generations:  22%|██▏       | 112/500 [32:24<1:51:46, 17.28s/it, Gen 113/500 - New Best Fitness: 109.2469]"
     ]
    },
    {
     "name": "stdout",
     "output_type": "stream",
     "text": [
      "Gen 113/500 - New Best Fitness: 109.2469\n"
     ]
    },
    {
     "name": "stderr",
     "output_type": "stream",
     "text": [
      "Generations:  23%|██▎       | 113/500 [32:42<1:51:50, 17.34s/it, Gen 114/500 - New Best Fitness: 109.2455]"
     ]
    },
    {
     "name": "stdout",
     "output_type": "stream",
     "text": [
      "Gen 114/500 - New Best Fitness: 109.2455\n"
     ]
    },
    {
     "name": "stderr",
     "output_type": "stream",
     "text": [
      "Generations:  23%|██▎       | 114/500 [32:59<1:51:13, 17.29s/it, Gen 115/500 - New Best Fitness: 109.0409]"
     ]
    },
    {
     "name": "stdout",
     "output_type": "stream",
     "text": [
      "Gen 115/500 - New Best Fitness: 109.0409\n"
     ]
    },
    {
     "name": "stderr",
     "output_type": "stream",
     "text": [
      "Generations:  23%|██▎       | 115/500 [33:16<1:50:45, 17.26s/it, Gen 116/500 - New Best Fitness: 109.0363]"
     ]
    },
    {
     "name": "stdout",
     "output_type": "stream",
     "text": [
      "Gen 116/500 - New Best Fitness: 109.0363\n"
     ]
    },
    {
     "name": "stderr",
     "output_type": "stream",
     "text": [
      "Generations:  23%|██▎       | 116/500 [33:34<1:50:33, 17.28s/it, Gen 117/500 - New Best Fitness: 108.9597]"
     ]
    },
    {
     "name": "stdout",
     "output_type": "stream",
     "text": [
      "Gen 117/500 - New Best Fitness: 108.9597\n"
     ]
    },
    {
     "name": "stderr",
     "output_type": "stream",
     "text": [
      "Generations:  24%|██▎       | 118/500 [34:08<1:49:53, 17.26s/it, Gen 119/500 - New Best Fitness: 108.8288]"
     ]
    },
    {
     "name": "stdout",
     "output_type": "stream",
     "text": [
      "Gen 119/500 - New Best Fitness: 108.8288\n"
     ]
    },
    {
     "name": "stderr",
     "output_type": "stream",
     "text": [
      "Generations:  24%|██▍       | 120/500 [34:43<1:49:35, 17.30s/it, Gen 121/500 - New Best Fitness: 108.8017]                "
     ]
    },
    {
     "name": "stdout",
     "output_type": "stream",
     "text": [
      "Gen 121/500 - New Best Fitness: 108.8017\n"
     ]
    },
    {
     "name": "stderr",
     "output_type": "stream",
     "text": [
      "Generations:  24%|██▍       | 121/500 [35:00<1:49:08, 17.28s/it, Gen 122/500 - New Best Fitness: 108.7976]"
     ]
    },
    {
     "name": "stdout",
     "output_type": "stream",
     "text": [
      "Gen 122/500 - New Best Fitness: 108.7976\n"
     ]
    },
    {
     "name": "stderr",
     "output_type": "stream",
     "text": [
      "Generations:  24%|██▍       | 122/500 [35:17<1:48:53, 17.28s/it, Gen 123/500 - New Best Fitness: 108.6191]"
     ]
    },
    {
     "name": "stdout",
     "output_type": "stream",
     "text": [
      "Gen 123/500 - New Best Fitness: 108.6191\n"
     ]
    },
    {
     "name": "stderr",
     "output_type": "stream",
     "text": [
      "Generations:  25%|██▍       | 123/500 [35:35<1:48:44, 17.31s/it, Gen 124/500 - New Best Fitness: 108.6176]"
     ]
    },
    {
     "name": "stdout",
     "output_type": "stream",
     "text": [
      "Gen 124/500 - New Best Fitness: 108.6176\n"
     ]
    },
    {
     "name": "stderr",
     "output_type": "stream",
     "text": [
      "Generations:  25%|██▍       | 124/500 [35:52<1:48:24, 17.30s/it, Gen 125/500 - New Best Fitness: 108.5881]"
     ]
    },
    {
     "name": "stdout",
     "output_type": "stream",
     "text": [
      "Gen 125/500 - New Best Fitness: 108.5881\n"
     ]
    },
    {
     "name": "stderr",
     "output_type": "stream",
     "text": [
      "Generations:  25%|██▌       | 125/500 [36:09<1:48:23, 17.34s/it, Gen 126/500 - New Best Fitness: 108.5659]"
     ]
    },
    {
     "name": "stdout",
     "output_type": "stream",
     "text": [
      "Gen 126/500 - New Best Fitness: 108.5659\n"
     ]
    },
    {
     "name": "stderr",
     "output_type": "stream",
     "text": [
      "Generations:  25%|██▌       | 126/500 [36:27<1:48:07, 17.35s/it, Gen 127/500 - New Best Fitness: 108.5367]"
     ]
    },
    {
     "name": "stdout",
     "output_type": "stream",
     "text": [
      "Gen 127/500 - New Best Fitness: 108.5367\n"
     ]
    },
    {
     "name": "stderr",
     "output_type": "stream",
     "text": [
      "Generations:  25%|██▌       | 127/500 [36:44<1:47:40, 17.32s/it, Gen 128/500 - New Best Fitness: 108.2714]"
     ]
    },
    {
     "name": "stdout",
     "output_type": "stream",
     "text": [
      "Gen 128/500 - New Best Fitness: 108.2714\n"
     ]
    },
    {
     "name": "stderr",
     "output_type": "stream",
     "text": [
      "Generations:  26%|██▌       | 129/500 [37:19<1:47:12, 17.34s/it, Gen 130/500 - New Best Fitness: 108.2562]"
     ]
    },
    {
     "name": "stdout",
     "output_type": "stream",
     "text": [
      "Gen 130/500 - New Best Fitness: 108.2562\n"
     ]
    },
    {
     "name": "stderr",
     "output_type": "stream",
     "text": [
      "Generations:  26%|██▌       | 131/500 [37:53<1:46:34, 17.33s/it, Gen 132/500 - New Best Fitness: 108.2338]"
     ]
    },
    {
     "name": "stdout",
     "output_type": "stream",
     "text": [
      "Gen 132/500 - New Best Fitness: 108.2338\n"
     ]
    },
    {
     "name": "stderr",
     "output_type": "stream",
     "text": [
      "Generations:  26%|██▋       | 132/500 [38:11<1:46:40, 17.39s/it, Gen 133/500 - New Best Fitness: 108.1382]"
     ]
    },
    {
     "name": "stdout",
     "output_type": "stream",
     "text": [
      "Gen 133/500 - New Best Fitness: 108.1382\n"
     ]
    },
    {
     "name": "stderr",
     "output_type": "stream",
     "text": [
      "Generations:  27%|██▋       | 134/500 [38:46<1:45:54, 17.36s/it, Gen 135/500 - New Best Fitness: 108.0898]"
     ]
    },
    {
     "name": "stdout",
     "output_type": "stream",
     "text": [
      "Gen 135/500 - New Best Fitness: 108.0898\n"
     ]
    },
    {
     "name": "stderr",
     "output_type": "stream",
     "text": [
      "Generations:  27%|██▋       | 135/500 [39:03<1:45:36, 17.36s/it, Gen 136/500 - New Best Fitness: 108.0877]"
     ]
    },
    {
     "name": "stdout",
     "output_type": "stream",
     "text": [
      "Gen 136/500 - New Best Fitness: 108.0877\n"
     ]
    },
    {
     "name": "stderr",
     "output_type": "stream",
     "text": [
      "Generations:  27%|██▋       | 137/500 [39:38<1:44:58, 17.35s/it, Gen 138/500 - New Best Fitness: 108.0346]"
     ]
    },
    {
     "name": "stdout",
     "output_type": "stream",
     "text": [
      "Gen 138/500 - New Best Fitness: 108.0346\n"
     ]
    },
    {
     "name": "stderr",
     "output_type": "stream",
     "text": [
      "Generations:  28%|██▊       | 138/500 [39:55<1:44:50, 17.38s/it, Gen 139/500 - New Best Fitness: 108.0115]"
     ]
    },
    {
     "name": "stdout",
     "output_type": "stream",
     "text": [
      "Gen 139/500 - New Best Fitness: 108.0115\n"
     ]
    },
    {
     "name": "stderr",
     "output_type": "stream",
     "text": [
      "Generations:  28%|██▊       | 139/500 [40:12<1:44:45, 17.41s/it, Gen 140/500 - New Best Fitness: 108.0061]"
     ]
    },
    {
     "name": "stdout",
     "output_type": "stream",
     "text": [
      "Gen 140/500 - New Best Fitness: 108.0061\n"
     ]
    },
    {
     "name": "stderr",
     "output_type": "stream",
     "text": [
      "Generations:  28%|██▊       | 140/500 [40:30<1:44:27, 17.41s/it, Gen 141/500 - New Best Fitness: 107.3776]"
     ]
    },
    {
     "name": "stdout",
     "output_type": "stream",
     "text": [
      "Gen 141/500 - New Best Fitness: 107.3776\n"
     ]
    },
    {
     "name": "stderr",
     "output_type": "stream",
     "text": [
      "Generations:  28%|██▊       | 141/500 [40:47<1:44:10, 17.41s/it, Gen 142/500 - New Best Fitness: 107.3399]"
     ]
    },
    {
     "name": "stdout",
     "output_type": "stream",
     "text": [
      "Gen 142/500 - New Best Fitness: 107.3399\n"
     ]
    },
    {
     "name": "stderr",
     "output_type": "stream",
     "text": [
      "Generations:  28%|██▊       | 142/500 [41:05<1:43:39, 17.37s/it, Gen 143/500 - New Best Fitness: 107.2804]"
     ]
    },
    {
     "name": "stdout",
     "output_type": "stream",
     "text": [
      "Gen 143/500 - New Best Fitness: 107.2804\n"
     ]
    },
    {
     "name": "stderr",
     "output_type": "stream",
     "text": [
      "Generations:  29%|██▊       | 143/500 [41:22<1:43:24, 17.38s/it, Gen 144/500 - New Best Fitness: 107.2734]"
     ]
    },
    {
     "name": "stdout",
     "output_type": "stream",
     "text": [
      "Gen 144/500 - New Best Fitness: 107.2734\n"
     ]
    },
    {
     "name": "stderr",
     "output_type": "stream",
     "text": [
      "Generations:  29%|██▉       | 144/500 [41:40<1:43:22, 17.42s/it, Gen 145/500 - New Best Fitness: 107.2422]"
     ]
    },
    {
     "name": "stdout",
     "output_type": "stream",
     "text": [
      "Gen 145/500 - New Best Fitness: 107.2422\n"
     ]
    },
    {
     "name": "stderr",
     "output_type": "stream",
     "text": [
      "Generations:  29%|██▉       | 145/500 [41:57<1:42:59, 17.41s/it, Gen 146/500 - New Best Fitness: 107.1877]"
     ]
    },
    {
     "name": "stdout",
     "output_type": "stream",
     "text": [
      "Gen 146/500 - New Best Fitness: 107.1877\n"
     ]
    },
    {
     "name": "stderr",
     "output_type": "stream",
     "text": [
      "Generations:  29%|██▉       | 146/500 [42:14<1:42:41, 17.41s/it, Gen 147/500 - New Best Fitness: 107.1701]"
     ]
    },
    {
     "name": "stdout",
     "output_type": "stream",
     "text": [
      "Gen 147/500 - New Best Fitness: 107.1701\n"
     ]
    },
    {
     "name": "stderr",
     "output_type": "stream",
     "text": [
      "Generations:  29%|██▉       | 147/500 [42:32<1:42:19, 17.39s/it, Gen 148/500 - New Best Fitness: 107.0587]"
     ]
    },
    {
     "name": "stdout",
     "output_type": "stream",
     "text": [
      "Gen 148/500 - New Best Fitness: 107.0587\n"
     ]
    },
    {
     "name": "stderr",
     "output_type": "stream",
     "text": [
      "Generations:  30%|██▉       | 148/500 [42:49<1:42:24, 17.46s/it, Gen 149/500 - New Best Fitness: 107.0411]"
     ]
    },
    {
     "name": "stdout",
     "output_type": "stream",
     "text": [
      "Gen 149/500 - New Best Fitness: 107.0411\n"
     ]
    },
    {
     "name": "stderr",
     "output_type": "stream",
     "text": [
      "Generations:  30%|██▉       | 149/500 [43:07<1:41:59, 17.44s/it, Gen 150/500 - New Best Fitness: 107.0388]"
     ]
    },
    {
     "name": "stdout",
     "output_type": "stream",
     "text": [
      "Gen 150/500 - New Best Fitness: 107.0388\n"
     ]
    },
    {
     "name": "stderr",
     "output_type": "stream",
     "text": [
      "Generations:  30%|███       | 150/500 [43:24<1:41:26, 17.39s/it, Gen 151/500 - New Best Fitness: 107.0080]"
     ]
    },
    {
     "name": "stdout",
     "output_type": "stream",
     "text": [
      "Gen 151/500 - New Best Fitness: 107.0080\n"
     ]
    },
    {
     "name": "stderr",
     "output_type": "stream",
     "text": [
      "Generations:  30%|███       | 152/500 [43:59<1:41:10, 17.44s/it, Gen 153/500 - New Best Fitness: 106.9660]"
     ]
    },
    {
     "name": "stdout",
     "output_type": "stream",
     "text": [
      "Gen 153/500 - New Best Fitness: 106.9660\n"
     ]
    },
    {
     "name": "stderr",
     "output_type": "stream",
     "text": [
      "Generations:  31%|███       | 153/500 [44:16<1:40:58, 17.46s/it, Gen 154/500 - New Best Fitness: 106.8482]"
     ]
    },
    {
     "name": "stdout",
     "output_type": "stream",
     "text": [
      "Gen 154/500 - New Best Fitness: 106.8482\n"
     ]
    },
    {
     "name": "stderr",
     "output_type": "stream",
     "text": [
      "Generations:  31%|███       | 154/500 [44:34<1:40:35, 17.44s/it, Gen 155/500 - New Best Fitness: 106.8127]"
     ]
    },
    {
     "name": "stdout",
     "output_type": "stream",
     "text": [
      "Gen 155/500 - New Best Fitness: 106.8127\n"
     ]
    },
    {
     "name": "stderr",
     "output_type": "stream",
     "text": [
      "Generations:  31%|███       | 156/500 [45:09<1:40:09, 17.47s/it, Gen 157/500 - New Best Fitness: 106.7282]"
     ]
    },
    {
     "name": "stdout",
     "output_type": "stream",
     "text": [
      "Gen 157/500 - New Best Fitness: 106.7282\n"
     ]
    },
    {
     "name": "stderr",
     "output_type": "stream",
     "text": [
      "Generations:  31%|███▏      | 157/500 [45:26<1:39:55, 17.48s/it, Gen 158/500 - New Best Fitness: 106.6833]"
     ]
    },
    {
     "name": "stdout",
     "output_type": "stream",
     "text": [
      "Gen 158/500 - New Best Fitness: 106.6833\n"
     ]
    },
    {
     "name": "stderr",
     "output_type": "stream",
     "text": [
      "Generations:  32%|███▏      | 158/500 [45:44<1:39:43, 17.50s/it, Gen 159/500 - New Best Fitness: 106.6439]"
     ]
    },
    {
     "name": "stdout",
     "output_type": "stream",
     "text": [
      "Gen 159/500 - New Best Fitness: 106.6439\n"
     ]
    },
    {
     "name": "stderr",
     "output_type": "stream",
     "text": [
      "Generations:  32%|███▏      | 159/500 [46:01<1:39:36, 17.53s/it, Gen 160/500 - New Best Fitness: 106.5647]"
     ]
    },
    {
     "name": "stdout",
     "output_type": "stream",
     "text": [
      "Gen 160/500 - New Best Fitness: 106.5647\n"
     ]
    },
    {
     "name": "stderr",
     "output_type": "stream",
     "text": [
      "Generations:  32%|███▏      | 161/500 [46:37<1:39:16, 17.57s/it, Gen 162/500 - New Best Fitness: 106.1759]"
     ]
    },
    {
     "name": "stdout",
     "output_type": "stream",
     "text": [
      "Gen 162/500 - New Best Fitness: 106.1759\n"
     ]
    },
    {
     "name": "stderr",
     "output_type": "stream",
     "text": [
      "Generations:  33%|███▎      | 163/500 [47:12<1:38:31, 17.54s/it, Gen 164/500 - New Best Fitness: 106.1273]"
     ]
    },
    {
     "name": "stdout",
     "output_type": "stream",
     "text": [
      "Gen 164/500 - New Best Fitness: 106.1273\n"
     ]
    },
    {
     "name": "stderr",
     "output_type": "stream",
     "text": [
      "Generations:  33%|███▎      | 165/500 [47:47<1:37:57, 17.54s/it, Gen 166/500 - New Best Fitness: 106.1138]"
     ]
    },
    {
     "name": "stdout",
     "output_type": "stream",
     "text": [
      "Gen 166/500 - New Best Fitness: 106.1138\n"
     ]
    },
    {
     "name": "stderr",
     "output_type": "stream",
     "text": [
      "Generations:  33%|███▎      | 167/500 [48:22<1:37:25, 17.56s/it, Gen 168/500 - New Best Fitness: 106.0460]"
     ]
    },
    {
     "name": "stdout",
     "output_type": "stream",
     "text": [
      "Gen 168/500 - New Best Fitness: 106.0460\n"
     ]
    },
    {
     "name": "stderr",
     "output_type": "stream",
     "text": [
      "Generations:  34%|███▎      | 168/500 [48:39<1:37:12, 17.57s/it, Gen 169/500 - New Best Fitness: 106.0332]"
     ]
    },
    {
     "name": "stdout",
     "output_type": "stream",
     "text": [
      "Gen 169/500 - New Best Fitness: 106.0332\n"
     ]
    },
    {
     "name": "stderr",
     "output_type": "stream",
     "text": [
      "Generations:  34%|███▍      | 169/500 [48:57<1:36:41, 17.53s/it, Gen 170/500 - New Best Fitness: 106.0332]"
     ]
    },
    {
     "name": "stdout",
     "output_type": "stream",
     "text": [
      "Gen 170/500 - New Best Fitness: 106.0332\n"
     ]
    },
    {
     "name": "stderr",
     "output_type": "stream",
     "text": [
      "Generations:  34%|███▍      | 170/500 [49:14<1:36:18, 17.51s/it, Gen 171/500 - New Best Fitness: 105.8924]"
     ]
    },
    {
     "name": "stdout",
     "output_type": "stream",
     "text": [
      "Gen 171/500 - New Best Fitness: 105.8924\n"
     ]
    },
    {
     "name": "stderr",
     "output_type": "stream",
     "text": [
      "Generations:  34%|███▍      | 171/500 [49:32<1:36:27, 17.59s/it, Gen 172/500 - New Best Fitness: 105.8754]"
     ]
    },
    {
     "name": "stdout",
     "output_type": "stream",
     "text": [
      "Gen 172/500 - New Best Fitness: 105.8754\n"
     ]
    },
    {
     "name": "stderr",
     "output_type": "stream",
     "text": [
      "Generations:  34%|███▍      | 172/500 [49:50<1:36:05, 17.58s/it, Gen 173/500 - New Best Fitness: 105.8409]"
     ]
    },
    {
     "name": "stdout",
     "output_type": "stream",
     "text": [
      "Gen 173/500 - New Best Fitness: 105.8409\n"
     ]
    },
    {
     "name": "stderr",
     "output_type": "stream",
     "text": [
      "Generations:  35%|███▍      | 173/500 [50:07<1:35:50, 17.59s/it, Gen 174/500 - New Best Fitness: 105.8342]"
     ]
    },
    {
     "name": "stdout",
     "output_type": "stream",
     "text": [
      "Gen 174/500 - New Best Fitness: 105.8342\n"
     ]
    },
    {
     "name": "stderr",
     "output_type": "stream",
     "text": [
      "Generations:  35%|███▍      | 174/500 [50:25<1:35:29, 17.58s/it, Gen 175/500 - New Best Fitness: 105.7587]"
     ]
    },
    {
     "name": "stdout",
     "output_type": "stream",
     "text": [
      "Gen 175/500 - New Best Fitness: 105.7587\n"
     ]
    },
    {
     "name": "stderr",
     "output_type": "stream",
     "text": [
      "Generations:  35%|███▌      | 176/500 [51:00<1:34:51, 17.57s/it, Gen 177/500 - New Best Fitness: 105.7409]"
     ]
    },
    {
     "name": "stdout",
     "output_type": "stream",
     "text": [
      "Gen 177/500 - New Best Fitness: 105.7409\n"
     ]
    },
    {
     "name": "stderr",
     "output_type": "stream",
     "text": [
      "Generations:  35%|███▌      | 177/500 [51:17<1:34:19, 17.52s/it, Gen 178/500 - New Best Fitness: 105.6615]"
     ]
    },
    {
     "name": "stdout",
     "output_type": "stream",
     "text": [
      "Gen 178/500 - New Best Fitness: 105.6615\n"
     ]
    },
    {
     "name": "stderr",
     "output_type": "stream",
     "text": [
      "Generations:  36%|███▌      | 178/500 [51:35<1:34:09, 17.54s/it, Gen 179/500 - New Best Fitness: 105.6438]"
     ]
    },
    {
     "name": "stdout",
     "output_type": "stream",
     "text": [
      "Gen 179/500 - New Best Fitness: 105.6438\n"
     ]
    },
    {
     "name": "stderr",
     "output_type": "stream",
     "text": [
      "Generations:  36%|███▌      | 179/500 [51:52<1:33:42, 17.51s/it, Gen 180/500 - New Best Fitness: 105.6415]"
     ]
    },
    {
     "name": "stdout",
     "output_type": "stream",
     "text": [
      "Gen 180/500 - New Best Fitness: 105.6415\n"
     ]
    },
    {
     "name": "stderr",
     "output_type": "stream",
     "text": [
      "Generations:  36%|███▌      | 180/500 [52:10<1:33:12, 17.48s/it, Gen 181/500 - New Best Fitness: 105.6107]"
     ]
    },
    {
     "name": "stdout",
     "output_type": "stream",
     "text": [
      "Gen 181/500 - New Best Fitness: 105.6107\n"
     ]
    },
    {
     "name": "stderr",
     "output_type": "stream",
     "text": [
      "Generations:  36%|███▋      | 182/500 [52:45<1:32:42, 17.49s/it, Gen 183/500 - New Best Fitness: 105.6099]"
     ]
    },
    {
     "name": "stdout",
     "output_type": "stream",
     "text": [
      "Gen 183/500 - New Best Fitness: 105.6099\n"
     ]
    },
    {
     "name": "stderr",
     "output_type": "stream",
     "text": [
      "Generations:  37%|███▋      | 183/500 [53:02<1:32:33, 17.52s/it, Gen 184/500 - New Best Fitness: 105.5449]"
     ]
    },
    {
     "name": "stdout",
     "output_type": "stream",
     "text": [
      "Gen 184/500 - New Best Fitness: 105.5449\n"
     ]
    },
    {
     "name": "stderr",
     "output_type": "stream",
     "text": [
      "Generations:  37%|███▋      | 184/500 [53:20<1:32:16, 17.52s/it, Gen 185/500 - New Best Fitness: 105.5419]"
     ]
    },
    {
     "name": "stdout",
     "output_type": "stream",
     "text": [
      "Gen 185/500 - New Best Fitness: 105.5419\n"
     ]
    },
    {
     "name": "stderr",
     "output_type": "stream",
     "text": [
      "Generations:  37%|███▋      | 185/500 [53:37<1:31:56, 17.51s/it, Gen 186/500 - New Best Fitness: 105.3634]"
     ]
    },
    {
     "name": "stdout",
     "output_type": "stream",
     "text": [
      "Gen 186/500 - New Best Fitness: 105.3634\n"
     ]
    },
    {
     "name": "stderr",
     "output_type": "stream",
     "text": [
      "Generations:  37%|███▋      | 187/500 [54:12<1:31:13, 17.49s/it, Gen 188/500 - New Best Fitness: 105.2864]"
     ]
    },
    {
     "name": "stdout",
     "output_type": "stream",
     "text": [
      "Gen 188/500 - New Best Fitness: 105.2864\n"
     ]
    },
    {
     "name": "stderr",
     "output_type": "stream",
     "text": [
      "Generations:  38%|███▊      | 188/500 [54:30<1:30:50, 17.47s/it, Gen 189/500 - New Best Fitness: 105.2175]"
     ]
    },
    {
     "name": "stdout",
     "output_type": "stream",
     "text": [
      "Gen 189/500 - New Best Fitness: 105.2175\n"
     ]
    },
    {
     "name": "stderr",
     "output_type": "stream",
     "text": [
      "Generations:  38%|███▊      | 189/500 [54:47<1:30:25, 17.45s/it, Gen 190/500 - New Best Fitness: 105.2120]"
     ]
    },
    {
     "name": "stdout",
     "output_type": "stream",
     "text": [
      "Gen 190/500 - New Best Fitness: 105.2120\n"
     ]
    },
    {
     "name": "stderr",
     "output_type": "stream",
     "text": [
      "Generations:  38%|███▊      | 190/500 [55:05<1:30:06, 17.44s/it, Gen 191/500 - New Best Fitness: 105.2116]"
     ]
    },
    {
     "name": "stdout",
     "output_type": "stream",
     "text": [
      "Gen 191/500 - New Best Fitness: 105.2116\n"
     ]
    },
    {
     "name": "stderr",
     "output_type": "stream",
     "text": [
      "Generations:  38%|███▊      | 191/500 [55:22<1:29:48, 17.44s/it, Gen 192/500 - New Best Fitness: 105.1012]"
     ]
    },
    {
     "name": "stdout",
     "output_type": "stream",
     "text": [
      "Gen 192/500 - New Best Fitness: 105.1012\n"
     ]
    },
    {
     "name": "stderr",
     "output_type": "stream",
     "text": [
      "Generations:  39%|███▊      | 193/500 [55:57<1:29:35, 17.51s/it, Gen 194/500 - New Best Fitness: 104.9982]"
     ]
    },
    {
     "name": "stdout",
     "output_type": "stream",
     "text": [
      "Gen 194/500 - New Best Fitness: 104.9982\n"
     ]
    },
    {
     "name": "stderr",
     "output_type": "stream",
     "text": [
      "Generations:  39%|███▉      | 195/500 [56:32<1:28:30, 17.41s/it, Gen 196/500 - New Best Fitness: 104.9929]"
     ]
    },
    {
     "name": "stdout",
     "output_type": "stream",
     "text": [
      "Gen 196/500 - New Best Fitness: 104.9929\n"
     ]
    },
    {
     "name": "stderr",
     "output_type": "stream",
     "text": [
      "Generations:  39%|███▉      | 196/500 [56:49<1:27:54, 17.35s/it, Gen 197/500 - New Best Fitness: 104.9870]"
     ]
    },
    {
     "name": "stdout",
     "output_type": "stream",
     "text": [
      "Gen 197/500 - New Best Fitness: 104.9870\n"
     ]
    },
    {
     "name": "stderr",
     "output_type": "stream",
     "text": [
      "Generations:  40%|███▉      | 198/500 [57:24<1:27:11, 17.32s/it, Gen 199/500 - New Best Fitness: 104.9816]"
     ]
    },
    {
     "name": "stdout",
     "output_type": "stream",
     "text": [
      "Gen 199/500 - New Best Fitness: 104.9816\n"
     ]
    },
    {
     "name": "stderr",
     "output_type": "stream",
     "text": [
      "Generations:  40%|████      | 200/500 [57:58<1:26:37, 17.32s/it, Gen 201/500 - New Best Fitness: 104.8537]                "
     ]
    },
    {
     "name": "stdout",
     "output_type": "stream",
     "text": [
      "Gen 201/500 - New Best Fitness: 104.8537\n"
     ]
    },
    {
     "name": "stderr",
     "output_type": "stream",
     "text": [
      "Generations:  40%|████      | 202/500 [58:33<1:26:08, 17.34s/it, Gen 203/500 - New Best Fitness: 104.8141]"
     ]
    },
    {
     "name": "stdout",
     "output_type": "stream",
     "text": [
      "Gen 203/500 - New Best Fitness: 104.8141\n"
     ]
    },
    {
     "name": "stderr",
     "output_type": "stream",
     "text": [
      "Generations:  41%|████      | 204/500 [59:08<1:25:24, 17.31s/it, Gen 205/500 - New Best Fitness: 104.7920]"
     ]
    },
    {
     "name": "stdout",
     "output_type": "stream",
     "text": [
      "Gen 205/500 - New Best Fitness: 104.7920\n"
     ]
    },
    {
     "name": "stderr",
     "output_type": "stream",
     "text": [
      "Generations:  41%|████      | 205/500 [59:25<1:25:16, 17.34s/it, Gen 206/500 - New Best Fitness: 104.7510]"
     ]
    },
    {
     "name": "stdout",
     "output_type": "stream",
     "text": [
      "Gen 206/500 - New Best Fitness: 104.7510\n"
     ]
    },
    {
     "name": "stderr",
     "output_type": "stream",
     "text": [
      "Generations:  41%|████      | 206/500 [59:42<1:24:51, 17.32s/it, Gen 207/500 - New Best Fitness: 104.7476]"
     ]
    },
    {
     "name": "stdout",
     "output_type": "stream",
     "text": [
      "Gen 207/500 - New Best Fitness: 104.7476\n"
     ]
    },
    {
     "name": "stderr",
     "output_type": "stream",
     "text": [
      "Generations:  41%|████▏     | 207/500 [59:59<1:24:24, 17.28s/it, Gen 208/500 - New Best Fitness: 104.7348]"
     ]
    },
    {
     "name": "stdout",
     "output_type": "stream",
     "text": [
      "Gen 208/500 - New Best Fitness: 104.7348\n"
     ]
    },
    {
     "name": "stderr",
     "output_type": "stream",
     "text": [
      "Generations:  42%|████▏     | 208/500 [1:00:17<1:24:10, 17.30s/it, Gen 209/500 - New Best Fitness: 104.7119]"
     ]
    },
    {
     "name": "stdout",
     "output_type": "stream",
     "text": [
      "Gen 209/500 - New Best Fitness: 104.7119\n"
     ]
    },
    {
     "name": "stderr",
     "output_type": "stream",
     "text": [
      "Generations:  42%|████▏     | 210/500 [1:00:51<1:23:32, 17.28s/it, Gen 211/500 - New Best Fitness: 104.6501]                "
     ]
    },
    {
     "name": "stdout",
     "output_type": "stream",
     "text": [
      "Gen 211/500 - New Best Fitness: 104.6501\n"
     ]
    },
    {
     "name": "stderr",
     "output_type": "stream",
     "text": [
      "Generations:  42%|████▏     | 212/500 [1:01:26<1:23:01, 17.30s/it, Gen 213/500 - New Best Fitness: 104.6020]"
     ]
    },
    {
     "name": "stdout",
     "output_type": "stream",
     "text": [
      "Gen 213/500 - New Best Fitness: 104.6020\n"
     ]
    },
    {
     "name": "stderr",
     "output_type": "stream",
     "text": [
      "Generations:  43%|████▎     | 214/500 [1:02:01<1:22:25, 17.29s/it, Gen 215/500 - New Best Fitness: 104.6020]"
     ]
    },
    {
     "name": "stdout",
     "output_type": "stream",
     "text": [
      "Gen 215/500 - New Best Fitness: 104.6020\n"
     ]
    },
    {
     "name": "stderr",
     "output_type": "stream",
     "text": [
      "Generations:  43%|████▎     | 215/500 [1:02:18<1:22:01, 17.27s/it, Gen 216/500 - New Best Fitness: 104.5681]"
     ]
    },
    {
     "name": "stdout",
     "output_type": "stream",
     "text": [
      "Gen 216/500 - New Best Fitness: 104.5681\n"
     ]
    },
    {
     "name": "stderr",
     "output_type": "stream",
     "text": [
      "Generations:  43%|████▎     | 216/500 [1:02:35<1:21:54, 17.30s/it, Gen 217/500 - New Best Fitness: 104.5578]"
     ]
    },
    {
     "name": "stdout",
     "output_type": "stream",
     "text": [
      "Gen 217/500 - New Best Fitness: 104.5578\n"
     ]
    },
    {
     "name": "stderr",
     "output_type": "stream",
     "text": [
      "Generations:  44%|████▎     | 218/500 [1:03:10<1:21:11, 17.28s/it, Gen 219/500 - New Best Fitness: 104.2174]"
     ]
    },
    {
     "name": "stdout",
     "output_type": "stream",
     "text": [
      "Gen 219/500 - New Best Fitness: 104.2174\n"
     ]
    },
    {
     "name": "stderr",
     "output_type": "stream",
     "text": [
      "Generations:  44%|████▍     | 220/500 [1:03:44<1:20:33, 17.26s/it, Gen 221/500 - New Best Fitness: 104.2032]                "
     ]
    },
    {
     "name": "stdout",
     "output_type": "stream",
     "text": [
      "Gen 221/500 - New Best Fitness: 104.2032\n"
     ]
    },
    {
     "name": "stderr",
     "output_type": "stream",
     "text": [
      "Generations:  44%|████▍     | 221/500 [1:04:01<1:20:17, 17.27s/it, Gen 222/500 - New Best Fitness: 104.1400]"
     ]
    },
    {
     "name": "stdout",
     "output_type": "stream",
     "text": [
      "Gen 222/500 - New Best Fitness: 104.1400\n"
     ]
    },
    {
     "name": "stderr",
     "output_type": "stream",
     "text": [
      "Generations:  45%|████▍     | 223/500 [1:04:36<1:19:24, 17.20s/it, Gen 224/500 - New Best Fitness: 104.1276]"
     ]
    },
    {
     "name": "stdout",
     "output_type": "stream",
     "text": [
      "Gen 224/500 - New Best Fitness: 104.1276\n"
     ]
    },
    {
     "name": "stderr",
     "output_type": "stream",
     "text": [
      "Generations:  45%|████▍     | 224/500 [1:04:53<1:19:07, 17.20s/it, Gen 225/500 - New Best Fitness: 104.0760]"
     ]
    },
    {
     "name": "stdout",
     "output_type": "stream",
     "text": [
      "Gen 225/500 - New Best Fitness: 104.0760\n"
     ]
    },
    {
     "name": "stderr",
     "output_type": "stream",
     "text": [
      "Generations:  45%|████▌     | 225/500 [1:05:10<1:18:45, 17.19s/it, Gen 226/500 - New Best Fitness: 104.0742]"
     ]
    },
    {
     "name": "stdout",
     "output_type": "stream",
     "text": [
      "Gen 226/500 - New Best Fitness: 104.0742\n"
     ]
    },
    {
     "name": "stderr",
     "output_type": "stream",
     "text": [
      "Generations:  45%|████▌     | 226/500 [1:05:27<1:18:38, 17.22s/it, Gen 227/500 - New Best Fitness: 104.0182]"
     ]
    },
    {
     "name": "stdout",
     "output_type": "stream",
     "text": [
      "Gen 227/500 - New Best Fitness: 104.0182\n"
     ]
    },
    {
     "name": "stderr",
     "output_type": "stream",
     "text": [
      "Generations:  46%|████▌     | 228/500 [1:06:02<1:17:50, 17.17s/it, Gen 229/500 - New Best Fitness: 104.0166]"
     ]
    },
    {
     "name": "stdout",
     "output_type": "stream",
     "text": [
      "Gen 229/500 - New Best Fitness: 104.0166\n"
     ]
    },
    {
     "name": "stderr",
     "output_type": "stream",
     "text": [
      "Generations:  46%|████▌     | 229/500 [1:06:19<1:17:27, 17.15s/it, Gen 230/500 - New Best Fitness: 104.0164]"
     ]
    },
    {
     "name": "stdout",
     "output_type": "stream",
     "text": [
      "Gen 230/500 - New Best Fitness: 104.0164\n"
     ]
    },
    {
     "name": "stderr",
     "output_type": "stream",
     "text": [
      "Generations:  46%|████▌     | 230/500 [1:06:36<1:17:12, 17.16s/it, Gen 231/500 - New Best Fitness: 103.9743]"
     ]
    },
    {
     "name": "stdout",
     "output_type": "stream",
     "text": [
      "Gen 231/500 - New Best Fitness: 103.9743\n"
     ]
    },
    {
     "name": "stderr",
     "output_type": "stream",
     "text": [
      "Generations:  46%|████▌     | 231/500 [1:06:53<1:16:50, 17.14s/it, Gen 232/500 - New Best Fitness: 103.9729]"
     ]
    },
    {
     "name": "stdout",
     "output_type": "stream",
     "text": [
      "Gen 232/500 - New Best Fitness: 103.9729\n"
     ]
    },
    {
     "name": "stderr",
     "output_type": "stream",
     "text": [
      "Generations:  46%|████▋     | 232/500 [1:07:10<1:16:31, 17.13s/it, Gen 233/500 - New Best Fitness: 103.9593]"
     ]
    },
    {
     "name": "stdout",
     "output_type": "stream",
     "text": [
      "Gen 233/500 - New Best Fitness: 103.9593\n"
     ]
    },
    {
     "name": "stderr",
     "output_type": "stream",
     "text": [
      "Generations:  47%|████▋     | 233/500 [1:07:27<1:16:08, 17.11s/it, Gen 234/500 - New Best Fitness: 103.9339]"
     ]
    },
    {
     "name": "stdout",
     "output_type": "stream",
     "text": [
      "Gen 234/500 - New Best Fitness: 103.9339\n"
     ]
    },
    {
     "name": "stderr",
     "output_type": "stream",
     "text": [
      "Generations:  47%|████▋     | 234/500 [1:07:44<1:15:49, 17.10s/it, Gen 235/500 - New Best Fitness: 103.9017]"
     ]
    },
    {
     "name": "stdout",
     "output_type": "stream",
     "text": [
      "Gen 235/500 - New Best Fitness: 103.9017\n"
     ]
    },
    {
     "name": "stderr",
     "output_type": "stream",
     "text": [
      "Generations:  47%|████▋     | 236/500 [1:08:19<1:15:28, 17.15s/it, Gen 237/500 - New Best Fitness: 103.8627]"
     ]
    },
    {
     "name": "stdout",
     "output_type": "stream",
     "text": [
      "Gen 237/500 - New Best Fitness: 103.8627\n"
     ]
    },
    {
     "name": "stderr",
     "output_type": "stream",
     "text": [
      "Generations:  48%|████▊     | 238/500 [1:08:53<1:14:53, 17.15s/it, Gen 239/500 - New Best Fitness: 103.8516]"
     ]
    },
    {
     "name": "stdout",
     "output_type": "stream",
     "text": [
      "Gen 239/500 - New Best Fitness: 103.8516\n"
     ]
    },
    {
     "name": "stderr",
     "output_type": "stream",
     "text": [
      "Generations:  48%|████▊     | 239/500 [1:09:10<1:14:32, 17.14s/it, Gen 240/500 - New Best Fitness: 103.7621]"
     ]
    },
    {
     "name": "stdout",
     "output_type": "stream",
     "text": [
      "Gen 240/500 - New Best Fitness: 103.7621\n"
     ]
    },
    {
     "name": "stderr",
     "output_type": "stream",
     "text": [
      "Generations:  48%|████▊     | 240/500 [1:09:27<1:14:02, 17.09s/it, Gen 241/500 - New Best Fitness: 103.7510]"
     ]
    },
    {
     "name": "stdout",
     "output_type": "stream",
     "text": [
      "Gen 241/500 - New Best Fitness: 103.7510\n"
     ]
    },
    {
     "name": "stderr",
     "output_type": "stream",
     "text": [
      "Generations:  48%|████▊     | 242/500 [1:10:01<1:13:27, 17.08s/it, Gen 243/500 - New Best Fitness: 103.6734]"
     ]
    },
    {
     "name": "stdout",
     "output_type": "stream",
     "text": [
      "Gen 243/500 - New Best Fitness: 103.6734\n"
     ]
    },
    {
     "name": "stderr",
     "output_type": "stream",
     "text": [
      "Generations:  49%|████▊     | 243/500 [1:10:18<1:13:26, 17.14s/it, Gen 244/500 - New Best Fitness: 103.6623]"
     ]
    },
    {
     "name": "stdout",
     "output_type": "stream",
     "text": [
      "Gen 244/500 - New Best Fitness: 103.6623\n"
     ]
    },
    {
     "name": "stderr",
     "output_type": "stream",
     "text": [
      "Generations:  49%|████▉     | 244/500 [1:10:36<1:13:01, 17.11s/it, Gen 245/500 - New Best Fitness: 103.6073]"
     ]
    },
    {
     "name": "stdout",
     "output_type": "stream",
     "text": [
      "Gen 245/500 - New Best Fitness: 103.6073\n"
     ]
    },
    {
     "name": "stderr",
     "output_type": "stream",
     "text": [
      "Generations:  49%|████▉     | 245/500 [1:10:53<1:12:40, 17.10s/it, Gen 246/500 - New Best Fitness: 103.5658]"
     ]
    },
    {
     "name": "stdout",
     "output_type": "stream",
     "text": [
      "Gen 246/500 - New Best Fitness: 103.5658\n"
     ]
    },
    {
     "name": "stderr",
     "output_type": "stream",
     "text": [
      "Generations:  49%|████▉     | 247/500 [1:11:27<1:12:05, 17.10s/it, Gen 248/500 - New Best Fitness: 103.4145]"
     ]
    },
    {
     "name": "stdout",
     "output_type": "stream",
     "text": [
      "Gen 248/500 - New Best Fitness: 103.4145\n"
     ]
    },
    {
     "name": "stderr",
     "output_type": "stream",
     "text": [
      "Generations:  50%|████▉     | 248/500 [1:11:44<1:11:50, 17.11s/it, Gen 249/500 - New Best Fitness: 103.4121]"
     ]
    },
    {
     "name": "stdout",
     "output_type": "stream",
     "text": [
      "Gen 249/500 - New Best Fitness: 103.4121\n"
     ]
    },
    {
     "name": "stderr",
     "output_type": "stream",
     "text": [
      "Generations:  50%|████▉     | 249/500 [1:12:01<1:11:28, 17.09s/it, Gen 250/500 - New Best Fitness: 103.4010]"
     ]
    },
    {
     "name": "stdout",
     "output_type": "stream",
     "text": [
      "Gen 250/500 - New Best Fitness: 103.4010\n"
     ]
    },
    {
     "name": "stderr",
     "output_type": "stream",
     "text": [
      "Generations:  50%|█████     | 252/500 [1:12:52<1:10:33, 17.07s/it, Gen 253/500 - New Best Fitness: 103.3705]"
     ]
    },
    {
     "name": "stdout",
     "output_type": "stream",
     "text": [
      "Gen 253/500 - New Best Fitness: 103.3705\n"
     ]
    },
    {
     "name": "stderr",
     "output_type": "stream",
     "text": [
      "Generations:  51%|█████     | 253/500 [1:13:09<1:10:11, 17.05s/it, Gen 254/500 - New Best Fitness: 103.3629]"
     ]
    },
    {
     "name": "stdout",
     "output_type": "stream",
     "text": [
      "Gen 254/500 - New Best Fitness: 103.3629\n"
     ]
    },
    {
     "name": "stderr",
     "output_type": "stream",
     "text": [
      "Generations:  51%|█████     | 254/500 [1:13:26<1:09:58, 17.07s/it, Gen 255/500 - New Best Fitness: 103.3422]"
     ]
    },
    {
     "name": "stdout",
     "output_type": "stream",
     "text": [
      "Gen 255/500 - New Best Fitness: 103.3422\n"
     ]
    },
    {
     "name": "stderr",
     "output_type": "stream",
     "text": [
      "Generations:  51%|█████     | 255/500 [1:13:43<1:09:47, 17.09s/it, Gen 256/500 - New Best Fitness: 103.1061]"
     ]
    },
    {
     "name": "stdout",
     "output_type": "stream",
     "text": [
      "Gen 256/500 - New Best Fitness: 103.1061\n"
     ]
    },
    {
     "name": "stderr",
     "output_type": "stream",
     "text": [
      "Generations:  51%|█████     | 256/500 [1:14:01<1:09:39, 17.13s/it, Gen 257/500 - New Best Fitness: 103.0979]"
     ]
    },
    {
     "name": "stdout",
     "output_type": "stream",
     "text": [
      "Gen 257/500 - New Best Fitness: 103.0979\n"
     ]
    },
    {
     "name": "stderr",
     "output_type": "stream",
     "text": [
      "Generations:  51%|█████▏    | 257/500 [1:14:18<1:09:16, 17.11s/it, Gen 258/500 - New Best Fitness: 103.0326]"
     ]
    },
    {
     "name": "stdout",
     "output_type": "stream",
     "text": [
      "Gen 258/500 - New Best Fitness: 103.0326\n"
     ]
    },
    {
     "name": "stderr",
     "output_type": "stream",
     "text": [
      "Generations:  52%|█████▏    | 259/500 [1:14:52<1:08:50, 17.14s/it, Gen 260/500 - New Best Fitness: 102.9774]"
     ]
    },
    {
     "name": "stdout",
     "output_type": "stream",
     "text": [
      "Gen 260/500 - New Best Fitness: 102.9774\n"
     ]
    },
    {
     "name": "stderr",
     "output_type": "stream",
     "text": [
      "Generations:  52%|█████▏    | 261/500 [1:15:26<1:08:03, 17.09s/it, Gen 262/500 - New Best Fitness: 102.6957]"
     ]
    },
    {
     "name": "stdout",
     "output_type": "stream",
     "text": [
      "Gen 262/500 - New Best Fitness: 102.6957\n"
     ]
    },
    {
     "name": "stderr",
     "output_type": "stream",
     "text": [
      "Generations:  52%|█████▏    | 262/500 [1:15:43<1:07:41, 17.06s/it, Gen 263/500 - New Best Fitness: 102.6406]"
     ]
    },
    {
     "name": "stdout",
     "output_type": "stream",
     "text": [
      "Gen 263/500 - New Best Fitness: 102.6406\n"
     ]
    },
    {
     "name": "stderr",
     "output_type": "stream",
     "text": [
      "Generations:  53%|█████▎    | 263/500 [1:16:00<1:07:21, 17.05s/it, Gen 264/500 - New Best Fitness: 102.6393]"
     ]
    },
    {
     "name": "stdout",
     "output_type": "stream",
     "text": [
      "Gen 264/500 - New Best Fitness: 102.6393\n"
     ]
    },
    {
     "name": "stderr",
     "output_type": "stream",
     "text": [
      "Generations:  53%|█████▎    | 264/500 [1:16:17<1:07:06, 17.06s/it, Gen 265/500 - New Best Fitness: 102.6359]"
     ]
    },
    {
     "name": "stdout",
     "output_type": "stream",
     "text": [
      "Gen 265/500 - New Best Fitness: 102.6359\n"
     ]
    },
    {
     "name": "stderr",
     "output_type": "stream",
     "text": [
      "Generations:  53%|█████▎    | 265/500 [1:16:34<1:06:43, 17.04s/it, Gen 266/500 - New Best Fitness: 102.5781]"
     ]
    },
    {
     "name": "stdout",
     "output_type": "stream",
     "text": [
      "Gen 266/500 - New Best Fitness: 102.5781\n"
     ]
    },
    {
     "name": "stderr",
     "output_type": "stream",
     "text": [
      "Generations:  53%|█████▎    | 266/500 [1:16:51<1:06:27, 17.04s/it, Gen 267/500 - New Best Fitness: 102.5647]"
     ]
    },
    {
     "name": "stdout",
     "output_type": "stream",
     "text": [
      "Gen 267/500 - New Best Fitness: 102.5647\n"
     ]
    },
    {
     "name": "stderr",
     "output_type": "stream",
     "text": [
      "Generations:  53%|█████▎    | 267/500 [1:17:08<1:06:27, 17.11s/it, Gen 268/500 - New Best Fitness: 102.5467]"
     ]
    },
    {
     "name": "stdout",
     "output_type": "stream",
     "text": [
      "Gen 268/500 - New Best Fitness: 102.5467\n"
     ]
    },
    {
     "name": "stderr",
     "output_type": "stream",
     "text": [
      "Generations:  54%|█████▍    | 269/500 [1:17:43<1:05:52, 17.11s/it, Gen 270/500 - New Best Fitness: 102.5434]"
     ]
    },
    {
     "name": "stdout",
     "output_type": "stream",
     "text": [
      "Gen 270/500 - New Best Fitness: 102.5434\n"
     ]
    },
    {
     "name": "stderr",
     "output_type": "stream",
     "text": [
      "Generations:  54%|█████▍    | 270/500 [1:18:00<1:05:26, 17.07s/it, Gen 271/500 - New Best Fitness: 102.4911]"
     ]
    },
    {
     "name": "stdout",
     "output_type": "stream",
     "text": [
      "Gen 271/500 - New Best Fitness: 102.4911\n"
     ]
    },
    {
     "name": "stderr",
     "output_type": "stream",
     "text": [
      "Generations:  54%|█████▍    | 272/500 [1:18:34<1:04:46, 17.05s/it, Gen 273/500 - New Best Fitness: 102.4860]"
     ]
    },
    {
     "name": "stdout",
     "output_type": "stream",
     "text": [
      "Gen 273/500 - New Best Fitness: 102.4860\n"
     ]
    },
    {
     "name": "stderr",
     "output_type": "stream",
     "text": [
      "Generations:  55%|█████▍    | 273/500 [1:18:51<1:04:36, 17.08s/it, Gen 274/500 - New Best Fitness: 102.4750]"
     ]
    },
    {
     "name": "stdout",
     "output_type": "stream",
     "text": [
      "Gen 274/500 - New Best Fitness: 102.4750\n"
     ]
    },
    {
     "name": "stderr",
     "output_type": "stream",
     "text": [
      "Generations:  55%|█████▍    | 274/500 [1:19:08<1:04:15, 17.06s/it, Gen 275/500 - New Best Fitness: 102.4661]"
     ]
    },
    {
     "name": "stdout",
     "output_type": "stream",
     "text": [
      "Gen 275/500 - New Best Fitness: 102.4661\n"
     ]
    },
    {
     "name": "stderr",
     "output_type": "stream",
     "text": [
      "Generations:  55%|█████▌    | 276/500 [1:19:42<1:03:31, 17.02s/it, Gen 277/500 - New Best Fitness: 102.4639]"
     ]
    },
    {
     "name": "stdout",
     "output_type": "stream",
     "text": [
      "Gen 277/500 - New Best Fitness: 102.4639\n"
     ]
    },
    {
     "name": "stderr",
     "output_type": "stream",
     "text": [
      "Generations:  55%|█████▌    | 277/500 [1:19:59<1:03:17, 17.03s/it, Gen 278/500 - New Best Fitness: 102.4507]"
     ]
    },
    {
     "name": "stdout",
     "output_type": "stream",
     "text": [
      "Gen 278/500 - New Best Fitness: 102.4507\n"
     ]
    },
    {
     "name": "stderr",
     "output_type": "stream",
     "text": [
      "Generations:  56%|█████▌    | 278/500 [1:20:16<1:03:01, 17.03s/it, Gen 279/500 - New Best Fitness: 102.4188]"
     ]
    },
    {
     "name": "stdout",
     "output_type": "stream",
     "text": [
      "Gen 279/500 - New Best Fitness: 102.4188\n"
     ]
    },
    {
     "name": "stderr",
     "output_type": "stream",
     "text": [
      "Generations:  56%|█████▌    | 280/500 [1:20:50<1:02:21, 17.01s/it, Gen 281/500 - New Best Fitness: 102.4004]                "
     ]
    },
    {
     "name": "stdout",
     "output_type": "stream",
     "text": [
      "Gen 281/500 - New Best Fitness: 102.4004\n"
     ]
    },
    {
     "name": "stderr",
     "output_type": "stream",
     "text": [
      "Generations:  56%|█████▋    | 282/500 [1:21:24<1:01:49, 17.01s/it, Gen 283/500 - New Best Fitness: 102.3782]"
     ]
    },
    {
     "name": "stdout",
     "output_type": "stream",
     "text": [
      "Gen 283/500 - New Best Fitness: 102.3782\n"
     ]
    },
    {
     "name": "stderr",
     "output_type": "stream",
     "text": [
      "Generations:  57%|█████▋    | 283/500 [1:21:41<1:01:38, 17.04s/it, Gen 284/500 - New Best Fitness: 102.3194]"
     ]
    },
    {
     "name": "stdout",
     "output_type": "stream",
     "text": [
      "Gen 284/500 - New Best Fitness: 102.3194\n"
     ]
    },
    {
     "name": "stderr",
     "output_type": "stream",
     "text": [
      "Generations:  57%|█████▋    | 285/500 [1:22:15<1:01:08, 17.06s/it, Gen 286/500 - New Best Fitness: 102.2972]"
     ]
    },
    {
     "name": "stdout",
     "output_type": "stream",
     "text": [
      "Gen 286/500 - New Best Fitness: 102.2972\n"
     ]
    },
    {
     "name": "stderr",
     "output_type": "stream",
     "text": [
      "Generations:  57%|█████▋    | 286/500 [1:22:32<1:00:51, 17.06s/it, Gen 287/500 - New Best Fitness: 102.2963]"
     ]
    },
    {
     "name": "stdout",
     "output_type": "stream",
     "text": [
      "Gen 287/500 - New Best Fitness: 102.2963\n"
     ]
    },
    {
     "name": "stderr",
     "output_type": "stream",
     "text": [
      "Generations:  57%|█████▋    | 287/500 [1:22:49<1:00:37, 17.08s/it, Gen 288/500 - New Best Fitness: 102.2579]"
     ]
    },
    {
     "name": "stdout",
     "output_type": "stream",
     "text": [
      "Gen 288/500 - New Best Fitness: 102.2579\n"
     ]
    },
    {
     "name": "stderr",
     "output_type": "stream",
     "text": [
      "Generations:  58%|█████▊    | 288/500 [1:23:06<1:00:17, 17.06s/it, Gen 289/500 - New Best Fitness: 102.1397]"
     ]
    },
    {
     "name": "stdout",
     "output_type": "stream",
     "text": [
      "Gen 289/500 - New Best Fitness: 102.1397\n"
     ]
    },
    {
     "name": "stderr",
     "output_type": "stream",
     "text": [
      "Generations:  58%|█████▊    | 291/500 [1:23:57<59:14, 17.01s/it, Gen 292/500 - New Best Fitness: 102.1361]                "
     ]
    },
    {
     "name": "stdout",
     "output_type": "stream",
     "text": [
      "Gen 292/500 - New Best Fitness: 102.1361\n"
     ]
    },
    {
     "name": "stderr",
     "output_type": "stream",
     "text": [
      "Generations:  58%|█████▊    | 292/500 [1:24:14<58:51, 16.98s/it, Gen 293/500 - New Best Fitness: 102.1285]"
     ]
    },
    {
     "name": "stdout",
     "output_type": "stream",
     "text": [
      "Gen 293/500 - New Best Fitness: 102.1285\n"
     ]
    },
    {
     "name": "stderr",
     "output_type": "stream",
     "text": [
      "Generations:  59%|█████▊    | 293/500 [1:24:31<58:29, 16.95s/it, Gen 294/500 - New Best Fitness: 102.0669]"
     ]
    },
    {
     "name": "stdout",
     "output_type": "stream",
     "text": [
      "Gen 294/500 - New Best Fitness: 102.0669\n"
     ]
    },
    {
     "name": "stderr",
     "output_type": "stream",
     "text": [
      "Generations:  59%|█████▉    | 295/500 [1:25:05<57:58, 16.97s/it, Gen 296/500 - New Best Fitness: 102.0358]"
     ]
    },
    {
     "name": "stdout",
     "output_type": "stream",
     "text": [
      "Gen 296/500 - New Best Fitness: 102.0358\n"
     ]
    },
    {
     "name": "stderr",
     "output_type": "stream",
     "text": [
      "Generations:  60%|█████▉    | 298/500 [1:25:56<56:53, 16.90s/it, Gen 299/500 - New Best Fitness: 102.0176]"
     ]
    },
    {
     "name": "stdout",
     "output_type": "stream",
     "text": [
      "Gen 299/500 - New Best Fitness: 102.0176\n"
     ]
    },
    {
     "name": "stderr",
     "output_type": "stream",
     "text": [
      "Generations:  60%|██████    | 300/500 [1:26:29<56:08, 16.84s/it, Gen 301/500 - New Best Fitness: 102.0135]                "
     ]
    },
    {
     "name": "stdout",
     "output_type": "stream",
     "text": [
      "Gen 301/500 - New Best Fitness: 102.0135\n"
     ]
    },
    {
     "name": "stderr",
     "output_type": "stream",
     "text": [
      "Generations:  61%|██████    | 304/500 [1:27:37<54:55, 16.81s/it, Gen 305/500 - New Best Fitness: 102.0074]"
     ]
    },
    {
     "name": "stdout",
     "output_type": "stream",
     "text": [
      "Gen 305/500 - New Best Fitness: 102.0074\n"
     ]
    },
    {
     "name": "stderr",
     "output_type": "stream",
     "text": [
      "Generations:  61%|██████    | 305/500 [1:27:53<54:32, 16.78s/it, Gen 306/500 - New Best Fitness: 101.9912]"
     ]
    },
    {
     "name": "stdout",
     "output_type": "stream",
     "text": [
      "Gen 306/500 - New Best Fitness: 101.9912\n"
     ]
    },
    {
     "name": "stderr",
     "output_type": "stream",
     "text": [
      "Generations:  61%|██████▏   | 307/500 [1:28:27<54:03, 16.81s/it, Gen 308/500 - New Best Fitness: 101.8820]"
     ]
    },
    {
     "name": "stdout",
     "output_type": "stream",
     "text": [
      "Gen 308/500 - New Best Fitness: 101.8820\n"
     ]
    },
    {
     "name": "stderr",
     "output_type": "stream",
     "text": [
      "Generations:  62%|██████▏   | 308/500 [1:28:44<53:47, 16.81s/it, Gen 309/500 - New Best Fitness: 101.8601]"
     ]
    },
    {
     "name": "stdout",
     "output_type": "stream",
     "text": [
      "Gen 309/500 - New Best Fitness: 101.8601\n"
     ]
    },
    {
     "name": "stderr",
     "output_type": "stream",
     "text": [
      "Generations:  62%|██████▏   | 310/500 [1:29:17<53:21, 16.85s/it, Gen 311/500 - New Best Fitness: 101.8373]                "
     ]
    },
    {
     "name": "stdout",
     "output_type": "stream",
     "text": [
      "Gen 311/500 - New Best Fitness: 101.8373\n"
     ]
    },
    {
     "name": "stderr",
     "output_type": "stream",
     "text": [
      "Generations:  63%|██████▎   | 313/500 [1:30:08<52:23, 16.81s/it, Gen 314/500 - New Best Fitness: 101.8212]"
     ]
    },
    {
     "name": "stdout",
     "output_type": "stream",
     "text": [
      "Gen 314/500 - New Best Fitness: 101.8212\n"
     ]
    },
    {
     "name": "stderr",
     "output_type": "stream",
     "text": [
      "Generations:  63%|██████▎   | 314/500 [1:30:25<52:07, 16.81s/it, Gen 315/500 - New Best Fitness: 101.7951]"
     ]
    },
    {
     "name": "stdout",
     "output_type": "stream",
     "text": [
      "Gen 315/500 - New Best Fitness: 101.7951\n"
     ]
    },
    {
     "name": "stderr",
     "output_type": "stream",
     "text": [
      "Generations:  63%|██████▎   | 315/500 [1:30:42<52:02, 16.88s/it, Gen 316/500 - New Best Fitness: 101.7820]"
     ]
    },
    {
     "name": "stdout",
     "output_type": "stream",
     "text": [
      "Gen 316/500 - New Best Fitness: 101.7820\n"
     ]
    },
    {
     "name": "stderr",
     "output_type": "stream",
     "text": [
      "Generations:  63%|██████▎   | 316/500 [1:30:59<51:47, 16.89s/it, Gen 317/500 - New Best Fitness: 101.7784]"
     ]
    },
    {
     "name": "stdout",
     "output_type": "stream",
     "text": [
      "Gen 317/500 - New Best Fitness: 101.7784\n"
     ]
    },
    {
     "name": "stderr",
     "output_type": "stream",
     "text": [
      "Generations:  63%|██████▎   | 317/500 [1:31:16<51:50, 17.00s/it, Gen 318/500 - New Best Fitness: 101.7653]"
     ]
    },
    {
     "name": "stdout",
     "output_type": "stream",
     "text": [
      "Gen 318/500 - New Best Fitness: 101.7653\n"
     ]
    },
    {
     "name": "stderr",
     "output_type": "stream",
     "text": [
      "Generations:  64%|██████▍   | 319/500 [1:31:50<51:44, 17.15s/it, Gen 320/500 - New Best Fitness: 101.6632]"
     ]
    },
    {
     "name": "stdout",
     "output_type": "stream",
     "text": [
      "Gen 320/500 - New Best Fitness: 101.6632\n"
     ]
    },
    {
     "name": "stderr",
     "output_type": "stream",
     "text": [
      "Generations:  64%|██████▍   | 322/500 [1:32:43<51:23, 17.33s/it, Gen 323/500 - New Best Fitness: 101.6626]"
     ]
    },
    {
     "name": "stdout",
     "output_type": "stream",
     "text": [
      "Gen 323/500 - New Best Fitness: 101.6626\n"
     ]
    },
    {
     "name": "stderr",
     "output_type": "stream",
     "text": [
      "Generations:  65%|██████▍   | 323/500 [1:33:00<51:02, 17.30s/it, Gen 324/500 - New Best Fitness: 101.6135]"
     ]
    },
    {
     "name": "stdout",
     "output_type": "stream",
     "text": [
      "Gen 324/500 - New Best Fitness: 101.6135\n"
     ]
    },
    {
     "name": "stderr",
     "output_type": "stream",
     "text": [
      "Generations:  65%|██████▌   | 325/500 [1:33:34<50:24, 17.28s/it, Gen 326/500 - New Best Fitness: 101.5923]"
     ]
    },
    {
     "name": "stdout",
     "output_type": "stream",
     "text": [
      "Gen 326/500 - New Best Fitness: 101.5923\n"
     ]
    },
    {
     "name": "stderr",
     "output_type": "stream",
     "text": [
      "Generations:  65%|██████▌   | 326/500 [1:33:52<50:11, 17.31s/it, Gen 327/500 - New Best Fitness: 101.5832]"
     ]
    },
    {
     "name": "stdout",
     "output_type": "stream",
     "text": [
      "Gen 327/500 - New Best Fitness: 101.5832\n"
     ]
    },
    {
     "name": "stderr",
     "output_type": "stream",
     "text": [
      "Generations:  65%|██████▌   | 327/500 [1:34:09<49:47, 17.27s/it, Gen 328/500 - New Best Fitness: 101.5686]"
     ]
    },
    {
     "name": "stdout",
     "output_type": "stream",
     "text": [
      "Gen 328/500 - New Best Fitness: 101.5686\n"
     ]
    },
    {
     "name": "stderr",
     "output_type": "stream",
     "text": [
      "Generations:  66%|██████▌   | 328/500 [1:34:26<49:35, 17.30s/it, Gen 329/500 - New Best Fitness: 101.5601]"
     ]
    },
    {
     "name": "stdout",
     "output_type": "stream",
     "text": [
      "Gen 329/500 - New Best Fitness: 101.5601\n"
     ]
    },
    {
     "name": "stderr",
     "output_type": "stream",
     "text": [
      "Generations:  66%|██████▌   | 331/500 [1:35:19<49:00, 17.40s/it, Gen 332/500 - New Best Fitness: 101.5569]                "
     ]
    },
    {
     "name": "stdout",
     "output_type": "stream",
     "text": [
      "Gen 332/500 - New Best Fitness: 101.5569\n"
     ]
    },
    {
     "name": "stderr",
     "output_type": "stream",
     "text": [
      "Generations:  66%|██████▋   | 332/500 [1:35:36<48:35, 17.35s/it, Gen 333/500 - New Best Fitness: 101.5430]"
     ]
    },
    {
     "name": "stdout",
     "output_type": "stream",
     "text": [
      "Gen 333/500 - New Best Fitness: 101.5430\n"
     ]
    },
    {
     "name": "stderr",
     "output_type": "stream",
     "text": [
      "Generations:  67%|██████▋   | 333/500 [1:35:53<48:14, 17.33s/it, Gen 334/500 - New Best Fitness: 101.5397]"
     ]
    },
    {
     "name": "stdout",
     "output_type": "stream",
     "text": [
      "Gen 334/500 - New Best Fitness: 101.5397\n"
     ]
    },
    {
     "name": "stderr",
     "output_type": "stream",
     "text": [
      "Generations:  67%|██████▋   | 334/500 [1:36:11<48:01, 17.36s/it, Gen 335/500 - New Best Fitness: 101.5397]"
     ]
    },
    {
     "name": "stdout",
     "output_type": "stream",
     "text": [
      "Gen 335/500 - New Best Fitness: 101.5397\n"
     ]
    },
    {
     "name": "stderr",
     "output_type": "stream",
     "text": [
      "Generations:  67%|██████▋   | 335/500 [1:36:28<47:41, 17.34s/it, Gen 336/500 - New Best Fitness: 101.5376]"
     ]
    },
    {
     "name": "stdout",
     "output_type": "stream",
     "text": [
      "Gen 336/500 - New Best Fitness: 101.5376\n"
     ]
    },
    {
     "name": "stderr",
     "output_type": "stream",
     "text": [
      "Generations:  67%|██████▋   | 336/500 [1:36:45<47:21, 17.32s/it, Gen 337/500 - New Best Fitness: 101.5376]"
     ]
    },
    {
     "name": "stdout",
     "output_type": "stream",
     "text": [
      "Gen 337/500 - New Best Fitness: 101.5376\n"
     ]
    },
    {
     "name": "stderr",
     "output_type": "stream",
     "text": [
      "Generations:  68%|██████▊   | 339/500 [1:37:37<46:30, 17.33s/it, Gen 340/500 - New Best Fitness: 101.5367]"
     ]
    },
    {
     "name": "stdout",
     "output_type": "stream",
     "text": [
      "Gen 340/500 - New Best Fitness: 101.5367\n"
     ]
    },
    {
     "name": "stderr",
     "output_type": "stream",
     "text": [
      "Generations:  68%|██████▊   | 340/500 [1:37:55<46:15, 17.35s/it, Gen 341/500 - New Best Fitness: 101.5226]"
     ]
    },
    {
     "name": "stdout",
     "output_type": "stream",
     "text": [
      "Gen 341/500 - New Best Fitness: 101.5226\n"
     ]
    },
    {
     "name": "stderr",
     "output_type": "stream",
     "text": [
      "Generations:  68%|██████▊   | 342/500 [1:38:29<45:46, 17.38s/it, Gen 343/500 - New Best Fitness: 101.5216]"
     ]
    },
    {
     "name": "stdout",
     "output_type": "stream",
     "text": [
      "Gen 343/500 - New Best Fitness: 101.5216\n"
     ]
    },
    {
     "name": "stderr",
     "output_type": "stream",
     "text": [
      "Generations:  69%|██████▊   | 343/500 [1:38:47<45:29, 17.39s/it, Gen 344/500 - New Best Fitness: 101.5116]"
     ]
    },
    {
     "name": "stdout",
     "output_type": "stream",
     "text": [
      "Gen 344/500 - New Best Fitness: 101.5116\n"
     ]
    },
    {
     "name": "stderr",
     "output_type": "stream",
     "text": [
      "Generations:  69%|██████▉   | 344/500 [1:39:04<45:10, 17.37s/it, Gen 345/500 - New Best Fitness: 101.5072]"
     ]
    },
    {
     "name": "stdout",
     "output_type": "stream",
     "text": [
      "Gen 345/500 - New Best Fitness: 101.5072\n"
     ]
    },
    {
     "name": "stderr",
     "output_type": "stream",
     "text": [
      "Generations:  69%|██████▉   | 345/500 [1:39:22<44:54, 17.38s/it, Gen 346/500 - New Best Fitness: 101.5062]"
     ]
    },
    {
     "name": "stdout",
     "output_type": "stream",
     "text": [
      "Gen 346/500 - New Best Fitness: 101.5062\n"
     ]
    },
    {
     "name": "stderr",
     "output_type": "stream",
     "text": [
      "Generations:  69%|██████▉   | 346/500 [1:39:39<44:33, 17.36s/it, Gen 347/500 - New Best Fitness: 101.4743]"
     ]
    },
    {
     "name": "stdout",
     "output_type": "stream",
     "text": [
      "Gen 347/500 - New Best Fitness: 101.4743\n"
     ]
    },
    {
     "name": "stderr",
     "output_type": "stream",
     "text": [
      "Generations:  70%|██████▉   | 348/500 [1:40:14<43:53, 17.33s/it, Gen 349/500 - New Best Fitness: 101.4702]"
     ]
    },
    {
     "name": "stdout",
     "output_type": "stream",
     "text": [
      "Gen 349/500 - New Best Fitness: 101.4702\n"
     ]
    },
    {
     "name": "stderr",
     "output_type": "stream",
     "text": [
      "Generations:  70%|███████   | 350/500 [1:40:48<43:24, 17.36s/it, Gen 351/500 - New Best Fitness: 101.4699]                "
     ]
    },
    {
     "name": "stdout",
     "output_type": "stream",
     "text": [
      "Gen 351/500 - New Best Fitness: 101.4699\n"
     ]
    },
    {
     "name": "stderr",
     "output_type": "stream",
     "text": [
      "Generations:  70%|███████   | 351/500 [1:41:06<43:03, 17.34s/it, Gen 352/500 - New Best Fitness: 101.4457]"
     ]
    },
    {
     "name": "stdout",
     "output_type": "stream",
     "text": [
      "Gen 352/500 - New Best Fitness: 101.4457\n"
     ]
    },
    {
     "name": "stderr",
     "output_type": "stream",
     "text": [
      "Generations:  71%|███████   | 353/500 [1:41:41<42:37, 17.40s/it, Gen 354/500 - New Best Fitness: 101.4167]"
     ]
    },
    {
     "name": "stdout",
     "output_type": "stream",
     "text": [
      "Gen 354/500 - New Best Fitness: 101.4167\n"
     ]
    },
    {
     "name": "stderr",
     "output_type": "stream",
     "text": [
      "Generations:  71%|███████   | 355/500 [1:42:16<42:16, 17.49s/it, Gen 356/500 - New Best Fitness: 101.4091]"
     ]
    },
    {
     "name": "stdout",
     "output_type": "stream",
     "text": [
      "Gen 356/500 - New Best Fitness: 101.4091\n"
     ]
    },
    {
     "name": "stderr",
     "output_type": "stream",
     "text": [
      "Generations:  71%|███████   | 356/500 [1:42:33<41:59, 17.50s/it, Gen 357/500 - New Best Fitness: 101.4059]"
     ]
    },
    {
     "name": "stdout",
     "output_type": "stream",
     "text": [
      "Gen 357/500 - New Best Fitness: 101.4059\n"
     ]
    },
    {
     "name": "stderr",
     "output_type": "stream",
     "text": [
      "Generations:  71%|███████▏  | 357/500 [1:42:51<41:42, 17.50s/it, Gen 358/500 - New Best Fitness: 101.3990]"
     ]
    },
    {
     "name": "stdout",
     "output_type": "stream",
     "text": [
      "Gen 358/500 - New Best Fitness: 101.3990\n"
     ]
    },
    {
     "name": "stderr",
     "output_type": "stream",
     "text": [
      "Generations:  72%|███████▏  | 358/500 [1:43:08<41:27, 17.52s/it, Gen 359/500 - New Best Fitness: 101.3882]"
     ]
    },
    {
     "name": "stdout",
     "output_type": "stream",
     "text": [
      "Gen 359/500 - New Best Fitness: 101.3882\n"
     ]
    },
    {
     "name": "stderr",
     "output_type": "stream",
     "text": [
      "Generations:  72%|███████▏  | 360/500 [1:43:43<40:48, 17.49s/it, Gen 361/500 - New Best Fitness: 101.3735]                "
     ]
    },
    {
     "name": "stdout",
     "output_type": "stream",
     "text": [
      "Gen 361/500 - New Best Fitness: 101.3735\n"
     ]
    },
    {
     "name": "stderr",
     "output_type": "stream",
     "text": [
      "Generations:  72%|███████▏  | 361/500 [1:44:01<40:26, 17.45s/it, Gen 362/500 - New Best Fitness: 101.3017]"
     ]
    },
    {
     "name": "stdout",
     "output_type": "stream",
     "text": [
      "Gen 362/500 - New Best Fitness: 101.3017\n"
     ]
    },
    {
     "name": "stderr",
     "output_type": "stream",
     "text": [
      "Generations:  73%|███████▎  | 363/500 [1:44:36<39:54, 17.48s/it, Gen 364/500 - New Best Fitness: 101.2863]"
     ]
    },
    {
     "name": "stdout",
     "output_type": "stream",
     "text": [
      "Gen 364/500 - New Best Fitness: 101.2863\n"
     ]
    },
    {
     "name": "stderr",
     "output_type": "stream",
     "text": [
      "Generations:  73%|███████▎  | 364/500 [1:44:53<39:39, 17.50s/it, Gen 365/500 - New Best Fitness: 101.2517]"
     ]
    },
    {
     "name": "stdout",
     "output_type": "stream",
     "text": [
      "Gen 365/500 - New Best Fitness: 101.2517\n"
     ]
    },
    {
     "name": "stderr",
     "output_type": "stream",
     "text": [
      "Generations:  73%|███████▎  | 367/500 [1:45:45<38:39, 17.44s/it, Gen 368/500 - New Best Fitness: 101.2385]"
     ]
    },
    {
     "name": "stdout",
     "output_type": "stream",
     "text": [
      "Gen 368/500 - New Best Fitness: 101.2385\n"
     ]
    },
    {
     "name": "stderr",
     "output_type": "stream",
     "text": [
      "Generations:  74%|███████▍  | 370/500 [1:46:37<37:40, 17.39s/it, Gen 371/500 - New Best Fitness: 101.2147]                "
     ]
    },
    {
     "name": "stdout",
     "output_type": "stream",
     "text": [
      "Gen 371/500 - New Best Fitness: 101.2147\n"
     ]
    },
    {
     "name": "stderr",
     "output_type": "stream",
     "text": [
      "Generations:  74%|███████▍  | 371/500 [1:46:55<37:23, 17.39s/it, Gen 372/500 - New Best Fitness: 101.2041]"
     ]
    },
    {
     "name": "stdout",
     "output_type": "stream",
     "text": [
      "Gen 372/500 - New Best Fitness: 101.2041\n"
     ]
    },
    {
     "name": "stderr",
     "output_type": "stream",
     "text": [
      "Generations:  74%|███████▍  | 372/500 [1:47:12<37:00, 17.35s/it, Gen 373/500 - New Best Fitness: 101.1761]"
     ]
    },
    {
     "name": "stdout",
     "output_type": "stream",
     "text": [
      "Gen 373/500 - New Best Fitness: 101.1761\n"
     ]
    },
    {
     "name": "stderr",
     "output_type": "stream",
     "text": [
      "Generations:  75%|███████▍  | 374/500 [1:47:47<36:22, 17.32s/it, Gen 375/500 - New Best Fitness: 101.1655]"
     ]
    },
    {
     "name": "stdout",
     "output_type": "stream",
     "text": [
      "Gen 375/500 - New Best Fitness: 101.1655\n"
     ]
    },
    {
     "name": "stderr",
     "output_type": "stream",
     "text": [
      "Generations:  75%|███████▌  | 376/500 [1:48:21<35:53, 17.36s/it, Gen 377/500 - New Best Fitness: 101.1557]"
     ]
    },
    {
     "name": "stdout",
     "output_type": "stream",
     "text": [
      "Gen 377/500 - New Best Fitness: 101.1557\n"
     ]
    },
    {
     "name": "stderr",
     "output_type": "stream",
     "text": [
      "Generations:  76%|███████▌  | 378/500 [1:48:56<35:19, 17.38s/it, Gen 379/500 - New Best Fitness: 101.1528]"
     ]
    },
    {
     "name": "stdout",
     "output_type": "stream",
     "text": [
      "Gen 379/500 - New Best Fitness: 101.1528\n"
     ]
    },
    {
     "name": "stderr",
     "output_type": "stream",
     "text": [
      "Generations:  76%|███████▌  | 379/500 [1:49:13<34:58, 17.34s/it, Gen 380/500 - New Best Fitness: 101.1379]"
     ]
    },
    {
     "name": "stdout",
     "output_type": "stream",
     "text": [
      "Gen 380/500 - New Best Fitness: 101.1379\n"
     ]
    },
    {
     "name": "stderr",
     "output_type": "stream",
     "text": [
      "Generations:  76%|███████▌  | 380/500 [1:49:31<34:39, 17.33s/it, Gen 381/500 - New Best Fitness: 101.0952]"
     ]
    },
    {
     "name": "stdout",
     "output_type": "stream",
     "text": [
      "Gen 381/500 - New Best Fitness: 101.0952\n"
     ]
    },
    {
     "name": "stderr",
     "output_type": "stream",
     "text": [
      "Generations:  76%|███████▌  | 381/500 [1:49:48<34:24, 17.35s/it, Gen 382/500 - New Best Fitness: 101.0952]"
     ]
    },
    {
     "name": "stdout",
     "output_type": "stream",
     "text": [
      "Gen 382/500 - New Best Fitness: 101.0952\n"
     ]
    },
    {
     "name": "stderr",
     "output_type": "stream",
     "text": [
      "Generations:  76%|███████▋  | 382/500 [1:50:05<34:04, 17.33s/it, Gen 383/500 - New Best Fitness: 101.0861]"
     ]
    },
    {
     "name": "stdout",
     "output_type": "stream",
     "text": [
      "Gen 383/500 - New Best Fitness: 101.0861\n"
     ]
    },
    {
     "name": "stderr",
     "output_type": "stream",
     "text": [
      "Generations:  77%|███████▋  | 383/500 [1:50:23<33:47, 17.33s/it, Gen 384/500 - New Best Fitness: 101.0828]"
     ]
    },
    {
     "name": "stdout",
     "output_type": "stream",
     "text": [
      "Gen 384/500 - New Best Fitness: 101.0828\n"
     ]
    },
    {
     "name": "stderr",
     "output_type": "stream",
     "text": [
      "Generations:  77%|███████▋  | 384/500 [1:50:40<33:31, 17.34s/it, Gen 385/500 - New Best Fitness: 101.0795]"
     ]
    },
    {
     "name": "stdout",
     "output_type": "stream",
     "text": [
      "Gen 385/500 - New Best Fitness: 101.0795\n"
     ]
    },
    {
     "name": "stderr",
     "output_type": "stream",
     "text": [
      "Generations:  77%|███████▋  | 385/500 [1:50:57<33:11, 17.32s/it, Gen 386/500 - New Best Fitness: 101.0704]"
     ]
    },
    {
     "name": "stdout",
     "output_type": "stream",
     "text": [
      "Gen 386/500 - New Best Fitness: 101.0704\n"
     ]
    },
    {
     "name": "stderr",
     "output_type": "stream",
     "text": [
      "Generations:  77%|███████▋  | 386/500 [1:51:15<32:55, 17.33s/it, Gen 387/500 - New Best Fitness: 101.0626]"
     ]
    },
    {
     "name": "stdout",
     "output_type": "stream",
     "text": [
      "Gen 387/500 - New Best Fitness: 101.0626\n"
     ]
    },
    {
     "name": "stderr",
     "output_type": "stream",
     "text": [
      "Generations:  78%|███████▊  | 389/500 [1:52:07<32:04, 17.34s/it, Gen 390/500 - New Best Fitness: 101.0561]"
     ]
    },
    {
     "name": "stdout",
     "output_type": "stream",
     "text": [
      "Gen 390/500 - New Best Fitness: 101.0561\n"
     ]
    },
    {
     "name": "stderr",
     "output_type": "stream",
     "text": [
      "Generations:  78%|███████▊  | 391/500 [1:52:41<31:27, 17.32s/it, Gen 392/500 - New Best Fitness: 101.0499]"
     ]
    },
    {
     "name": "stdout",
     "output_type": "stream",
     "text": [
      "Gen 392/500 - New Best Fitness: 101.0499\n"
     ]
    },
    {
     "name": "stderr",
     "output_type": "stream",
     "text": [
      "Generations:  79%|███████▉  | 395/500 [1:53:51<30:22, 17.35s/it, Gen 396/500 - New Best Fitness: 101.0474]"
     ]
    },
    {
     "name": "stdout",
     "output_type": "stream",
     "text": [
      "Gen 396/500 - New Best Fitness: 101.0474\n"
     ]
    },
    {
     "name": "stderr",
     "output_type": "stream",
     "text": [
      "Generations:  79%|███████▉  | 396/500 [1:54:08<30:05, 17.36s/it, Gen 397/500 - New Best Fitness: 101.0426]"
     ]
    },
    {
     "name": "stdout",
     "output_type": "stream",
     "text": [
      "Gen 397/500 - New Best Fitness: 101.0426\n"
     ]
    },
    {
     "name": "stderr",
     "output_type": "stream",
     "text": [
      "Generations:  79%|███████▉  | 397/500 [1:54:26<29:48, 17.36s/it, Gen 398/500 - New Best Fitness: 101.0401]"
     ]
    },
    {
     "name": "stdout",
     "output_type": "stream",
     "text": [
      "Gen 398/500 - New Best Fitness: 101.0401\n"
     ]
    },
    {
     "name": "stderr",
     "output_type": "stream",
     "text": [
      "Generations:  80%|███████▉  | 398/500 [1:54:43<29:28, 17.34s/it, Gen 399/500 - New Best Fitness: 101.0385]"
     ]
    },
    {
     "name": "stdout",
     "output_type": "stream",
     "text": [
      "Gen 399/500 - New Best Fitness: 101.0385\n"
     ]
    },
    {
     "name": "stderr",
     "output_type": "stream",
     "text": [
      "Generations:  80%|███████▉  | 399/500 [1:55:00<29:07, 17.30s/it, Gen 400/500 - New Best Fitness: 101.0363]"
     ]
    },
    {
     "name": "stdout",
     "output_type": "stream",
     "text": [
      "Gen 400/500 - New Best Fitness: 101.0363\n"
     ]
    },
    {
     "name": "stderr",
     "output_type": "stream",
     "text": [
      "Generations:  80%|████████  | 400/500 [1:55:17<28:47, 17.27s/it, Gen 401/500 - New Best Fitness: 101.0359]"
     ]
    },
    {
     "name": "stdout",
     "output_type": "stream",
     "text": [
      "Gen 401/500 - New Best Fitness: 101.0359\n"
     ]
    },
    {
     "name": "stderr",
     "output_type": "stream",
     "text": [
      "Generations:  80%|████████  | 401/500 [1:55:35<28:26, 17.24s/it, Gen 402/500 - New Best Fitness: 101.0213]"
     ]
    },
    {
     "name": "stdout",
     "output_type": "stream",
     "text": [
      "Gen 402/500 - New Best Fitness: 101.0213\n"
     ]
    },
    {
     "name": "stderr",
     "output_type": "stream",
     "text": [
      "Generations:  81%|████████  | 403/500 [1:56:09<27:57, 17.29s/it, Gen 404/500 - New Best Fitness: 101.0213]"
     ]
    },
    {
     "name": "stdout",
     "output_type": "stream",
     "text": [
      "Gen 404/500 - New Best Fitness: 101.0213\n"
     ]
    },
    {
     "name": "stderr",
     "output_type": "stream",
     "text": [
      "Generations:  81%|████████  | 404/500 [1:56:27<27:40, 17.30s/it, Gen 405/500 - New Best Fitness: 101.0211]"
     ]
    },
    {
     "name": "stdout",
     "output_type": "stream",
     "text": [
      "Gen 405/500 - New Best Fitness: 101.0211\n"
     ]
    },
    {
     "name": "stderr",
     "output_type": "stream",
     "text": [
      "Generations:  81%|████████  | 406/500 [1:57:01<27:10, 17.35s/it, Gen 407/500 - New Best Fitness: 100.9945]"
     ]
    },
    {
     "name": "stdout",
     "output_type": "stream",
     "text": [
      "Gen 407/500 - New Best Fitness: 100.9945\n"
     ]
    },
    {
     "name": "stderr",
     "output_type": "stream",
     "text": [
      "Generations:  82%|████████▏ | 408/500 [1:57:36<26:35, 17.34s/it, Gen 409/500 - New Best Fitness: 100.9929]"
     ]
    },
    {
     "name": "stdout",
     "output_type": "stream",
     "text": [
      "Gen 409/500 - New Best Fitness: 100.9929\n"
     ]
    },
    {
     "name": "stderr",
     "output_type": "stream",
     "text": [
      "Generations:  82%|████████▏ | 409/500 [1:57:53<26:19, 17.36s/it, Gen 410/500 - New Best Fitness: 100.9910]"
     ]
    },
    {
     "name": "stdout",
     "output_type": "stream",
     "text": [
      "Gen 410/500 - New Best Fitness: 100.9910\n"
     ]
    },
    {
     "name": "stderr",
     "output_type": "stream",
     "text": [
      "Generations:  82%|████████▏ | 410/500 [1:58:11<26:01, 17.35s/it, Gen 411/500 - New Best Fitness: 100.9673]"
     ]
    },
    {
     "name": "stdout",
     "output_type": "stream",
     "text": [
      "Gen 411/500 - New Best Fitness: 100.9673\n"
     ]
    },
    {
     "name": "stderr",
     "output_type": "stream",
     "text": [
      "Generations:  82%|████████▏ | 411/500 [1:58:28<25:41, 17.32s/it, Gen 412/500 - New Best Fitness: 100.9673]"
     ]
    },
    {
     "name": "stdout",
     "output_type": "stream",
     "text": [
      "Gen 412/500 - New Best Fitness: 100.9673\n"
     ]
    },
    {
     "name": "stderr",
     "output_type": "stream",
     "text": [
      "Generations:  82%|████████▏ | 412/500 [1:58:45<25:25, 17.33s/it, Gen 413/500 - New Best Fitness: 100.9638]"
     ]
    },
    {
     "name": "stdout",
     "output_type": "stream",
     "text": [
      "Gen 413/500 - New Best Fitness: 100.9638\n"
     ]
    },
    {
     "name": "stderr",
     "output_type": "stream",
     "text": [
      "Generations:  83%|████████▎ | 414/500 [1:59:20<24:49, 17.31s/it, Gen 415/500 - New Best Fitness: 100.9416]"
     ]
    },
    {
     "name": "stdout",
     "output_type": "stream",
     "text": [
      "Gen 415/500 - New Best Fitness: 100.9416\n"
     ]
    },
    {
     "name": "stderr",
     "output_type": "stream",
     "text": [
      "Generations:  83%|████████▎ | 416/500 [1:59:55<24:20, 17.38s/it, Gen 417/500 - New Best Fitness: 100.9380]"
     ]
    },
    {
     "name": "stdout",
     "output_type": "stream",
     "text": [
      "Gen 417/500 - New Best Fitness: 100.9380\n"
     ]
    },
    {
     "name": "stderr",
     "output_type": "stream",
     "text": [
      "Generations:  85%|████████▍ | 423/500 [2:01:56<22:14, 17.33s/it, Gen 424/500 - New Best Fitness: 100.9377]                "
     ]
    },
    {
     "name": "stdout",
     "output_type": "stream",
     "text": [
      "Gen 424/500 - New Best Fitness: 100.9377\n"
     ]
    },
    {
     "name": "stderr",
     "output_type": "stream",
     "text": [
      "Generations:  85%|████████▌ | 425/500 [2:02:31<21:37, 17.30s/it, Gen 426/500 - New Best Fitness: 100.9371]"
     ]
    },
    {
     "name": "stdout",
     "output_type": "stream",
     "text": [
      "Gen 426/500 - New Best Fitness: 100.9371\n"
     ]
    },
    {
     "name": "stderr",
     "output_type": "stream",
     "text": [
      "Generations:  85%|████████▌ | 426/500 [2:02:48<21:20, 17.30s/it, Gen 427/500 - New Best Fitness: 100.9365]"
     ]
    },
    {
     "name": "stdout",
     "output_type": "stream",
     "text": [
      "Gen 427/500 - New Best Fitness: 100.9365\n"
     ]
    },
    {
     "name": "stderr",
     "output_type": "stream",
     "text": [
      "Generations:  85%|████████▌ | 427/500 [2:03:05<21:05, 17.33s/it, Gen 428/500 - New Best Fitness: 100.9318]"
     ]
    },
    {
     "name": "stdout",
     "output_type": "stream",
     "text": [
      "Gen 428/500 - New Best Fitness: 100.9318\n"
     ]
    },
    {
     "name": "stderr",
     "output_type": "stream",
     "text": [
      "Generations:  86%|████████▌ | 428/500 [2:03:23<20:44, 17.28s/it, Gen 429/500 - New Best Fitness: 100.9312]"
     ]
    },
    {
     "name": "stdout",
     "output_type": "stream",
     "text": [
      "Gen 429/500 - New Best Fitness: 100.9312\n"
     ]
    },
    {
     "name": "stderr",
     "output_type": "stream",
     "text": [
      "Generations:  86%|████████▌ | 429/500 [2:03:40<20:23, 17.23s/it, Gen 430/500 - New Best Fitness: 100.9300]"
     ]
    },
    {
     "name": "stdout",
     "output_type": "stream",
     "text": [
      "Gen 430/500 - New Best Fitness: 100.9300\n"
     ]
    },
    {
     "name": "stderr",
     "output_type": "stream",
     "text": [
      "Generations:  86%|████████▌ | 431/500 [2:04:14<19:47, 17.22s/it, Gen 432/500 - New Best Fitness: 100.8625]"
     ]
    },
    {
     "name": "stdout",
     "output_type": "stream",
     "text": [
      "Gen 432/500 - New Best Fitness: 100.8625\n"
     ]
    },
    {
     "name": "stderr",
     "output_type": "stream",
     "text": [
      "Generations:  86%|████████▋ | 432/500 [2:04:31<19:28, 17.19s/it, Gen 433/500 - New Best Fitness: 100.8625]"
     ]
    },
    {
     "name": "stdout",
     "output_type": "stream",
     "text": [
      "Gen 433/500 - New Best Fitness: 100.8625\n"
     ]
    },
    {
     "name": "stderr",
     "output_type": "stream",
     "text": [
      "Generations:  87%|████████▋ | 433/500 [2:04:48<19:10, 17.18s/it, Gen 434/500 - New Best Fitness: 100.8614]"
     ]
    },
    {
     "name": "stdout",
     "output_type": "stream",
     "text": [
      "Gen 434/500 - New Best Fitness: 100.8614\n"
     ]
    },
    {
     "name": "stderr",
     "output_type": "stream",
     "text": [
      "Generations:  87%|████████▋ | 434/500 [2:05:06<18:54, 17.19s/it, Gen 435/500 - New Best Fitness: 100.8613]"
     ]
    },
    {
     "name": "stdout",
     "output_type": "stream",
     "text": [
      "Gen 435/500 - New Best Fitness: 100.8613\n"
     ]
    },
    {
     "name": "stderr",
     "output_type": "stream",
     "text": [
      "Generations:  87%|████████▋ | 435/500 [2:05:23<18:36, 17.18s/it, Gen 436/500 - New Best Fitness: 100.8613]"
     ]
    },
    {
     "name": "stdout",
     "output_type": "stream",
     "text": [
      "Gen 436/500 - New Best Fitness: 100.8613\n"
     ]
    },
    {
     "name": "stderr",
     "output_type": "stream",
     "text": [
      "Generations:  88%|████████▊ | 440/500 [2:06:49<17:14, 17.24s/it, Gen 441/500 - New Best Fitness: 100.8604]                "
     ]
    },
    {
     "name": "stdout",
     "output_type": "stream",
     "text": [
      "Gen 441/500 - New Best Fitness: 100.8604\n"
     ]
    },
    {
     "name": "stderr",
     "output_type": "stream",
     "text": [
      "Generations:  88%|████████▊ | 442/500 [2:07:23<16:39, 17.23s/it, Gen 443/500 - New Best Fitness: 100.8452]"
     ]
    },
    {
     "name": "stdout",
     "output_type": "stream",
     "text": [
      "Gen 443/500 - New Best Fitness: 100.8452\n"
     ]
    },
    {
     "name": "stderr",
     "output_type": "stream",
     "text": [
      "Generations:  89%|████████▊ | 443/500 [2:07:41<16:21, 17.21s/it, Gen 444/500 - New Best Fitness: 100.8447]"
     ]
    },
    {
     "name": "stdout",
     "output_type": "stream",
     "text": [
      "Gen 444/500 - New Best Fitness: 100.8447\n"
     ]
    },
    {
     "name": "stderr",
     "output_type": "stream",
     "text": [
      "Generations:  89%|████████▉ | 444/500 [2:07:58<16:05, 17.24s/it, Gen 445/500 - New Best Fitness: 100.8416]"
     ]
    },
    {
     "name": "stdout",
     "output_type": "stream",
     "text": [
      "Gen 445/500 - New Best Fitness: 100.8416\n"
     ]
    },
    {
     "name": "stderr",
     "output_type": "stream",
     "text": [
      "Generations:  89%|████████▉ | 446/500 [2:08:32<15:29, 17.21s/it, Gen 447/500 - New Best Fitness: 100.8240]"
     ]
    },
    {
     "name": "stdout",
     "output_type": "stream",
     "text": [
      "Gen 447/500 - New Best Fitness: 100.8240\n"
     ]
    },
    {
     "name": "stderr",
     "output_type": "stream",
     "text": [
      "Generations:  90%|████████▉ | 448/500 [2:09:07<14:57, 17.26s/it, Gen 449/500 - New Best Fitness: 100.8210]"
     ]
    },
    {
     "name": "stdout",
     "output_type": "stream",
     "text": [
      "Gen 449/500 - New Best Fitness: 100.8210\n"
     ]
    },
    {
     "name": "stderr",
     "output_type": "stream",
     "text": [
      "Generations:  90%|████████▉ | 449/500 [2:09:24<14:41, 17.28s/it, Gen 450/500 - New Best Fitness: 100.8181]"
     ]
    },
    {
     "name": "stdout",
     "output_type": "stream",
     "text": [
      "Gen 450/500 - New Best Fitness: 100.8181\n"
     ]
    },
    {
     "name": "stderr",
     "output_type": "stream",
     "text": [
      "Generations:  90%|█████████ | 450/500 [2:09:41<14:22, 17.24s/it, Gen 451/500 - New Best Fitness: 100.8149]"
     ]
    },
    {
     "name": "stdout",
     "output_type": "stream",
     "text": [
      "Gen 451/500 - New Best Fitness: 100.8149\n"
     ]
    },
    {
     "name": "stderr",
     "output_type": "stream",
     "text": [
      "Generations:  90%|█████████ | 452/500 [2:10:16<13:47, 17.24s/it, Gen 453/500 - New Best Fitness: 100.8144]"
     ]
    },
    {
     "name": "stdout",
     "output_type": "stream",
     "text": [
      "Gen 453/500 - New Best Fitness: 100.8144\n"
     ]
    },
    {
     "name": "stderr",
     "output_type": "stream",
     "text": [
      "Generations:  91%|█████████ | 454/500 [2:10:50<13:11, 17.22s/it, Gen 455/500 - New Best Fitness: 100.8110]"
     ]
    },
    {
     "name": "stdout",
     "output_type": "stream",
     "text": [
      "Gen 455/500 - New Best Fitness: 100.8110\n"
     ]
    },
    {
     "name": "stderr",
     "output_type": "stream",
     "text": [
      "Generations:  91%|█████████ | 456/500 [2:11:25<12:37, 17.22s/it, Gen 457/500 - New Best Fitness: 100.8105]"
     ]
    },
    {
     "name": "stdout",
     "output_type": "stream",
     "text": [
      "Gen 457/500 - New Best Fitness: 100.8105\n"
     ]
    },
    {
     "name": "stderr",
     "output_type": "stream",
     "text": [
      "Generations:  92%|█████████▏| 458/500 [2:11:59<12:02, 17.20s/it, Gen 459/500 - New Best Fitness: 100.8102]"
     ]
    },
    {
     "name": "stdout",
     "output_type": "stream",
     "text": [
      "Gen 459/500 - New Best Fitness: 100.8102\n"
     ]
    },
    {
     "name": "stderr",
     "output_type": "stream",
     "text": [
      "Generations:  92%|█████████▏| 460/500 [2:12:34<11:29, 17.24s/it, Gen 461/500 - New Best Fitness: 100.8091]                "
     ]
    },
    {
     "name": "stdout",
     "output_type": "stream",
     "text": [
      "Gen 461/500 - New Best Fitness: 100.8091\n"
     ]
    },
    {
     "name": "stderr",
     "output_type": "stream",
     "text": [
      "Generations:  92%|█████████▏| 462/500 [2:13:08<10:53, 17.20s/it, Gen 463/500 - New Best Fitness: 100.8070]"
     ]
    },
    {
     "name": "stdout",
     "output_type": "stream",
     "text": [
      "Gen 463/500 - New Best Fitness: 100.8070\n"
     ]
    },
    {
     "name": "stderr",
     "output_type": "stream",
     "text": [
      "Generations:  93%|█████████▎| 463/500 [2:13:25<10:36, 17.21s/it, Gen 464/500 - New Best Fitness: 100.7557]"
     ]
    },
    {
     "name": "stdout",
     "output_type": "stream",
     "text": [
      "Gen 464/500 - New Best Fitness: 100.7557\n"
     ]
    },
    {
     "name": "stderr",
     "output_type": "stream",
     "text": [
      "Generations:  93%|█████████▎| 465/500 [2:13:59<10:00, 17.15s/it, Gen 466/500 - New Best Fitness: 100.7524]"
     ]
    },
    {
     "name": "stdout",
     "output_type": "stream",
     "text": [
      "Gen 466/500 - New Best Fitness: 100.7524\n"
     ]
    },
    {
     "name": "stderr",
     "output_type": "stream",
     "text": [
      "Generations:  93%|█████████▎| 466/500 [2:14:17<09:43, 17.17s/it, Gen 467/500 - New Best Fitness: 100.7445]"
     ]
    },
    {
     "name": "stdout",
     "output_type": "stream",
     "text": [
      "Gen 467/500 - New Best Fitness: 100.7445\n"
     ]
    },
    {
     "name": "stderr",
     "output_type": "stream",
     "text": [
      "Generations:  93%|█████████▎| 467/500 [2:14:34<09:26, 17.16s/it, Gen 468/500 - New Best Fitness: 100.7413]"
     ]
    },
    {
     "name": "stdout",
     "output_type": "stream",
     "text": [
      "Gen 468/500 - New Best Fitness: 100.7413\n"
     ]
    },
    {
     "name": "stderr",
     "output_type": "stream",
     "text": [
      "Generations:  94%|█████████▎| 468/500 [2:14:51<09:09, 17.17s/it, Gen 469/500 - New Best Fitness: 100.7267]"
     ]
    },
    {
     "name": "stdout",
     "output_type": "stream",
     "text": [
      "Gen 469/500 - New Best Fitness: 100.7267\n"
     ]
    },
    {
     "name": "stderr",
     "output_type": "stream",
     "text": [
      "Generations:  94%|█████████▍| 471/500 [2:15:42<08:17, 17.16s/it, Gen 472/500 - New Best Fitness: 100.7212]                "
     ]
    },
    {
     "name": "stdout",
     "output_type": "stream",
     "text": [
      "Gen 472/500 - New Best Fitness: 100.7212\n"
     ]
    },
    {
     "name": "stderr",
     "output_type": "stream",
     "text": [
      "Generations:  94%|█████████▍| 472/500 [2:16:00<08:01, 17.18s/it, Gen 473/500 - New Best Fitness: 100.7195]"
     ]
    },
    {
     "name": "stdout",
     "output_type": "stream",
     "text": [
      "Gen 473/500 - New Best Fitness: 100.7195\n"
     ]
    },
    {
     "name": "stderr",
     "output_type": "stream",
     "text": [
      "Generations:  95%|█████████▍| 473/500 [2:16:17<07:44, 17.19s/it, Gen 474/500 - New Best Fitness: 100.7188]"
     ]
    },
    {
     "name": "stdout",
     "output_type": "stream",
     "text": [
      "Gen 474/500 - New Best Fitness: 100.7188\n"
     ]
    },
    {
     "name": "stderr",
     "output_type": "stream",
     "text": [
      "Generations:  95%|█████████▍| 474/500 [2:16:34<07:27, 17.22s/it, Gen 475/500 - New Best Fitness: 100.7132]"
     ]
    },
    {
     "name": "stdout",
     "output_type": "stream",
     "text": [
      "Gen 475/500 - New Best Fitness: 100.7132\n"
     ]
    },
    {
     "name": "stderr",
     "output_type": "stream",
     "text": [
      "Generations:  95%|█████████▌| 475/500 [2:16:51<07:11, 17.25s/it, Gen 476/500 - New Best Fitness: 100.7129]"
     ]
    },
    {
     "name": "stdout",
     "output_type": "stream",
     "text": [
      "Gen 476/500 - New Best Fitness: 100.7129\n"
     ]
    },
    {
     "name": "stderr",
     "output_type": "stream",
     "text": [
      "Generations:  95%|█████████▌| 476/500 [2:17:09<06:54, 17.25s/it, Gen 477/500 - New Best Fitness: 100.7111]"
     ]
    },
    {
     "name": "stdout",
     "output_type": "stream",
     "text": [
      "Gen 477/500 - New Best Fitness: 100.7111\n"
     ]
    },
    {
     "name": "stderr",
     "output_type": "stream",
     "text": [
      "Generations:  96%|█████████▌| 478/500 [2:17:43<06:20, 17.28s/it, Gen 479/500 - New Best Fitness: 100.7094]"
     ]
    },
    {
     "name": "stdout",
     "output_type": "stream",
     "text": [
      "Gen 479/500 - New Best Fitness: 100.7094\n"
     ]
    },
    {
     "name": "stderr",
     "output_type": "stream",
     "text": [
      "Generations:  96%|█████████▌| 479/500 [2:18:00<06:02, 17.24s/it, Gen 480/500 - New Best Fitness: 100.7016]"
     ]
    },
    {
     "name": "stdout",
     "output_type": "stream",
     "text": [
      "Gen 480/500 - New Best Fitness: 100.7016\n"
     ]
    },
    {
     "name": "stderr",
     "output_type": "stream",
     "text": [
      "Generations:  96%|█████████▌| 480/500 [2:18:18<05:44, 17.24s/it, Gen 481/500 - New Best Fitness: 100.6984]"
     ]
    },
    {
     "name": "stdout",
     "output_type": "stream",
     "text": [
      "Gen 481/500 - New Best Fitness: 100.6984\n"
     ]
    },
    {
     "name": "stderr",
     "output_type": "stream",
     "text": [
      "Generations:  97%|█████████▋| 483/500 [2:19:09<04:52, 17.21s/it, Gen 484/500 - New Best Fitness: 100.6983]"
     ]
    },
    {
     "name": "stdout",
     "output_type": "stream",
     "text": [
      "Gen 484/500 - New Best Fitness: 100.6983\n"
     ]
    },
    {
     "name": "stderr",
     "output_type": "stream",
     "text": [
      "Generations:  97%|█████████▋| 484/500 [2:19:26<04:34, 17.18s/it, Gen 485/500 - New Best Fitness: 100.6980]"
     ]
    },
    {
     "name": "stdout",
     "output_type": "stream",
     "text": [
      "Gen 485/500 - New Best Fitness: 100.6980\n"
     ]
    },
    {
     "name": "stderr",
     "output_type": "stream",
     "text": [
      "Generations:  97%|█████████▋| 485/500 [2:19:44<04:18, 17.21s/it, Gen 486/500 - New Best Fitness: 100.6857]"
     ]
    },
    {
     "name": "stdout",
     "output_type": "stream",
     "text": [
      "Gen 486/500 - New Best Fitness: 100.6857\n"
     ]
    },
    {
     "name": "stderr",
     "output_type": "stream",
     "text": [
      "Generations:  97%|█████████▋| 487/500 [2:20:18<03:45, 17.32s/it, Gen 488/500 - New Best Fitness: 100.6853]"
     ]
    },
    {
     "name": "stdout",
     "output_type": "stream",
     "text": [
      "Gen 488/500 - New Best Fitness: 100.6853\n"
     ]
    },
    {
     "name": "stderr",
     "output_type": "stream",
     "text": [
      "Generations:  98%|█████████▊| 488/500 [2:20:36<03:27, 17.31s/it, Gen 489/500 - New Best Fitness: 100.6836]"
     ]
    },
    {
     "name": "stdout",
     "output_type": "stream",
     "text": [
      "Gen 489/500 - New Best Fitness: 100.6836\n"
     ]
    },
    {
     "name": "stderr",
     "output_type": "stream",
     "text": [
      "Generations:  98%|█████████▊| 489/500 [2:20:53<03:10, 17.32s/it, Gen 490/500 - New Best Fitness: 100.6832]"
     ]
    },
    {
     "name": "stdout",
     "output_type": "stream",
     "text": [
      "Gen 490/500 - New Best Fitness: 100.6832\n"
     ]
    },
    {
     "name": "stderr",
     "output_type": "stream",
     "text": [
      "Generations:  98%|█████████▊| 490/500 [2:21:10<02:52, 17.29s/it, Gen 491/500 - New Best Fitness: 100.6832]"
     ]
    },
    {
     "name": "stdout",
     "output_type": "stream",
     "text": [
      "Gen 491/500 - New Best Fitness: 100.6832\n"
     ]
    },
    {
     "name": "stderr",
     "output_type": "stream",
     "text": [
      "Generations:  98%|█████████▊| 492/500 [2:21:45<02:18, 17.27s/it, Gen 493/500 - New Best Fitness: 100.6768]"
     ]
    },
    {
     "name": "stdout",
     "output_type": "stream",
     "text": [
      "Gen 493/500 - New Best Fitness: 100.6768\n"
     ]
    },
    {
     "name": "stderr",
     "output_type": "stream",
     "text": [
      "Generations:  99%|█████████▊| 493/500 [2:22:02<02:00, 17.25s/it, Gen 494/500 - New Best Fitness: 100.6659]"
     ]
    },
    {
     "name": "stdout",
     "output_type": "stream",
     "text": [
      "Gen 494/500 - New Best Fitness: 100.6659\n"
     ]
    },
    {
     "name": "stderr",
     "output_type": "stream",
     "text": [
      "Generations:  99%|█████████▉| 495/500 [2:22:37<01:26, 17.27s/it, Gen 496/500 - New Best Fitness: 100.6596]"
     ]
    },
    {
     "name": "stdout",
     "output_type": "stream",
     "text": [
      "Gen 496/500 - New Best Fitness: 100.6596\n"
     ]
    },
    {
     "name": "stderr",
     "output_type": "stream",
     "text": [
      "Generations: 100%|█████████▉| 499/500 [2:23:46<00:17, 17.29s/it, Gen 500/500 - New Best Fitness: 100.6396]"
     ]
    },
    {
     "name": "stdout",
     "output_type": "stream",
     "text": [
      "Gen 500/500 - New Best Fitness: 100.6396\n"
     ]
    },
    {
     "name": "stderr",
     "output_type": "stream",
     "text": [
      "Generations: 100%|██████████| 500/500 [2:24:03<00:00, 17.29s/it, Gen 500/500 - New Best Fitness: 100.6396]"
     ]
    },
    {
     "name": "stdout",
     "output_type": "stream",
     "text": [
      "\n",
      "GA Finished.\n",
      "Best overall fitness found: 100.6396\n",
      "\n",
      "Optimal Weight Matrix (Top 5x5):\n",
      "[[0.    0.042 0.    0.    0.   ]\n",
      " [0.11  0.072 0.    0.088 0.   ]\n",
      " [0.    0.    0.    0.    0.   ]\n",
      " [0.    0.    0.    0.    0.   ]\n",
      " [0.    0.    0.    0.    0.   ]]\n",
      "\n",
      "Optimal Preference Matrix (Top 5 rows):\n",
      "[[ 2  6  8  5  7]\n",
      " [ 5  0  6  4 13]\n",
      " [ 3  9  6  7  2]\n",
      " [ 6  7  4  2  5]\n",
      " [ 6 11  0  2  8]]\n"
     ]
    },
    {
     "name": "stderr",
     "output_type": "stream",
     "text": [
      "\n"
     ]
    }
   ],
   "source": [
    "optimal_weight_matrix, optimal_preference_matrix = run_genetic_algorithm()\n",
    "\n",
    "if optimal_weight_matrix is not None and optimal_preference_matrix is not None:\n",
    "    print(\"\\nOptimal Weight Matrix (Top 5x5):\")\n",
    "    print(np.round(optimal_weight_matrix[:5,:5], 3))\n",
    "    print(\"\\nOptimal Preference Matrix (Top 5 rows):\")\n",
    "    # Display corresponding producer IDs if available and useful\n",
    "    # pref_df = pd.DataFrame(optimal_preference_matrix, index=SUBSCRIBER_IDS[:optimal_preference_matrix.shape[0]])\n",
    "    # You might want to map indices back to actual producer IDs here if PRODUCER_IDS was stored\n",
    "    # Example: map_ids_func = np.vectorize(lambda x: PRODUCER_IDS[x] if 0 <= x < len(PRODUCER_IDS) else 'Invalid')\n",
    "    # mapped_prefs = map_ids_func(optimal_preference_matrix)\n",
    "    # print(pd.DataFrame(mapped_prefs[:5,:], index=SUBSCRIBER_IDS[:5]))\n",
    "    print(optimal_preference_matrix[:5,:]) # Print indices for now\n",
    "\n",
    "    # --- Optional: Save results ---\n",
    "    # np.save(\"optimal_weight_matrix.npy\", optimal_weight_matrix)\n",
    "    # np.save(\"optimal_preference_matrix.npy\", optimal_preference_matrix)\n",
    "    # print(\"\\nOptimal matrices saved to .npy files.\")\n",
    "\n",
    "    # You can also save to CSV\n",
    "    weight_df = pd.DataFrame(optimal_weight_matrix, columns=SUBSCRIBER_IDS, index=PRODUCER_IDS)\n",
    "    pref_df = pd.DataFrame(optimal_preference_matrix, index=SUBSCRIBER_IDS) # Columns are Rank 1..5\n",
    "    weight_df.to_csv(\"optimal_weight_matrix.csv\")\n",
    "    pref_df.to_csv(\"optimal_preference_matrix.csv\")\n",
    "    # print(\"Optimal matrices saved to .csv files.\")"
   ]
  },
  {
   "cell_type": "code",
   "execution_count": 91,
   "metadata": {},
   "outputs": [
    {
     "name": "stdout",
     "output_type": "stream",
     "text": [
      "\n",
      "Optimal Weight Matrix (Top 5x5):\n",
      "[[0.    0.042 0.    0.    0.    0.    0.    0.    0.    0.958 0.    0.\n",
      "  0.    0.   ]\n",
      " [0.11  0.072 0.    0.088 0.    0.097 0.034 0.    0.283 0.137 0.079 0.\n",
      "  0.042 0.058]\n",
      " [0.    0.    0.    0.    0.    0.    0.    0.    0.    0.    0.    0.\n",
      "  1.    0.   ]\n",
      " [0.    0.    0.    0.    0.    0.    0.    0.01  0.391 0.222 0.006 0.103\n",
      "  0.267 0.   ]\n",
      " [0.    0.    0.    0.    0.    0.    0.    1.    0.    0.    0.    0.\n",
      "  0.    0.   ]\n",
      " [0.    0.145 0.    0.    0.    0.    0.    0.78  0.    0.048 0.    0.027\n",
      "  0.    0.   ]\n",
      " [0.    0.    0.    0.    0.    0.    0.    0.068 0.    0.    0.154 0.015\n",
      "  0.762 0.001]\n",
      " [0.    0.    0.    0.    0.    0.    0.    0.    0.084 0.    0.001 0.\n",
      "  0.915 0.   ]\n",
      " [0.    0.    0.    0.084 0.    0.    0.    0.559 0.    0.075 0.    0.\n",
      "  0.114 0.168]\n",
      " [0.012 0.087 0.076 0.174 0.017 0.064 0.013 0.203 0.037 0.162 0.032 0.072\n",
      "  0.    0.051]\n",
      " [0.113 0.039 0.065 0.086 0.025 0.02  0.033 0.006 0.062 0.111 0.135 0.116\n",
      "  0.038 0.151]\n",
      " [0.07  0.01  0.098 0.1   0.124 0.001 0.096 0.179 0.049 0.022 0.03  0.099\n",
      "  0.08  0.039]\n",
      " [0.148 0.002 0.001 0.147 0.132 0.017 0.048 0.079 0.06  0.119 0.151 0.046\n",
      "  0.    0.05 ]\n",
      " [0.    0.    0.    0.    0.    0.    0.    0.017 0.    0.    0.    0.\n",
      "  0.983 0.   ]]\n",
      "\n",
      "Optimal Preference Matrix (Top 5 rows):\n",
      "[[ 2  6  8  5  7]\n",
      " [ 5  0  6  4 13]\n",
      " [ 3  9  6  7  2]\n",
      " [ 6  7  4  2  5]\n",
      " [ 6 11  0  2  8]\n",
      " [ 3  7  4  6  8]\n",
      " [ 8  0  7  4  5]\n",
      " [13  5  4  6  8]\n",
      " [ 1  7  2 13  3]\n",
      " [ 0  5  8  3  2]\n",
      " [ 0  3  8  7  6]\n",
      " [ 5  1  3  9  6]\n",
      " [ 3  6  2 13  7]\n",
      " [10  2  1  0 11]]\n"
     ]
    }
   ],
   "source": [
    "print(\"\\nOptimal Weight Matrix (Top 5x5):\")\n",
    "print(np.round(optimal_weight_matrix, 3))\n",
    "print(\"\\nOptimal Preference Matrix (Top 5 rows):\")\n",
    "# Display corresponding producer IDs if available and useful\n",
    "# pref_df = pd.DataFrame(optimal_preference_matrix, index=SUBSCRIBER_IDS[:optimal_preference_matrix.shape[0]])\n",
    "# You might want to map indices back to actual producer IDs here if PRODUCER_IDS was stored\n",
    "# Example: map_ids_func = np.vectorize(lambda x: PRODUCER_IDS[x] if 0 <= x < len(PRODUCER_IDS) else 'Invalid')\n",
    "# mapped_prefs = map_ids_func(optimal_preference_matrix)\n",
    "# print(pd.DataFrame(mapped_prefs[:5,:], index=SUBSCRIBER_IDS[:5]))\n",
    "print(optimal_preference_matrix)"
   ]
  },
  {
   "cell_type": "code",
   "execution_count": 93,
   "metadata": {},
   "outputs": [
    {
     "data": {
      "text/html": [
       "<div>\n",
       "<style scoped>\n",
       "    .dataframe tbody tr th:only-of-type {\n",
       "        vertical-align: middle;\n",
       "    }\n",
       "\n",
       "    .dataframe tbody tr th {\n",
       "        vertical-align: top;\n",
       "    }\n",
       "\n",
       "    .dataframe thead th {\n",
       "        text-align: right;\n",
       "    }\n",
       "</style>\n",
       "<table border=\"1\" class=\"dataframe\">\n",
       "  <thead>\n",
       "    <tr style=\"text-align: right;\">\n",
       "      <th></th>\n",
       "      <th>timestamp</th>\n",
       "      <th>zs_preislerova</th>\n",
       "      <th>zs_komenskeho</th>\n",
       "      <th>ms_preislerova</th>\n",
       "      <th>ms_pod_homolkou</th>\n",
       "      <th>ms_vrchlickeho</th>\n",
       "      <th>ms_drasarova</th>\n",
       "      <th>ms_na_machovne</th>\n",
       "      <th>zimni_stad</th>\n",
       "      <th>parkovaci_dum</th>\n",
       "      <th>radnice</th>\n",
       "      <th>ms_tovarni</th>\n",
       "      <th>dum_pro_duchodce</th>\n",
       "      <th>plavecky_areal</th>\n",
       "      <th>pristavba_preislerova</th>\n",
       "    </tr>\n",
       "  </thead>\n",
       "  <tbody>\n",
       "    <tr>\n",
       "      <th>17372</th>\n",
       "      <td>2023-07-01 00:00:00</td>\n",
       "      <td>0.0</td>\n",
       "      <td>0.0</td>\n",
       "      <td>0.0</td>\n",
       "      <td>0.0</td>\n",
       "      <td>0.0</td>\n",
       "      <td>0.000000</td>\n",
       "      <td>0.0</td>\n",
       "      <td>0.0</td>\n",
       "      <td>0.0</td>\n",
       "      <td>0</td>\n",
       "      <td>0</td>\n",
       "      <td>0</td>\n",
       "      <td>0</td>\n",
       "      <td>0.0</td>\n",
       "    </tr>\n",
       "    <tr>\n",
       "      <th>17373</th>\n",
       "      <td>2023-07-01 00:15:00</td>\n",
       "      <td>0.0</td>\n",
       "      <td>0.0</td>\n",
       "      <td>0.0</td>\n",
       "      <td>0.0</td>\n",
       "      <td>0.0</td>\n",
       "      <td>0.000000</td>\n",
       "      <td>0.0</td>\n",
       "      <td>0.0</td>\n",
       "      <td>0.0</td>\n",
       "      <td>0</td>\n",
       "      <td>0</td>\n",
       "      <td>0</td>\n",
       "      <td>0</td>\n",
       "      <td>0.0</td>\n",
       "    </tr>\n",
       "    <tr>\n",
       "      <th>17374</th>\n",
       "      <td>2023-07-01 00:30:00</td>\n",
       "      <td>0.0</td>\n",
       "      <td>0.0</td>\n",
       "      <td>0.0</td>\n",
       "      <td>0.0</td>\n",
       "      <td>0.0</td>\n",
       "      <td>0.000000</td>\n",
       "      <td>0.0</td>\n",
       "      <td>0.0</td>\n",
       "      <td>0.0</td>\n",
       "      <td>0</td>\n",
       "      <td>0</td>\n",
       "      <td>0</td>\n",
       "      <td>0</td>\n",
       "      <td>0.0</td>\n",
       "    </tr>\n",
       "    <tr>\n",
       "      <th>17375</th>\n",
       "      <td>2023-07-01 00:45:00</td>\n",
       "      <td>0.0</td>\n",
       "      <td>0.0</td>\n",
       "      <td>0.0</td>\n",
       "      <td>0.0</td>\n",
       "      <td>0.0</td>\n",
       "      <td>0.000000</td>\n",
       "      <td>0.0</td>\n",
       "      <td>0.0</td>\n",
       "      <td>0.0</td>\n",
       "      <td>0</td>\n",
       "      <td>0</td>\n",
       "      <td>0</td>\n",
       "      <td>0</td>\n",
       "      <td>0.0</td>\n",
       "    </tr>\n",
       "    <tr>\n",
       "      <th>17376</th>\n",
       "      <td>2023-07-01 01:00:00</td>\n",
       "      <td>0.0</td>\n",
       "      <td>0.0</td>\n",
       "      <td>0.0</td>\n",
       "      <td>0.0</td>\n",
       "      <td>0.0</td>\n",
       "      <td>0.000000</td>\n",
       "      <td>0.0</td>\n",
       "      <td>0.0</td>\n",
       "      <td>0.0</td>\n",
       "      <td>0</td>\n",
       "      <td>0</td>\n",
       "      <td>0</td>\n",
       "      <td>0</td>\n",
       "      <td>0.0</td>\n",
       "    </tr>\n",
       "    <tr>\n",
       "      <th>...</th>\n",
       "      <td>...</td>\n",
       "      <td>...</td>\n",
       "      <td>...</td>\n",
       "      <td>...</td>\n",
       "      <td>...</td>\n",
       "      <td>...</td>\n",
       "      <td>...</td>\n",
       "      <td>...</td>\n",
       "      <td>...</td>\n",
       "      <td>...</td>\n",
       "      <td>...</td>\n",
       "      <td>...</td>\n",
       "      <td>...</td>\n",
       "      <td>...</td>\n",
       "      <td>...</td>\n",
       "    </tr>\n",
       "    <tr>\n",
       "      <th>20343</th>\n",
       "      <td>2023-07-31 22:45:00</td>\n",
       "      <td>0.0</td>\n",
       "      <td>0.0</td>\n",
       "      <td>0.0</td>\n",
       "      <td>0.0</td>\n",
       "      <td>0.0</td>\n",
       "      <td>0.000000</td>\n",
       "      <td>0.0</td>\n",
       "      <td>0.0</td>\n",
       "      <td>0.0</td>\n",
       "      <td>0</td>\n",
       "      <td>0</td>\n",
       "      <td>0</td>\n",
       "      <td>0</td>\n",
       "      <td>0.0</td>\n",
       "    </tr>\n",
       "    <tr>\n",
       "      <th>20344</th>\n",
       "      <td>2023-07-31 23:00:00</td>\n",
       "      <td>0.0</td>\n",
       "      <td>0.0</td>\n",
       "      <td>0.0</td>\n",
       "      <td>0.0</td>\n",
       "      <td>0.0</td>\n",
       "      <td>0.000000</td>\n",
       "      <td>0.0</td>\n",
       "      <td>0.0</td>\n",
       "      <td>0.0</td>\n",
       "      <td>0</td>\n",
       "      <td>0</td>\n",
       "      <td>0</td>\n",
       "      <td>0</td>\n",
       "      <td>0.0</td>\n",
       "    </tr>\n",
       "    <tr>\n",
       "      <th>20345</th>\n",
       "      <td>2023-07-31 23:15:00</td>\n",
       "      <td>0.0</td>\n",
       "      <td>0.0</td>\n",
       "      <td>0.0</td>\n",
       "      <td>0.0</td>\n",
       "      <td>0.0</td>\n",
       "      <td>0.000007</td>\n",
       "      <td>0.0</td>\n",
       "      <td>0.0</td>\n",
       "      <td>0.0</td>\n",
       "      <td>0</td>\n",
       "      <td>0</td>\n",
       "      <td>0</td>\n",
       "      <td>0</td>\n",
       "      <td>0.0</td>\n",
       "    </tr>\n",
       "    <tr>\n",
       "      <th>20346</th>\n",
       "      <td>2023-07-31 23:30:00</td>\n",
       "      <td>0.0</td>\n",
       "      <td>0.0</td>\n",
       "      <td>0.0</td>\n",
       "      <td>0.0</td>\n",
       "      <td>0.0</td>\n",
       "      <td>0.000014</td>\n",
       "      <td>0.0</td>\n",
       "      <td>0.0</td>\n",
       "      <td>0.0</td>\n",
       "      <td>0</td>\n",
       "      <td>0</td>\n",
       "      <td>0</td>\n",
       "      <td>0</td>\n",
       "      <td>0.0</td>\n",
       "    </tr>\n",
       "    <tr>\n",
       "      <th>20347</th>\n",
       "      <td>2023-07-31 23:45:00</td>\n",
       "      <td>0.0</td>\n",
       "      <td>0.0</td>\n",
       "      <td>0.0</td>\n",
       "      <td>0.0</td>\n",
       "      <td>0.0</td>\n",
       "      <td>0.000000</td>\n",
       "      <td>0.0</td>\n",
       "      <td>0.0</td>\n",
       "      <td>0.0</td>\n",
       "      <td>0</td>\n",
       "      <td>0</td>\n",
       "      <td>0</td>\n",
       "      <td>0</td>\n",
       "      <td>0.0</td>\n",
       "    </tr>\n",
       "  </tbody>\n",
       "</table>\n",
       "<p>2976 rows × 15 columns</p>\n",
       "</div>"
      ],
      "text/plain": [
       "                timestamp  zs_preislerova  zs_komenskeho  ms_preislerova  \\\n",
       "17372 2023-07-01 00:00:00             0.0            0.0             0.0   \n",
       "17373 2023-07-01 00:15:00             0.0            0.0             0.0   \n",
       "17374 2023-07-01 00:30:00             0.0            0.0             0.0   \n",
       "17375 2023-07-01 00:45:00             0.0            0.0             0.0   \n",
       "17376 2023-07-01 01:00:00             0.0            0.0             0.0   \n",
       "...                   ...             ...            ...             ...   \n",
       "20343 2023-07-31 22:45:00             0.0            0.0             0.0   \n",
       "20344 2023-07-31 23:00:00             0.0            0.0             0.0   \n",
       "20345 2023-07-31 23:15:00             0.0            0.0             0.0   \n",
       "20346 2023-07-31 23:30:00             0.0            0.0             0.0   \n",
       "20347 2023-07-31 23:45:00             0.0            0.0             0.0   \n",
       "\n",
       "       ms_pod_homolkou  ms_vrchlickeho  ms_drasarova  ms_na_machovne  \\\n",
       "17372              0.0             0.0      0.000000             0.0   \n",
       "17373              0.0             0.0      0.000000             0.0   \n",
       "17374              0.0             0.0      0.000000             0.0   \n",
       "17375              0.0             0.0      0.000000             0.0   \n",
       "17376              0.0             0.0      0.000000             0.0   \n",
       "...                ...             ...           ...             ...   \n",
       "20343              0.0             0.0      0.000000             0.0   \n",
       "20344              0.0             0.0      0.000000             0.0   \n",
       "20345              0.0             0.0      0.000007             0.0   \n",
       "20346              0.0             0.0      0.000014             0.0   \n",
       "20347              0.0             0.0      0.000000             0.0   \n",
       "\n",
       "       zimni_stad  parkovaci_dum  radnice  ms_tovarni  dum_pro_duchodce  \\\n",
       "17372         0.0            0.0        0           0                 0   \n",
       "17373         0.0            0.0        0           0                 0   \n",
       "17374         0.0            0.0        0           0                 0   \n",
       "17375         0.0            0.0        0           0                 0   \n",
       "17376         0.0            0.0        0           0                 0   \n",
       "...           ...            ...      ...         ...               ...   \n",
       "20343         0.0            0.0        0           0                 0   \n",
       "20344         0.0            0.0        0           0                 0   \n",
       "20345         0.0            0.0        0           0                 0   \n",
       "20346         0.0            0.0        0           0                 0   \n",
       "20347         0.0            0.0        0           0                 0   \n",
       "\n",
       "       plavecky_areal  pristavba_preislerova  \n",
       "17372               0                    0.0  \n",
       "17373               0                    0.0  \n",
       "17374               0                    0.0  \n",
       "17375               0                    0.0  \n",
       "17376               0                    0.0  \n",
       "...               ...                    ...  \n",
       "20343               0                    0.0  \n",
       "20344               0                    0.0  \n",
       "20345               0                    0.0  \n",
       "20346               0                    0.0  \n",
       "20347               0                    0.0  \n",
       "\n",
       "[2976 rows x 15 columns]"
      ]
     },
     "execution_count": 93,
     "metadata": {},
     "output_type": "execute_result"
    }
   ],
   "source": [
    "excess_df"
   ]
  },
  {
   "cell_type": "code",
   "execution_count": 92,
   "metadata": {},
   "outputs": [
    {
     "ename": "InvalidIndexError",
     "evalue": "(0, slice(None, None, None))",
     "output_type": "error",
     "traceback": [
      "\u001b[0;31m---------------------------------------------------------------------------\u001b[0m",
      "\u001b[0;31mKeyError\u001b[0m                                  Traceback (most recent call last)",
      "File \u001b[0;32m~/Bachelor/BT/.venv/lib/python3.12/site-packages/pandas/core/indexes/base.py:3805\u001b[0m, in \u001b[0;36mIndex.get_loc\u001b[0;34m(self, key)\u001b[0m\n\u001b[1;32m   3804\u001b[0m \u001b[38;5;28;01mtry\u001b[39;00m:\n\u001b[0;32m-> 3805\u001b[0m     \u001b[38;5;28;01mreturn\u001b[39;00m \u001b[38;5;28;43mself\u001b[39;49m\u001b[38;5;241;43m.\u001b[39;49m\u001b[43m_engine\u001b[49m\u001b[38;5;241;43m.\u001b[39;49m\u001b[43mget_loc\u001b[49m\u001b[43m(\u001b[49m\u001b[43mcasted_key\u001b[49m\u001b[43m)\u001b[49m\n\u001b[1;32m   3806\u001b[0m \u001b[38;5;28;01mexcept\u001b[39;00m \u001b[38;5;167;01mKeyError\u001b[39;00m \u001b[38;5;28;01mas\u001b[39;00m err:\n",
      "File \u001b[0;32mindex.pyx:167\u001b[0m, in \u001b[0;36mpandas._libs.index.IndexEngine.get_loc\u001b[0;34m()\u001b[0m\n",
      "File \u001b[0;32mindex.pyx:196\u001b[0m, in \u001b[0;36mpandas._libs.index.IndexEngine.get_loc\u001b[0;34m()\u001b[0m\n",
      "File \u001b[0;32mpandas/_libs/hashtable_class_helper.pxi:7081\u001b[0m, in \u001b[0;36mpandas._libs.hashtable.PyObjectHashTable.get_item\u001b[0;34m()\u001b[0m\n",
      "File \u001b[0;32mpandas/_libs/hashtable_class_helper.pxi:7089\u001b[0m, in \u001b[0;36mpandas._libs.hashtable.PyObjectHashTable.get_item\u001b[0;34m()\u001b[0m\n",
      "\u001b[0;31mKeyError\u001b[0m: (0, slice(None, None, None))",
      "\nDuring handling of the above exception, another exception occurred:\n",
      "\u001b[0;31mInvalidIndexError\u001b[0m                         Traceback (most recent call last)",
      "Cell \u001b[0;32mIn[92], line 1\u001b[0m\n\u001b[0;32m----> 1\u001b[0m \u001b[43mfitness\u001b[49m\u001b[43m(\u001b[49m\u001b[43moptimal_weight_matrix\u001b[49m\u001b[43m,\u001b[49m\u001b[43m \u001b[49m\u001b[43moptimal_preference_matrix\u001b[49m\u001b[43m,\u001b[49m\u001b[43m \u001b[49m\u001b[43mexcess_df\u001b[49m\u001b[43m,\u001b[49m\u001b[43m \u001b[49m\u001b[43mdeficit_df\u001b[49m\u001b[43m)\u001b[49m\n",
      "Cell \u001b[0;32mIn[82], line 47\u001b[0m, in \u001b[0;36mfitness\u001b[0;34m(weight_matrix, preference_matrix, producer_energy_data, subscriber_demand_data)\u001b[0m\n\u001b[1;32m     43\u001b[0m      \u001b[38;5;28;01mraise\u001b[39;00m \u001b[38;5;167;01mValueError\u001b[39;00m(\u001b[38;5;124mf\u001b[39m\u001b[38;5;124m\"\u001b[39m\u001b[38;5;124mWeight matrix shape mismatch. Expected (\u001b[39m\u001b[38;5;132;01m{\u001b[39;00mnum_producers\u001b[38;5;132;01m}\u001b[39;00m\u001b[38;5;124m, \u001b[39m\u001b[38;5;132;01m{\u001b[39;00mnum_subscribers\u001b[38;5;132;01m}\u001b[39;00m\u001b[38;5;124m), Got \u001b[39m\u001b[38;5;132;01m{\u001b[39;00mweight_matrix\u001b[38;5;241m.\u001b[39mshape\u001b[38;5;132;01m}\u001b[39;00m\u001b[38;5;124m\"\u001b[39m)\n\u001b[1;32m     46\u001b[0m \u001b[38;5;28;01mfor\u001b[39;00m t \u001b[38;5;129;01min\u001b[39;00m \u001b[38;5;28mrange\u001b[39m(num_timesteps):\n\u001b[0;32m---> 47\u001b[0m     available_producer_energy \u001b[38;5;241m=\u001b[39m \u001b[43mproducer_energy_data\u001b[49m\u001b[43m[\u001b[49m\u001b[43mt\u001b[49m\u001b[43m,\u001b[49m\u001b[43m \u001b[49m\u001b[43m:\u001b[49m\u001b[43m]\u001b[49m\u001b[38;5;241m.\u001b[39mcopy()\n\u001b[1;32m     48\u001b[0m     remaining_subscriber_demand \u001b[38;5;241m=\u001b[39m subscriber_demand_data[t, :]\u001b[38;5;241m.\u001b[39mcopy()\n\u001b[1;32m     49\u001b[0m     \u001b[38;5;66;03m# Ensure non-negative values after potential floating point inaccuracies\u001b[39;00m\n",
      "File \u001b[0;32m~/Bachelor/BT/.venv/lib/python3.12/site-packages/pandas/core/frame.py:4102\u001b[0m, in \u001b[0;36mDataFrame.__getitem__\u001b[0;34m(self, key)\u001b[0m\n\u001b[1;32m   4100\u001b[0m \u001b[38;5;28;01mif\u001b[39;00m \u001b[38;5;28mself\u001b[39m\u001b[38;5;241m.\u001b[39mcolumns\u001b[38;5;241m.\u001b[39mnlevels \u001b[38;5;241m>\u001b[39m \u001b[38;5;241m1\u001b[39m:\n\u001b[1;32m   4101\u001b[0m     \u001b[38;5;28;01mreturn\u001b[39;00m \u001b[38;5;28mself\u001b[39m\u001b[38;5;241m.\u001b[39m_getitem_multilevel(key)\n\u001b[0;32m-> 4102\u001b[0m indexer \u001b[38;5;241m=\u001b[39m \u001b[38;5;28;43mself\u001b[39;49m\u001b[38;5;241;43m.\u001b[39;49m\u001b[43mcolumns\u001b[49m\u001b[38;5;241;43m.\u001b[39;49m\u001b[43mget_loc\u001b[49m\u001b[43m(\u001b[49m\u001b[43mkey\u001b[49m\u001b[43m)\u001b[49m\n\u001b[1;32m   4103\u001b[0m \u001b[38;5;28;01mif\u001b[39;00m is_integer(indexer):\n\u001b[1;32m   4104\u001b[0m     indexer \u001b[38;5;241m=\u001b[39m [indexer]\n",
      "File \u001b[0;32m~/Bachelor/BT/.venv/lib/python3.12/site-packages/pandas/core/indexes/base.py:3811\u001b[0m, in \u001b[0;36mIndex.get_loc\u001b[0;34m(self, key)\u001b[0m\n\u001b[1;32m   3806\u001b[0m \u001b[38;5;28;01mexcept\u001b[39;00m \u001b[38;5;167;01mKeyError\u001b[39;00m \u001b[38;5;28;01mas\u001b[39;00m err:\n\u001b[1;32m   3807\u001b[0m     \u001b[38;5;28;01mif\u001b[39;00m \u001b[38;5;28misinstance\u001b[39m(casted_key, \u001b[38;5;28mslice\u001b[39m) \u001b[38;5;129;01mor\u001b[39;00m (\n\u001b[1;32m   3808\u001b[0m         \u001b[38;5;28misinstance\u001b[39m(casted_key, abc\u001b[38;5;241m.\u001b[39mIterable)\n\u001b[1;32m   3809\u001b[0m         \u001b[38;5;129;01mand\u001b[39;00m \u001b[38;5;28many\u001b[39m(\u001b[38;5;28misinstance\u001b[39m(x, \u001b[38;5;28mslice\u001b[39m) \u001b[38;5;28;01mfor\u001b[39;00m x \u001b[38;5;129;01min\u001b[39;00m casted_key)\n\u001b[1;32m   3810\u001b[0m     ):\n\u001b[0;32m-> 3811\u001b[0m         \u001b[38;5;28;01mraise\u001b[39;00m InvalidIndexError(key)\n\u001b[1;32m   3812\u001b[0m     \u001b[38;5;28;01mraise\u001b[39;00m \u001b[38;5;167;01mKeyError\u001b[39;00m(key) \u001b[38;5;28;01mfrom\u001b[39;00m \u001b[38;5;21;01merr\u001b[39;00m\n\u001b[1;32m   3813\u001b[0m \u001b[38;5;28;01mexcept\u001b[39;00m \u001b[38;5;167;01mTypeError\u001b[39;00m:\n\u001b[1;32m   3814\u001b[0m     \u001b[38;5;66;03m# If we have a listlike key, _check_indexing_error will raise\u001b[39;00m\n\u001b[1;32m   3815\u001b[0m     \u001b[38;5;66;03m#  InvalidIndexError. Otherwise we fall through and re-raise\u001b[39;00m\n\u001b[1;32m   3816\u001b[0m     \u001b[38;5;66;03m#  the TypeError.\u001b[39;00m\n",
      "\u001b[0;31mInvalidIndexError\u001b[0m: (0, slice(None, None, None))"
     ]
    }
   ],
   "source": [
    "fitness(optimal_weight_matrix, optimal_preference_matrix, excess_df, deficit_df)"
   ]
  },
  {
   "cell_type": "code",
   "execution_count": 84,
   "metadata": {},
   "outputs": [
    {
     "data": {
      "text/html": [
       "<div>\n",
       "<style scoped>\n",
       "    .dataframe tbody tr th:only-of-type {\n",
       "        vertical-align: middle;\n",
       "    }\n",
       "\n",
       "    .dataframe tbody tr th {\n",
       "        vertical-align: top;\n",
       "    }\n",
       "\n",
       "    .dataframe thead th {\n",
       "        text-align: right;\n",
       "    }\n",
       "</style>\n",
       "<table border=\"1\" class=\"dataframe\">\n",
       "  <thead>\n",
       "    <tr style=\"text-align: right;\">\n",
       "      <th></th>\n",
       "      <th>zs_preislerova</th>\n",
       "      <th>zs_komenskeho</th>\n",
       "      <th>ms_preislerova</th>\n",
       "      <th>ms_pod_homolkou</th>\n",
       "      <th>ms_vrchlickeho</th>\n",
       "      <th>ms_drasarova</th>\n",
       "      <th>ms_na_machovne</th>\n",
       "      <th>zimni_stad</th>\n",
       "      <th>parkovaci_dum</th>\n",
       "      <th>radnice</th>\n",
       "      <th>ms_tovarni</th>\n",
       "      <th>dum_pro_duchodce</th>\n",
       "      <th>plavecky_areal</th>\n",
       "      <th>pristavba_preislerova</th>\n",
       "    </tr>\n",
       "  </thead>\n",
       "  <tbody>\n",
       "    <tr>\n",
       "      <th>17372</th>\n",
       "      <td>0.000785</td>\n",
       "      <td>0.002508</td>\n",
       "      <td>0.000443</td>\n",
       "      <td>0.001529</td>\n",
       "      <td>0.000061</td>\n",
       "      <td>0.000159</td>\n",
       "      <td>0.0</td>\n",
       "      <td>0.000717</td>\n",
       "      <td>0.002726</td>\n",
       "      <td>0.000356</td>\n",
       "      <td>0.000651</td>\n",
       "      <td>0.000058</td>\n",
       "      <td>0.022678</td>\n",
       "      <td>0.0</td>\n",
       "    </tr>\n",
       "    <tr>\n",
       "      <th>17373</th>\n",
       "      <td>0.000981</td>\n",
       "      <td>0.002502</td>\n",
       "      <td>0.000267</td>\n",
       "      <td>0.000911</td>\n",
       "      <td>0.000136</td>\n",
       "      <td>0.000153</td>\n",
       "      <td>0.0</td>\n",
       "      <td>0.000730</td>\n",
       "      <td>0.002411</td>\n",
       "      <td>0.000416</td>\n",
       "      <td>0.000560</td>\n",
       "      <td>0.000045</td>\n",
       "      <td>0.023199</td>\n",
       "      <td>0.0</td>\n",
       "    </tr>\n",
       "    <tr>\n",
       "      <th>17374</th>\n",
       "      <td>0.000785</td>\n",
       "      <td>0.001828</td>\n",
       "      <td>0.000596</td>\n",
       "      <td>0.000359</td>\n",
       "      <td>0.000090</td>\n",
       "      <td>0.000171</td>\n",
       "      <td>0.0</td>\n",
       "      <td>0.000704</td>\n",
       "      <td>0.002586</td>\n",
       "      <td>0.000475</td>\n",
       "      <td>0.000609</td>\n",
       "      <td>0.000070</td>\n",
       "      <td>0.022930</td>\n",
       "      <td>0.0</td>\n",
       "    </tr>\n",
       "    <tr>\n",
       "      <th>17375</th>\n",
       "      <td>0.000867</td>\n",
       "      <td>0.001620</td>\n",
       "      <td>0.000333</td>\n",
       "      <td>0.000702</td>\n",
       "      <td>0.000085</td>\n",
       "      <td>0.000105</td>\n",
       "      <td>0.0</td>\n",
       "      <td>0.000776</td>\n",
       "      <td>0.002557</td>\n",
       "      <td>0.001307</td>\n",
       "      <td>0.000579</td>\n",
       "      <td>0.000064</td>\n",
       "      <td>0.020433</td>\n",
       "      <td>0.0</td>\n",
       "    </tr>\n",
       "    <tr>\n",
       "      <th>17376</th>\n",
       "      <td>0.000785</td>\n",
       "      <td>0.002166</td>\n",
       "      <td>0.000364</td>\n",
       "      <td>0.000664</td>\n",
       "      <td>0.000021</td>\n",
       "      <td>0.000006</td>\n",
       "      <td>0.0</td>\n",
       "      <td>0.001080</td>\n",
       "      <td>0.002762</td>\n",
       "      <td>0.000713</td>\n",
       "      <td>0.000231</td>\n",
       "      <td>0.000042</td>\n",
       "      <td>0.022689</td>\n",
       "      <td>0.0</td>\n",
       "    </tr>\n",
       "    <tr>\n",
       "      <th>...</th>\n",
       "      <td>...</td>\n",
       "      <td>...</td>\n",
       "      <td>...</td>\n",
       "      <td>...</td>\n",
       "      <td>...</td>\n",
       "      <td>...</td>\n",
       "      <td>...</td>\n",
       "      <td>...</td>\n",
       "      <td>...</td>\n",
       "      <td>...</td>\n",
       "      <td>...</td>\n",
       "      <td>...</td>\n",
       "      <td>...</td>\n",
       "      <td>...</td>\n",
       "    </tr>\n",
       "    <tr>\n",
       "      <th>20343</th>\n",
       "      <td>0.000589</td>\n",
       "      <td>0.001595</td>\n",
       "      <td>0.000366</td>\n",
       "      <td>0.000115</td>\n",
       "      <td>0.000056</td>\n",
       "      <td>0.000106</td>\n",
       "      <td>0.0</td>\n",
       "      <td>0.002367</td>\n",
       "      <td>0.005488</td>\n",
       "      <td>0.000000</td>\n",
       "      <td>0.000216</td>\n",
       "      <td>0.000114</td>\n",
       "      <td>0.027565</td>\n",
       "      <td>0.0</td>\n",
       "    </tr>\n",
       "    <tr>\n",
       "      <th>20344</th>\n",
       "      <td>0.000670</td>\n",
       "      <td>0.002167</td>\n",
       "      <td>0.000243</td>\n",
       "      <td>0.000267</td>\n",
       "      <td>0.000022</td>\n",
       "      <td>0.000008</td>\n",
       "      <td>0.0</td>\n",
       "      <td>0.002286</td>\n",
       "      <td>0.006280</td>\n",
       "      <td>0.000000</td>\n",
       "      <td>0.000206</td>\n",
       "      <td>0.000088</td>\n",
       "      <td>0.024151</td>\n",
       "      <td>0.0</td>\n",
       "    </tr>\n",
       "    <tr>\n",
       "      <th>20345</th>\n",
       "      <td>0.000393</td>\n",
       "      <td>0.001719</td>\n",
       "      <td>0.000261</td>\n",
       "      <td>0.000413</td>\n",
       "      <td>0.000040</td>\n",
       "      <td>0.000000</td>\n",
       "      <td>0.0</td>\n",
       "      <td>0.002352</td>\n",
       "      <td>0.004810</td>\n",
       "      <td>0.000000</td>\n",
       "      <td>0.000181</td>\n",
       "      <td>0.000095</td>\n",
       "      <td>0.028021</td>\n",
       "      <td>0.0</td>\n",
       "    </tr>\n",
       "    <tr>\n",
       "      <th>20346</th>\n",
       "      <td>0.000589</td>\n",
       "      <td>0.001870</td>\n",
       "      <td>0.000336</td>\n",
       "      <td>0.000282</td>\n",
       "      <td>0.000054</td>\n",
       "      <td>0.000000</td>\n",
       "      <td>0.0</td>\n",
       "      <td>0.002341</td>\n",
       "      <td>0.005994</td>\n",
       "      <td>0.000535</td>\n",
       "      <td>0.000194</td>\n",
       "      <td>0.000084</td>\n",
       "      <td>0.024175</td>\n",
       "      <td>0.0</td>\n",
       "    </tr>\n",
       "    <tr>\n",
       "      <th>20347</th>\n",
       "      <td>0.000474</td>\n",
       "      <td>0.002158</td>\n",
       "      <td>0.000263</td>\n",
       "      <td>0.000331</td>\n",
       "      <td>0.000056</td>\n",
       "      <td>0.000061</td>\n",
       "      <td>0.0</td>\n",
       "      <td>0.002367</td>\n",
       "      <td>0.005818</td>\n",
       "      <td>0.000713</td>\n",
       "      <td>0.000213</td>\n",
       "      <td>0.000075</td>\n",
       "      <td>0.026791</td>\n",
       "      <td>0.0</td>\n",
       "    </tr>\n",
       "  </tbody>\n",
       "</table>\n",
       "<p>2976 rows × 14 columns</p>\n",
       "</div>"
      ],
      "text/plain": [
       "       zs_preislerova  zs_komenskeho  ms_preislerova  ms_pod_homolkou  \\\n",
       "17372        0.000785       0.002508        0.000443         0.001529   \n",
       "17373        0.000981       0.002502        0.000267         0.000911   \n",
       "17374        0.000785       0.001828        0.000596         0.000359   \n",
       "17375        0.000867       0.001620        0.000333         0.000702   \n",
       "17376        0.000785       0.002166        0.000364         0.000664   \n",
       "...               ...            ...             ...              ...   \n",
       "20343        0.000589       0.001595        0.000366         0.000115   \n",
       "20344        0.000670       0.002167        0.000243         0.000267   \n",
       "20345        0.000393       0.001719        0.000261         0.000413   \n",
       "20346        0.000589       0.001870        0.000336         0.000282   \n",
       "20347        0.000474       0.002158        0.000263         0.000331   \n",
       "\n",
       "       ms_vrchlickeho  ms_drasarova  ms_na_machovne  zimni_stad  \\\n",
       "17372        0.000061      0.000159             0.0    0.000717   \n",
       "17373        0.000136      0.000153             0.0    0.000730   \n",
       "17374        0.000090      0.000171             0.0    0.000704   \n",
       "17375        0.000085      0.000105             0.0    0.000776   \n",
       "17376        0.000021      0.000006             0.0    0.001080   \n",
       "...               ...           ...             ...         ...   \n",
       "20343        0.000056      0.000106             0.0    0.002367   \n",
       "20344        0.000022      0.000008             0.0    0.002286   \n",
       "20345        0.000040      0.000000             0.0    0.002352   \n",
       "20346        0.000054      0.000000             0.0    0.002341   \n",
       "20347        0.000056      0.000061             0.0    0.002367   \n",
       "\n",
       "       parkovaci_dum   radnice  ms_tovarni  dum_pro_duchodce  plavecky_areal  \\\n",
       "17372       0.002726  0.000356    0.000651          0.000058        0.022678   \n",
       "17373       0.002411  0.000416    0.000560          0.000045        0.023199   \n",
       "17374       0.002586  0.000475    0.000609          0.000070        0.022930   \n",
       "17375       0.002557  0.001307    0.000579          0.000064        0.020433   \n",
       "17376       0.002762  0.000713    0.000231          0.000042        0.022689   \n",
       "...              ...       ...         ...               ...             ...   \n",
       "20343       0.005488  0.000000    0.000216          0.000114        0.027565   \n",
       "20344       0.006280  0.000000    0.000206          0.000088        0.024151   \n",
       "20345       0.004810  0.000000    0.000181          0.000095        0.028021   \n",
       "20346       0.005994  0.000535    0.000194          0.000084        0.024175   \n",
       "20347       0.005818  0.000713    0.000213          0.000075        0.026791   \n",
       "\n",
       "       pristavba_preislerova  \n",
       "17372                    0.0  \n",
       "17373                    0.0  \n",
       "17374                    0.0  \n",
       "17375                    0.0  \n",
       "17376                    0.0  \n",
       "...                      ...  \n",
       "20343                    0.0  \n",
       "20344                    0.0  \n",
       "20345                    0.0  \n",
       "20346                    0.0  \n",
       "20347                    0.0  \n",
       "\n",
       "[2976 rows x 14 columns]"
      ]
     },
     "execution_count": 84,
     "metadata": {},
     "output_type": "execute_result"
    }
   ],
   "source": [
    "deficit_df"
   ]
  },
  {
   "cell_type": "code",
   "execution_count": 85,
   "metadata": {},
   "outputs": [],
   "source": [
    "deficit_df = deficit_monthly[month]\n",
    "excess_df = excess_monthly[month]\n",
    "\n"
   ]
  },
  {
   "cell_type": "code",
   "execution_count": 86,
   "metadata": {},
   "outputs": [
    {
     "data": {
      "text/html": [
       "<div>\n",
       "<style scoped>\n",
       "    .dataframe tbody tr th:only-of-type {\n",
       "        vertical-align: middle;\n",
       "    }\n",
       "\n",
       "    .dataframe tbody tr th {\n",
       "        vertical-align: top;\n",
       "    }\n",
       "\n",
       "    .dataframe thead th {\n",
       "        text-align: right;\n",
       "    }\n",
       "</style>\n",
       "<table border=\"1\" class=\"dataframe\">\n",
       "  <thead>\n",
       "    <tr style=\"text-align: right;\">\n",
       "      <th></th>\n",
       "      <th>zs_preislerova</th>\n",
       "      <th>zs_komenskeho</th>\n",
       "      <th>ms_preislerova</th>\n",
       "      <th>ms_pod_homolkou</th>\n",
       "      <th>ms_vrchlickeho</th>\n",
       "      <th>ms_drasarova</th>\n",
       "      <th>ms_na_machovne</th>\n",
       "      <th>zimni_stad</th>\n",
       "      <th>parkovaci_dum</th>\n",
       "      <th>radnice</th>\n",
       "      <th>ms_tovarni</th>\n",
       "      <th>dum_pro_duchodce</th>\n",
       "      <th>plavecky_areal</th>\n",
       "      <th>pristavba_preislerova</th>\n",
       "    </tr>\n",
       "  </thead>\n",
       "  <tbody>\n",
       "    <tr>\n",
       "      <th>17372</th>\n",
       "      <td>0.000785</td>\n",
       "      <td>0.002508</td>\n",
       "      <td>0.000443</td>\n",
       "      <td>0.001529</td>\n",
       "      <td>0.000061</td>\n",
       "      <td>0.000159</td>\n",
       "      <td>0.0</td>\n",
       "      <td>0.000717</td>\n",
       "      <td>0.002726</td>\n",
       "      <td>0.000356</td>\n",
       "      <td>0.000651</td>\n",
       "      <td>0.000058</td>\n",
       "      <td>0.022678</td>\n",
       "      <td>0.0</td>\n",
       "    </tr>\n",
       "    <tr>\n",
       "      <th>17373</th>\n",
       "      <td>0.000981</td>\n",
       "      <td>0.002502</td>\n",
       "      <td>0.000267</td>\n",
       "      <td>0.000911</td>\n",
       "      <td>0.000136</td>\n",
       "      <td>0.000153</td>\n",
       "      <td>0.0</td>\n",
       "      <td>0.000730</td>\n",
       "      <td>0.002411</td>\n",
       "      <td>0.000416</td>\n",
       "      <td>0.000560</td>\n",
       "      <td>0.000045</td>\n",
       "      <td>0.023199</td>\n",
       "      <td>0.0</td>\n",
       "    </tr>\n",
       "    <tr>\n",
       "      <th>17374</th>\n",
       "      <td>0.000785</td>\n",
       "      <td>0.001828</td>\n",
       "      <td>0.000596</td>\n",
       "      <td>0.000359</td>\n",
       "      <td>0.000090</td>\n",
       "      <td>0.000171</td>\n",
       "      <td>0.0</td>\n",
       "      <td>0.000704</td>\n",
       "      <td>0.002586</td>\n",
       "      <td>0.000475</td>\n",
       "      <td>0.000609</td>\n",
       "      <td>0.000070</td>\n",
       "      <td>0.022930</td>\n",
       "      <td>0.0</td>\n",
       "    </tr>\n",
       "    <tr>\n",
       "      <th>17375</th>\n",
       "      <td>0.000867</td>\n",
       "      <td>0.001620</td>\n",
       "      <td>0.000333</td>\n",
       "      <td>0.000702</td>\n",
       "      <td>0.000085</td>\n",
       "      <td>0.000105</td>\n",
       "      <td>0.0</td>\n",
       "      <td>0.000776</td>\n",
       "      <td>0.002557</td>\n",
       "      <td>0.001307</td>\n",
       "      <td>0.000579</td>\n",
       "      <td>0.000064</td>\n",
       "      <td>0.020433</td>\n",
       "      <td>0.0</td>\n",
       "    </tr>\n",
       "    <tr>\n",
       "      <th>17376</th>\n",
       "      <td>0.000785</td>\n",
       "      <td>0.002166</td>\n",
       "      <td>0.000364</td>\n",
       "      <td>0.000664</td>\n",
       "      <td>0.000021</td>\n",
       "      <td>0.000006</td>\n",
       "      <td>0.0</td>\n",
       "      <td>0.001080</td>\n",
       "      <td>0.002762</td>\n",
       "      <td>0.000713</td>\n",
       "      <td>0.000231</td>\n",
       "      <td>0.000042</td>\n",
       "      <td>0.022689</td>\n",
       "      <td>0.0</td>\n",
       "    </tr>\n",
       "    <tr>\n",
       "      <th>...</th>\n",
       "      <td>...</td>\n",
       "      <td>...</td>\n",
       "      <td>...</td>\n",
       "      <td>...</td>\n",
       "      <td>...</td>\n",
       "      <td>...</td>\n",
       "      <td>...</td>\n",
       "      <td>...</td>\n",
       "      <td>...</td>\n",
       "      <td>...</td>\n",
       "      <td>...</td>\n",
       "      <td>...</td>\n",
       "      <td>...</td>\n",
       "      <td>...</td>\n",
       "    </tr>\n",
       "    <tr>\n",
       "      <th>20343</th>\n",
       "      <td>0.000589</td>\n",
       "      <td>0.001595</td>\n",
       "      <td>0.000366</td>\n",
       "      <td>0.000115</td>\n",
       "      <td>0.000056</td>\n",
       "      <td>0.000106</td>\n",
       "      <td>0.0</td>\n",
       "      <td>0.002367</td>\n",
       "      <td>0.005488</td>\n",
       "      <td>0.000000</td>\n",
       "      <td>0.000216</td>\n",
       "      <td>0.000114</td>\n",
       "      <td>0.027565</td>\n",
       "      <td>0.0</td>\n",
       "    </tr>\n",
       "    <tr>\n",
       "      <th>20344</th>\n",
       "      <td>0.000670</td>\n",
       "      <td>0.002167</td>\n",
       "      <td>0.000243</td>\n",
       "      <td>0.000267</td>\n",
       "      <td>0.000022</td>\n",
       "      <td>0.000008</td>\n",
       "      <td>0.0</td>\n",
       "      <td>0.002286</td>\n",
       "      <td>0.006280</td>\n",
       "      <td>0.000000</td>\n",
       "      <td>0.000206</td>\n",
       "      <td>0.000088</td>\n",
       "      <td>0.024151</td>\n",
       "      <td>0.0</td>\n",
       "    </tr>\n",
       "    <tr>\n",
       "      <th>20345</th>\n",
       "      <td>0.000393</td>\n",
       "      <td>0.001719</td>\n",
       "      <td>0.000261</td>\n",
       "      <td>0.000413</td>\n",
       "      <td>0.000040</td>\n",
       "      <td>0.000000</td>\n",
       "      <td>0.0</td>\n",
       "      <td>0.002352</td>\n",
       "      <td>0.004810</td>\n",
       "      <td>0.000000</td>\n",
       "      <td>0.000181</td>\n",
       "      <td>0.000095</td>\n",
       "      <td>0.028021</td>\n",
       "      <td>0.0</td>\n",
       "    </tr>\n",
       "    <tr>\n",
       "      <th>20346</th>\n",
       "      <td>0.000589</td>\n",
       "      <td>0.001870</td>\n",
       "      <td>0.000336</td>\n",
       "      <td>0.000282</td>\n",
       "      <td>0.000054</td>\n",
       "      <td>0.000000</td>\n",
       "      <td>0.0</td>\n",
       "      <td>0.002341</td>\n",
       "      <td>0.005994</td>\n",
       "      <td>0.000535</td>\n",
       "      <td>0.000194</td>\n",
       "      <td>0.000084</td>\n",
       "      <td>0.024175</td>\n",
       "      <td>0.0</td>\n",
       "    </tr>\n",
       "    <tr>\n",
       "      <th>20347</th>\n",
       "      <td>0.000474</td>\n",
       "      <td>0.002158</td>\n",
       "      <td>0.000263</td>\n",
       "      <td>0.000331</td>\n",
       "      <td>0.000056</td>\n",
       "      <td>0.000061</td>\n",
       "      <td>0.0</td>\n",
       "      <td>0.002367</td>\n",
       "      <td>0.005818</td>\n",
       "      <td>0.000713</td>\n",
       "      <td>0.000213</td>\n",
       "      <td>0.000075</td>\n",
       "      <td>0.026791</td>\n",
       "      <td>0.0</td>\n",
       "    </tr>\n",
       "  </tbody>\n",
       "</table>\n",
       "<p>2976 rows × 14 columns</p>\n",
       "</div>"
      ],
      "text/plain": [
       "       zs_preislerova  zs_komenskeho  ms_preislerova  ms_pod_homolkou  \\\n",
       "17372        0.000785       0.002508        0.000443         0.001529   \n",
       "17373        0.000981       0.002502        0.000267         0.000911   \n",
       "17374        0.000785       0.001828        0.000596         0.000359   \n",
       "17375        0.000867       0.001620        0.000333         0.000702   \n",
       "17376        0.000785       0.002166        0.000364         0.000664   \n",
       "...               ...            ...             ...              ...   \n",
       "20343        0.000589       0.001595        0.000366         0.000115   \n",
       "20344        0.000670       0.002167        0.000243         0.000267   \n",
       "20345        0.000393       0.001719        0.000261         0.000413   \n",
       "20346        0.000589       0.001870        0.000336         0.000282   \n",
       "20347        0.000474       0.002158        0.000263         0.000331   \n",
       "\n",
       "       ms_vrchlickeho  ms_drasarova  ms_na_machovne  zimni_stad  \\\n",
       "17372        0.000061      0.000159             0.0    0.000717   \n",
       "17373        0.000136      0.000153             0.0    0.000730   \n",
       "17374        0.000090      0.000171             0.0    0.000704   \n",
       "17375        0.000085      0.000105             0.0    0.000776   \n",
       "17376        0.000021      0.000006             0.0    0.001080   \n",
       "...               ...           ...             ...         ...   \n",
       "20343        0.000056      0.000106             0.0    0.002367   \n",
       "20344        0.000022      0.000008             0.0    0.002286   \n",
       "20345        0.000040      0.000000             0.0    0.002352   \n",
       "20346        0.000054      0.000000             0.0    0.002341   \n",
       "20347        0.000056      0.000061             0.0    0.002367   \n",
       "\n",
       "       parkovaci_dum   radnice  ms_tovarni  dum_pro_duchodce  plavecky_areal  \\\n",
       "17372       0.002726  0.000356    0.000651          0.000058        0.022678   \n",
       "17373       0.002411  0.000416    0.000560          0.000045        0.023199   \n",
       "17374       0.002586  0.000475    0.000609          0.000070        0.022930   \n",
       "17375       0.002557  0.001307    0.000579          0.000064        0.020433   \n",
       "17376       0.002762  0.000713    0.000231          0.000042        0.022689   \n",
       "...              ...       ...         ...               ...             ...   \n",
       "20343       0.005488  0.000000    0.000216          0.000114        0.027565   \n",
       "20344       0.006280  0.000000    0.000206          0.000088        0.024151   \n",
       "20345       0.004810  0.000000    0.000181          0.000095        0.028021   \n",
       "20346       0.005994  0.000535    0.000194          0.000084        0.024175   \n",
       "20347       0.005818  0.000713    0.000213          0.000075        0.026791   \n",
       "\n",
       "       pristavba_preislerova  \n",
       "17372                    0.0  \n",
       "17373                    0.0  \n",
       "17374                    0.0  \n",
       "17375                    0.0  \n",
       "17376                    0.0  \n",
       "...                      ...  \n",
       "20343                    0.0  \n",
       "20344                    0.0  \n",
       "20345                    0.0  \n",
       "20346                    0.0  \n",
       "20347                    0.0  \n",
       "\n",
       "[2976 rows x 14 columns]"
      ]
     },
     "execution_count": 86,
     "metadata": {},
     "output_type": "execute_result"
    }
   ],
   "source": [
    "deficit_df[[ col for col in excess_df.columns[1:] ]]"
   ]
  },
  {
   "cell_type": "code",
   "execution_count": 87,
   "metadata": {},
   "outputs": [],
   "source": [
    "optimal = 0\n",
    "for time_stamp in deficit_df['timestamp']:\n",
    "    df1 =deficit_df[deficit_df['timestamp'] == time_stamp][[col for col in deficit_df.columns[1:] ]]\n",
    "    df2 = excess_df[excess_df['timestamp'] == time_stamp][[col for col in excess_df.columns[1:] ]]\n",
    "\n",
    "    optimal += np.max([ \n",
    "                        df1.sum().sum() - df2[[col for col in excess_df.columns[1:]]].sum().sum(),\n",
    "                    0])\n"
   ]
  },
  {
   "cell_type": "code",
   "execution_count": 88,
   "metadata": {},
   "outputs": [
    {
     "name": "stdout",
     "output_type": "stream",
     "text": [
      "97.37187323577675\n"
     ]
    }
   ],
   "source": [
    "print(optimal)"
   ]
  },
  {
   "cell_type": "code",
   "execution_count": 1,
   "metadata": {},
   "outputs": [
    {
     "ename": "NameError",
     "evalue": "name 'excess_df' is not defined",
     "output_type": "error",
     "traceback": [
      "\u001b[0;31m---------------------------------------------------------------------------\u001b[0m",
      "\u001b[0;31mNameError\u001b[0m                                 Traceback (most recent call last)",
      "Cell \u001b[0;32mIn[1], line 10\u001b[0m\n\u001b[1;32m      4\u001b[0m \u001b[38;5;28;01mimport\u001b[39;00m \u001b[38;5;21;01mpickle\u001b[39;00m\n\u001b[1;32m      6\u001b[0m \u001b[38;5;66;03m# -----------------------------\u001b[39;00m\n\u001b[1;32m      7\u001b[0m \u001b[38;5;66;03m# Data Inputs\u001b[39;00m\n\u001b[1;32m      8\u001b[0m \u001b[38;5;66;03m# -----------------------------\u001b[39;00m\n\u001b[1;32m      9\u001b[0m \u001b[38;5;66;03m# Load energy data (15-min interval time-series)\u001b[39;00m\n\u001b[0;32m---> 10\u001b[0m excess \u001b[38;5;241m=\u001b[39m \u001b[43mexcess_df\u001b[49m\u001b[38;5;241m.\u001b[39mcopy()\n\u001b[1;32m     11\u001b[0m deficit \u001b[38;5;241m=\u001b[39m deficit_df\u001b[38;5;241m.\u001b[39mcopy()\n\u001b[1;32m     13\u001b[0m \u001b[38;5;66;03m# Convert DataFrames to numpy arrays\u001b[39;00m\n",
      "\u001b[0;31mNameError\u001b[0m: name 'excess_df' is not defined"
     ]
    }
   ],
   "source": [
    "import pandas as pd\n",
    "import numpy as np\n",
    "import pulp\n",
    "import pickle\n",
    "\n",
    "# -----------------------------\n",
    "# Data Inputs\n",
    "# -----------------------------\n",
    "# Load energy data (15-min interval time-series)\n",
    "excess = excess_df.copy()\n",
    "deficit = deficit_df.copy()\n",
    "\n",
    "# Convert DataFrames to numpy arrays\n",
    "producer_supply = excess.values    # shape: (2880, num_producers)\n",
    "consumer_demand = deficit.values     # shape: (2880, num_consumers)\n",
    "\n",
    "num_timesteps, num_producers = producer_supply.shape\n",
    "_, num_consumers = consumer_demand.shape\n",
    "\n",
    "# -----------------------------\n",
    "# MILP Model Setup\n",
    "# -----------------------------\n",
    "model = pulp.LpProblem(\"Energy_Distribution\", pulp.LpMinimize)\n",
    "\n",
    "# Decision Variables:\n",
    "# x[p,s,t] is the amount of energy allocated from producer p to consumer s at time t.\n",
    "# It is continuous and nonnegative.\n",
    "x = pulp.LpVariable.dicts(\"x\", \n",
    "        ((p, s, t) for p in range(num_producers) \n",
    "                     for s in range(num_consumers) \n",
    "                     for t in range(num_timesteps)),\n",
    "        lowBound=0, cat='Continuous')\n",
    "\n",
    "# y[p,s] is a binary variable indicating whether consumer s is connected to producer p.\n",
    "y = pulp.LpVariable.dicts(\"y\", \n",
    "        ((p, s) for p in range(num_producers) \n",
    "                 for s in range(num_consumers)),\n",
    "        cat='Binary')\n",
    "\n",
    "# For this example, we initialize random preferences for each potential connection.\n",
    "# Preferences: 5 = highest priority, 1 = lowest. (y[p,s]==0 will imply no connection.)\n",
    "np.random.seed(0)\n",
    "preference = {(p, s): np.random.randint(1, 6) \n",
    "              for p in range(num_producers) for s in range(num_consumers)}\n",
    "\n",
    "# For later use in the objective, we define a penalty for lower priority use.\n",
    "# Here, we set penalty = (6 - preference). So a connection with preference 5 incurs a penalty of 1.\n",
    "penalty = {(p, s): 6 - preference[(p, s)] \n",
    "           for p in range(num_producers) for s in range(num_consumers)}\n",
    "\n",
    "# A big M value for linking allocations to connections.\n",
    "M = max(consumer_demand.max(), producer_supply.max())\n",
    "\n",
    "# -----------------------------\n",
    "# Model Constraints\n",
    "# -----------------------------\n",
    "# 1. Producer supply: At every time step, the sum of energy allocated from a producer cannot exceed its available supply.\n",
    "for p in range(num_producers):\n",
    "    for t in range(num_timesteps):\n",
    "        model += (pulp.lpSum(x[(p, s, t)] for s in range(num_consumers))\n",
    "                  <= producer_supply[t, p]), f\"ProducerSupply_p{p}_t{t}\"\n",
    "\n",
    "# 2. Consumer demand: At every time step, the sum of energy received by a consumer cannot exceed its demand.\n",
    "for s in range(num_consumers):\n",
    "    for t in range(num_timesteps):\n",
    "        model += (pulp.lpSum(x[(p, s, t)] for p in range(num_producers))\n",
    "                  <= consumer_demand[t, s]), f\"ConsumerDemand_s{s}_t{t}\"\n",
    "\n",
    "# 3. Connection enforcement: Energy can be allocated from producer p to consumer s only if there is a connection.\n",
    "for p in range(num_producers):\n",
    "    for s in range(num_consumers):\n",
    "        for t in range(num_timesteps):\n",
    "            model += x[(p, s, t)] <= M * y[(p, s)], f\"Connection_p{p}_s{s}_t{t}\"\n",
    "\n",
    "# 4. Limit on connections: Each consumer may only be connected to up to 5 producers.\n",
    "for s in range(num_consumers):\n",
    "    model += (pulp.lpSum(y[(p, s)] for p in range(num_producers)) <= 5), f\"MaxConnections_s{s}\"\n",
    "\n",
    "# 5. (Optional) To favor high-preference connections, we include a penalty term in the objective.\n",
    "#    (An alternative would be to enforce strict ordering constraints, but that adds complexity.)\n",
    "\n",
    "# -----------------------------\n",
    "# Objective Function\n",
    "# -----------------------------\n",
    "# Our goal is to minimize the total unredistributed energy over the month.\n",
    "# This is the sum of:\n",
    "#   a) Producer leftover energy: available supply minus allocated energy.\n",
    "#   b) Consumer unmet demand: demand minus energy received.\n",
    "# In addition, we add a penalty weighted by the preference (i.e. using a low-priority connection incurs extra cost).\n",
    "leftover_supply = pulp.lpSum(\n",
    "    producer_supply[t, p] - pulp.lpSum(x[(p, s, t)] for s in range(num_consumers))\n",
    "    for p in range(num_producers) for t in range(num_timesteps))\n",
    "\n",
    "unmet_demand = pulp.lpSum(\n",
    "    consumer_demand[t, s] - pulp.lpSum(x[(p, s, t)] for p in range(num_producers))\n",
    "    for s in range(num_consumers) for t in range(num_timesteps))\n",
    "\n",
    "penalty_term = pulp.lpSum(\n",
    "    penalty[(p, s)] * x[(p, s, t)]\n",
    "    for p in range(num_producers) for s in range(num_consumers) for t in range(num_timesteps))\n",
    "\n",
    "model += leftover_supply + unmet_demand + penalty_term, \"Total_Unredistributed_Energy\"\n",
    "\n",
    "# -----------------------------\n",
    "# Solve the MILP\n",
    "# -----------------------------\n",
    "model.solve(pulp.PULP_CBC_CMD())\n",
    "\n",
    "# -----------------------------\n",
    "# Extract and Process Results\n",
    "# -----------------------------\n",
    "# Allocation matrix (x): dimensions (time, producer, consumer)\n",
    "optimal_x = np.zeros((num_timesteps, num_producers, num_consumers))\n",
    "for p in range(num_producers):\n",
    "    for s in range(num_consumers):\n",
    "        for t in range(num_timesteps):\n",
    "            optimal_x[t, p, s] = pulp.value(x[(p, s, t)])\n",
    "\n",
    "# Connection matrix (y): dimensions (producer, consumer)\n",
    "optimal_y = np.zeros((num_producers, num_consumers))\n",
    "for p in range(num_producers):\n",
    "    for s in range(num_consumers):\n",
    "        optimal_y[p, s] = pulp.value(y[(p, s)])\n",
    "\n",
    "# Compute total unredistributed energy\n",
    "total_unredistributed_energy = 0\n",
    "for t in range(num_timesteps):\n",
    "    for p in range(num_producers):\n",
    "        leftover = producer_supply[t, p] - sum(optimal_x[t, p, s] for s in range(num_consumers))\n",
    "        total_unredistributed_energy += leftover\n",
    "    for s in range(num_consumers):\n",
    "        unmet = consumer_demand[t, s] - sum(optimal_x[t, p, s] for p in range(num_producers))\n",
    "        total_unredistributed_energy += unmet\n",
    "\n",
    "# Breakdown: Aggregate unmet demand per consumer and leftover energy per producer\n",
    "consumer_unmet = {s: 0 for s in range(num_consumers)}\n",
    "producer_leftover = {p: 0 for p in range(num_producers)}\n",
    "\n",
    "for s in range(num_consumers):\n",
    "    for t in range(num_timesteps):\n",
    "        consumer_unmet[s] += consumer_demand[t, s] - sum(optimal_x[t, p, s] for p in range(num_producers))\n",
    "for p in range(num_producers):\n",
    "    for t in range(num_timesteps):\n",
    "        producer_leftover[p] += producer_supply[t, p] - sum(optimal_x[t, p, s] for s in range(num_consumers))\n",
    "\n",
    "# -----------------------------\n",
    "# Output the Results to a File\n",
    "# -----------------------------\n",
    "output = {\n",
    "    \"optimal_weight_matrix\": optimal_x,           # x serves as the allocation (proxy for weight distribution)\n",
    "    \"optimal_connection_matrix\": optimal_y,         # y indicates which connections (i.e. preferences) are used\n",
    "    \"total_unredistributed_energy\": total_unredistributed_energy,\n",
    "    \"consumer_unmet_demand\": consumer_unmet,\n",
    "    \"producer_leftover_energy\": producer_leftover\n",
    "}\n",
    "\n",
    "with open(\"energy_distribution_output.pkl\", \"wb\") as f:\n",
    "    pickle.dump(output, f)\n",
    "\n",
    "print(\"MILP model solved. Output saved to energy_distribution_output.pkl\")\n"
   ]
  },
  {
   "cell_type": "code",
   "execution_count": null,
   "metadata": {},
   "outputs": [],
   "source": []
  },
  {
   "cell_type": "code",
   "execution_count": null,
   "metadata": {},
   "outputs": [],
   "source": []
  }
 ],
 "metadata": {
  "kernelspec": {
   "display_name": ".venv",
   "language": "python",
   "name": "python3"
  },
  "language_info": {
   "codemirror_mode": {
    "name": "ipython",
    "version": 3
   },
   "file_extension": ".py",
   "mimetype": "text/x-python",
   "name": "python",
   "nbconvert_exporter": "python",
   "pygments_lexer": "ipython3",
   "version": "3.12.3"
  }
 },
 "nbformat": 4,
 "nbformat_minor": 2
}
