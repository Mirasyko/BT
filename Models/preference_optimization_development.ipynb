{
 "cells": [
  {
   "cell_type": "markdown",
   "id": "5e256dc9",
   "metadata": {},
   "source": [
    "# Optimizing preference matrix\n",
    "\n",
    "The first step was to optimize weights, now we need to optimize preferences, so that the allocation is even greater (better).\n",
    "\n",
    "## Problem definition\n",
    "\n",
    "We have 14 producers and 14 consumers, we need to find the best possible preference dataframe (Prods X Cons) so that we minimize undistributed energy. The dataframe row has only 5 non-zero entries, which can have to be distinct numbers from set {1, 2, 3, 4, 5}.\n",
    "\n",
    "```\n",
    "example:\n",
    "                Producers\n",
    "                0\t1\t2\t3\t4\t5\t6\t7\n",
    "        0\t0.0\t5.0\t3.0\t0.0\t2.0\t1.0\t4.0\t0.0\n",
    "        1\t4.0\t0.0\t5.0\t0.0\t1.0\t0.0\t3.0\t2.0\n",
    "Cons    2\t0.0\t0.0\t0.0\t4.0\t5.0\t3.0\t1.0\t2.0\n",
    "        3\t1.0\t0.0\t4.0\t0.0\t0.0\t2.0\t3.0\t5.0\n",
    "        4\t0.0\t3.0\t2.0\t4.0\t0.0\t5.0\t0.0\t1.0\n",
    "        5\t4.0\t2.0\t3.0\t5.0\t0.0\t0.0\t0.0\t1.0\n",
    "        6\t0.0\t4.0\t2.0\t0.0\t1.0\t3.0\t0.0\t5.0\n",
    "```\n",
    "\n",
    "How good the matrix is will be determined in a process:\n",
    "\n",
    "1. Input matrix\n",
    "2. Calculate weights -> based on optimization algorithm\n",
    "3. Calculate sum of unsatisfied demand and unallocated energy and that is the fitness\n",
    "\n"
   ]
  },
  {
   "cell_type": "code",
   "execution_count": 1,
   "id": "ea0d7b0f",
   "metadata": {},
   "outputs": [],
   "source": [
    "from weights_optimization_model import optimize_weights\n",
    "import utils as ut\n",
    "import preference_optimization as po\n",
    "import time\n",
    "import numpy as np"
   ]
  },
  {
   "cell_type": "code",
   "execution_count": 2,
   "id": "17b2c649",
   "metadata": {},
   "outputs": [],
   "source": [
    "data_dir = '/home/miro/Bachelor/BT/data/outputs/'\n",
    "excess_monthly, deficit_monthly = ut.load_excess_deficit(data_dir)\n",
    "\n",
    "month = 4 # May\n",
    "start = 0\n",
    "end   = 1800 # Whole month non zero production or consumption\n",
    "\n",
    "excess_df, deficit_df = ut.prepare_data(excess_monthly, deficit_monthly, month, start, end)\n",
    "producers = excess_df.columns\n",
    "consumers = deficit_df.columns\n",
    "\n",
    "producers = list(excess_df.columns)\n",
    "consumers = list(deficit_df.columns)"
   ]
  },
  {
   "cell_type": "code",
   "execution_count": null,
   "id": "130f04fb",
   "metadata": {},
   "outputs": [
    {
     "name": "stdout",
     "output_type": "stream",
     "text": [
      "Set parameter Username\n",
      "Set parameter LicenseID to value 2652867\n",
      "Academic license - for non-commercial use only - expires 2026-04-15\n",
      "Objective function: 159.12753983462304\n",
      "fitness: unsatisfied_demand     22.060502\n",
      "available_energy      137.662956\n",
      "Total                 159.723458\n",
      "dtype: float64\n"
     ]
    }
   ],
   "source": [
    "preference_df = ut.generate_preferences(producers, consumers)\n",
    "preference_df = preference_df.loc[producers,consumers]\n",
    "\n",
    "opt_result = optimize_weights(excess_df, deficit_df, preference_df)\n",
    "weights, unmet_demand, unused_supply = opt_result\n",
    "fitness_score = ut.fitness(weights, preference_df, excess_df, deficit_df)\n",
    "\n",
    "print(f'Objective function: {unmet_demand + unused_supply}')\n",
    "print(f'fitness: {fitness_score}')\n",
    "\n",
    "# BEST there could be np.float64(150.17971183115088)"
   ]
  },
  {
   "cell_type": "code",
   "execution_count": null,
   "id": "88452031",
   "metadata": {},
   "outputs": [],
   "source": [
    "ga_params = {\n",
    "    'generations': 20,\n",
    "    'population_size': 30,\n",
    "    'mutation_rate': 0.1,\n",
    "    'crossover_rate': 0.8,\n",
    "    'tournament_size': 5,\n",
    "    'elitism_count': 2,\n",
    "    'mutation_type': 'granular', \n",
    "    'initial_non_zero': 5\n",
    "}\n",
    "\n",
    "ga_result, ga_score, population = po.run_genetic_algorithm(\n",
    "    excess_df, deficit_df, **ga_params\n",
    ")"
   ]
  },
  {
   "cell_type": "code",
   "execution_count": null,
   "id": "2fb75e9f",
   "metadata": {},
   "outputs": [
    {
     "name": "stdout",
     "output_type": "stream",
     "text": [
      "unsatisfied_demand     18.407465\n",
      "available_energy      134.009920\n",
      "Total                 152.417384\n",
      "dtype: float64\n"
     ]
    }
   ],
   "source": [
    "opt_result = optimize_weights(excess_df, deficit_df, ga_result)\n",
    "weights, unmet_demand, unused_supply = opt_result\n",
    "fitness_score = ut.fitness(weights, ga_result, excess_df, deficit_df)\n",
    "print(fitness_score)\n",
    "\n",
    "# BEST there could be np.float64(150.17971183115088)\n",
    "# OPTIMIZED: 152.417384"
   ]
  },
  {
   "cell_type": "code",
   "execution_count": 4,
   "id": "040442d2",
   "metadata": {},
   "outputs": [
    {
     "name": "stdout",
     "output_type": "stream",
     "text": [
      "Loading data from: /home/miro/Bachelor/BT/data/outputs/\n",
      "Reference (Sum of Abs Imbalances per Time Step): 1.6439\n"
     ]
    }
   ],
   "source": [
    "# Test on small dataset\n",
    "\n",
    "data_dir = '/home/miro/Bachelor/BT/data/outputs/' \n",
    "output_dir = '/home/miro/Bachelor/BT/Models/outputs/'\n",
    "\n",
    "print(f\"Loading data from: {data_dir}\")\n",
    "excess_monthly, deficit_monthly = ut.load_excess_deficit(data_dir)\n",
    "\n",
    "month = 4\n",
    "start_day = 0 \n",
    "end_day   = 20\n",
    "\n",
    "\n",
    "excess_df, deficit_df = ut.prepare_data(excess_monthly, deficit_monthly, month, start_day, end_day)\n",
    "ideal_min_imbalance = np.abs(excess_df.sum(axis=1) - deficit_df.sum(axis=1)).sum()\n",
    "print(f'Reference (Sum of Abs Imbalances per Time Step): {ideal_min_imbalance:.4f}')"
   ]
  },
  {
   "cell_type": "code",
   "execution_count": 5,
   "id": "e3017841",
   "metadata": {},
   "outputs": [
    {
     "name": "stdout",
     "output_type": "stream",
     "text": [
      "\n",
      "==============================\n",
      "Running Genetic Algorithm\n",
      "==============================\n",
      "GA Parameters:\n",
      "  generations: 10\n",
      "  population_size: 15\n",
      "  mutation_rate: 0.1\n",
      "  crossover_rate: 0.8\n",
      "  tournament_size: 5\n",
      "  elitism_count: 2\n",
      "  mutation_type: granular\n",
      "  initial_non_zero: 5\n",
      "GA: Initializing population...\n",
      "GA: Starting Generation 1/10\n",
      "GA: New best fitness found: 1.6467\n",
      "GA: Generation 1 finished in 24.76 seconds. Best fitness: 1.6467\n",
      "GA: Starting Generation 2/10\n",
      "GA: New best fitness found: 1.6456\n",
      "GA: Generation 2 finished in 24.17 seconds. Best fitness: 1.6456\n",
      "GA: Starting Generation 3/10\n",
      "GA: Generation 3 finished in 27.46 seconds. Best fitness: 1.6456\n",
      "GA: Starting Generation 4/10\n",
      "GA: New best fitness found: 1.6454\n",
      "GA: Generation 4 finished in 25.35 seconds. Best fitness: 1.6454\n",
      "GA: Starting Generation 5/10\n",
      "GA: Generation 5 finished in 23.48 seconds. Best fitness: 1.6454\n",
      "GA: Starting Generation 6/10\n",
      "GA: New best fitness found: 1.6454\n",
      "GA: Generation 6 finished in 23.57 seconds. Best fitness: 1.6454\n",
      "GA: Starting Generation 7/10\n",
      "GA: New best fitness found: 1.6453\n",
      "GA: Generation 7 finished in 22.75 seconds. Best fitness: 1.6453\n",
      "GA: Starting Generation 8/10\n",
      "GA: New best fitness found: 1.6452\n",
      "GA: Generation 8 finished in 22.72 seconds. Best fitness: 1.6452\n",
      "GA: Starting Generation 9/10\n",
      "GA: New best fitness found: 1.6449\n",
      "GA: Generation 9 finished in 23.24 seconds. Best fitness: 1.6449\n",
      "GA: Starting Generation 10/10\n",
      "GA: Generation 10 finished in 22.14 seconds. Best fitness: 1.6449\n",
      "GA: Final best fitness: 1.6449\n",
      "GA Score: 1.6449\n",
      "GA Time: 4.0199 minutes\n"
     ]
    }
   ],
   "source": [
    "print(\"\\n\" + \"=\"*30)\n",
    "print(\"Running Genetic Algorithm\")\n",
    "print(\"=\"*30)\n",
    "ga_params = {\n",
    "    'generations': 10,\n",
    "    'population_size': 15,\n",
    "    'mutation_rate': 0.1,\n",
    "    'crossover_rate': 0.8,\n",
    "    'tournament_size': 5,\n",
    "    'elitism_count': 2,\n",
    "    'mutation_type': 'granular', \n",
    "    'initial_non_zero': 5\n",
    "}\n",
    "print(\"GA Parameters:\")\n",
    "for k, v in ga_params.items():\n",
    "    print(f\"  {k}: {v}\")\n",
    "\n",
    "ga_start = time.time()\n",
    "ga_result, ga_score, ga_final_population = po.run_genetic_algorithm(\n",
    "    excess_df, deficit_df, **ga_params\n",
    ")\n",
    "ga_end = time.time()\n",
    "\n",
    "final_ga_score = po.evaluate_matrix(ga_result, excess_df, deficit_df)\n",
    "print(f'GA Score: {final_ga_score:.4f}')\n",
    "print(f'GA Time: {(ga_end - ga_start) / 60:.4f} minutes')\n"
   ]
  },
  {
   "cell_type": "code",
   "execution_count": 6,
   "id": "34850428",
   "metadata": {},
   "outputs": [
    {
     "name": "stdout",
     "output_type": "stream",
     "text": [
      "\n",
      "==============================\n",
      "Running Simulated Annealing\n",
      "==============================\n",
      "SA Parameters:\n",
      "  iters: 350\n",
      "  init_temp: 100.0\n",
      "  decay: 0.96\n",
      "  mutation_type: granular\n",
      "  initial_non_zero: 5\n",
      "SA: Initial fitness: 2.0187, Initial Temp: 100.0, Decay: 0.96\n",
      "SA: Iter 11/350 - New best: 2.0181\n",
      "SA: Iter 14/350 - New best: 2.0181\n",
      "SA: Iter 26/350 - New best: 1.8835\n",
      "SA: Iter 35/350 — Current best: 1.8835, Current fit: 1.8835, T=23.960350\n",
      "SA: Iter 70/350 — Current best: 1.8835, Current fit: 2.1506, T=5.740984\n",
      "SA: Iter 104/350 - New best: 1.6750\n",
      "SA: Iter 105/350 — Current best: 1.6750, Current fit: 1.6750, T=1.375560\n",
      "SA: Iter 109/350 - New best: 1.6545\n",
      "SA: Iter 110/350 - New best: 1.6545\n",
      "SA: Iter 119/350 - New best: 1.6518\n",
      "SA: Iter 123/350 - New best: 1.6517\n",
      "SA: Iter 128/350 - New best: 1.6510\n",
      "SA: Iter 136/350 - New best: 1.6506\n",
      "SA: Iter 140/350 — Current best: 1.6506, Current fit: 1.6506, T=0.329589\n",
      "SA: Iter 143/350 - New best: 1.6506\n",
      "SA: Iter 175/350 — Current best: 1.6506, Current fit: 1.6992, T=0.078971\n",
      "SA: Iter 210/350 — Current best: 1.6506, Current fit: 1.6725, T=0.018922\n",
      "SA: Iter 245/350 — Current best: 1.6506, Current fit: 1.6712, T=0.004534\n",
      "SA: Iter 280/350 — Current best: 1.6506, Current fit: 1.6691, T=0.001086\n",
      "SA: Iter 315/350 — Current best: 1.6506, Current fit: 1.6672, T=0.000260\n",
      "SA: Iter 350/350 — Current best: 1.6506, Current fit: 1.6650, T=0.000062\n",
      "SA: Final best fitness: 1.6506\n",
      "SA Score: 1.6506\n",
      "SA Time: 9.8715 minutes\n"
     ]
    }
   ],
   "source": [
    "# --- Run Simulated Annealing ---\n",
    "print(\"\\n\" + \"=\"*30)\n",
    "print(\"Running Simulated Annealing\")\n",
    "print(\"=\"*30)\n",
    "sa_params = {\n",
    "    'iters': 350,          \n",
    "    'init_temp': 100.0,\n",
    "    'decay': 0.96,          \n",
    "    'mutation_type': 'granular',\n",
    "    'initial_non_zero': 5 \n",
    "}\n",
    "\n",
    "print(\"SA Parameters:\")\n",
    "\n",
    "for k, v in sa_params.items():\n",
    "    print(f\"  {k}: {v}\")\n",
    "\n",
    "sa_start = time.time()\n",
    "sa_result, sa_score = po.simulated_annealing(\n",
    "    excess_df, deficit_df, **sa_params\n",
    ")\n",
    "sa_end = time.time()\n",
    "\n",
    "final_sa_score = po.evaluate_matrix(sa_result, excess_df, deficit_df)\n",
    "print(f'SA Score: {final_sa_score:.4f}')\n",
    "print(f'SA Time: {(sa_end - sa_start)/60:.4f} minutes')"
   ]
  },
  {
   "cell_type": "code",
   "execution_count": 7,
   "id": "07551966",
   "metadata": {},
   "outputs": [
    {
     "name": "stdout",
     "output_type": "stream",
     "text": [
      "\n",
      "==============================\n",
      "Running Local Search (Hill Climbing)\n",
      "==============================\n",
      "HC Parameters:\n",
      "  iters: 350\n",
      "  mutation_type: granular\n",
      "  initial_non_zero: 5\n",
      "HC: Initial fitness: 1.6885\n",
      "HC: Iter 35/350 — Current best: 1.6848\n",
      "HC: Iter 70/350 — Current best: 1.6822\n",
      "HC: Iter 105/350 — Current best: 1.6484\n",
      "HC: Iter 140/350 — Current best: 1.6471\n",
      "HC: Iter 175/350 — Current best: 1.6470\n",
      "HC: Iter 210/350 — Current best: 1.6470\n",
      "HC: Iter 245/350 — Current best: 1.6467\n",
      "HC: Iter 280/350 — Current best: 1.6466\n",
      "HC: Iter 315/350 — Current best: 1.6461\n",
      "HC: Iter 350/350 — Current best: 1.6461\n",
      "HC: Final best fitness: 1.6461\n",
      "LC Score: 1.6461\n",
      "LC Time: 9.0594 minutes\n"
     ]
    }
   ],
   "source": [
    "\n",
    "\n",
    "# --- Run Hill Climbing ---\n",
    "print(\"\\n\" + \"=\"*30)\n",
    "print(\"Running Local Search (Hill Climbing)\")\n",
    "print(\"=\"*30)\n",
    "lc_params = {\n",
    "    'iters': 350,\n",
    "    'mutation_type': 'granular',\n",
    "    'initial_non_zero': 5\n",
    "}\n",
    "\n",
    "print(\"HC Parameters:\")\n",
    "for k, v in lc_params.items():\n",
    "    print(f\"  {k}: {v}\")\n",
    "\n",
    "lc_start = time.time()\n",
    "lc_result, lc_score = po.hill_climb(\n",
    "    excess_df, deficit_df, **lc_params\n",
    ")\n",
    "lc_end = time.time()\n",
    "\n",
    "final_lc_score = po.evaluate_matrix(lc_result, excess_df, deficit_df)\n",
    "print(f'LC Score: {final_lc_score:.4f}')\n",
    "print(f'LC Time: {(lc_end - lc_start) / 60 :.4f} minutes')"
   ]
  },
  {
   "cell_type": "code",
   "execution_count": null,
   "id": "530c84b8",
   "metadata": {},
   "outputs": [],
   "source": [
    "ga_weights, _, _ = optimize_weights(excess_df, deficit_df, ga_result)\n",
    "sa_weights, _, _ = optimize_weights(excess_df, deficit_df, sa_result)\n",
    "lc_weights, _, _ = optimize_weights(excess_df, deficit_df, lc_result)"
   ]
  }
 ],
 "metadata": {
  "kernelspec": {
   "display_name": ".venv",
   "language": "python",
   "name": "python3"
  },
  "language_info": {
   "codemirror_mode": {
    "name": "ipython",
    "version": 3
   },
   "file_extension": ".py",
   "mimetype": "text/x-python",
   "name": "python",
   "nbconvert_exporter": "python",
   "pygments_lexer": "ipython3",
   "version": "3.12.3"
  }
 },
 "nbformat": 4,
 "nbformat_minor": 5
}
